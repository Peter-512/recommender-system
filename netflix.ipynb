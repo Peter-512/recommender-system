{
 "cells": [
  {
   "cell_type": "code",
   "execution_count": 67,
   "id": "initial_id",
   "metadata": {
    "collapsed": true,
    "ExecuteTime": {
     "end_time": "2023-11-01T12:58:49.208526Z",
     "start_time": "2023-11-01T12:58:49.198223Z"
    }
   },
   "outputs": [],
   "source": [
    "import pandas as pd\n",
    "import numpy as np\n",
    "from sklearn.model_selection import train_test_split\n",
    "from sklearn.neighbors import NearestNeighbors\n",
    "from sklearn.metrics import mean_squared_error\n",
    "from surprise import Dataset, Reader, KNNBasic, SVD\n",
    "from surprise.model_selection import cross_validate, train_test_split as surprise_train_test_split\n",
    "from sklearn.metrics.pairwise import cosine_similarity"
   ]
  },
  {
   "cell_type": "code",
   "execution_count": 2,
   "outputs": [
    {
     "name": "stdout",
     "output_type": "stream",
     "text": [
      "<class 'pandas.core.frame.DataFrame'>\n",
      "RangeIndex: 100480507 entries, 0 to 100480506\n",
      "Data columns (total 3 columns):\n",
      " #   Column   Dtype\n",
      "---  ------   -----\n",
      " 0   CustId   int64\n",
      " 1   Rating   int64\n",
      " 2   MovieId  int64\n",
      "dtypes: int64(3)\n",
      "memory usage: 2.2 GB\n"
     ]
    }
   ],
   "source": [
    "data = pd.read_csv('resources/netflix/Netflix_User_Ratings.csv', usecols=[0, 1, 3])\n",
    "data.info()"
   ],
   "metadata": {
    "collapsed": false,
    "ExecuteTime": {
     "end_time": "2023-11-01T11:48:51.504834Z",
     "start_time": "2023-11-01T11:48:38.618782Z"
    }
   },
   "id": "f2a2a5502379efb8"
  },
  {
   "cell_type": "code",
   "execution_count": 3,
   "outputs": [
    {
     "data": {
      "text/plain": "            CustId  Rating  MovieId\n0          1488844       3        1\n1           822109       5        1\n2           885013       4        1\n3            30878       4        1\n4           823519       3        1\n...            ...     ...      ...\n100480502  1790158       4    17770\n100480503  1608708       3    17770\n100480504   234275       1    17770\n100480505   255278       4    17770\n100480506   453585       2    17770\n\n[100480507 rows x 3 columns]",
      "text/html": "<div>\n<style scoped>\n    .dataframe tbody tr th:only-of-type {\n        vertical-align: middle;\n    }\n\n    .dataframe tbody tr th {\n        vertical-align: top;\n    }\n\n    .dataframe thead th {\n        text-align: right;\n    }\n</style>\n<table border=\"1\" class=\"dataframe\">\n  <thead>\n    <tr style=\"text-align: right;\">\n      <th></th>\n      <th>CustId</th>\n      <th>Rating</th>\n      <th>MovieId</th>\n    </tr>\n  </thead>\n  <tbody>\n    <tr>\n      <th>0</th>\n      <td>1488844</td>\n      <td>3</td>\n      <td>1</td>\n    </tr>\n    <tr>\n      <th>1</th>\n      <td>822109</td>\n      <td>5</td>\n      <td>1</td>\n    </tr>\n    <tr>\n      <th>2</th>\n      <td>885013</td>\n      <td>4</td>\n      <td>1</td>\n    </tr>\n    <tr>\n      <th>3</th>\n      <td>30878</td>\n      <td>4</td>\n      <td>1</td>\n    </tr>\n    <tr>\n      <th>4</th>\n      <td>823519</td>\n      <td>3</td>\n      <td>1</td>\n    </tr>\n    <tr>\n      <th>...</th>\n      <td>...</td>\n      <td>...</td>\n      <td>...</td>\n    </tr>\n    <tr>\n      <th>100480502</th>\n      <td>1790158</td>\n      <td>4</td>\n      <td>17770</td>\n    </tr>\n    <tr>\n      <th>100480503</th>\n      <td>1608708</td>\n      <td>3</td>\n      <td>17770</td>\n    </tr>\n    <tr>\n      <th>100480504</th>\n      <td>234275</td>\n      <td>1</td>\n      <td>17770</td>\n    </tr>\n    <tr>\n      <th>100480505</th>\n      <td>255278</td>\n      <td>4</td>\n      <td>17770</td>\n    </tr>\n    <tr>\n      <th>100480506</th>\n      <td>453585</td>\n      <td>2</td>\n      <td>17770</td>\n    </tr>\n  </tbody>\n</table>\n<p>100480507 rows × 3 columns</p>\n</div>"
     },
     "execution_count": 3,
     "metadata": {},
     "output_type": "execute_result"
    }
   ],
   "source": [
    "data"
   ],
   "metadata": {
    "collapsed": false,
    "ExecuteTime": {
     "end_time": "2023-11-01T11:48:51.541445Z",
     "start_time": "2023-11-01T11:48:51.502275Z"
    }
   },
   "id": "f7ab91f758f5f6b8"
  },
  {
   "cell_type": "code",
   "execution_count": 4,
   "outputs": [
    {
     "data": {
      "text/plain": "CustId\n305344     17653\n387418     17436\n2439493    16565\n1664010    15813\n2118461    14831\n           ...  \n1839823        1\n2400165        1\n2404631        1\n454275         1\n1808649        1\nName: count, Length: 480189, dtype: int64"
     },
     "execution_count": 4,
     "metadata": {},
     "output_type": "execute_result"
    }
   ],
   "source": [
    "# count the number of ratings per user\n",
    "data.CustId.value_counts()"
   ],
   "metadata": {
    "collapsed": false,
    "ExecuteTime": {
     "end_time": "2023-11-01T11:48:54.383338Z",
     "start_time": "2023-11-01T11:48:54.353623Z"
    }
   },
   "id": "73a149ed6f8a6e0f"
  },
  {
   "cell_type": "code",
   "execution_count": 5,
   "outputs": [
    {
     "name": "stdout",
     "output_type": "stream",
     "text": [
      "<class 'pandas.core.frame.DataFrame'>\n",
      "Index: 3311344 entries, 0 to 100480502\n",
      "Data columns (total 3 columns):\n",
      " #   Column   Dtype\n",
      "---  ------   -----\n",
      " 0   CustId   int64\n",
      " 1   Rating   int64\n",
      " 2   MovieId  int64\n",
      "dtypes: int64(3)\n",
      "memory usage: 101.1 MB\n"
     ]
    }
   ],
   "source": [
    "# filter out rows with less than 2000 ratings per user\n",
    "nx = data[data.CustId.isin(data.CustId.value_counts()[data.CustId.value_counts() >= 2_000].index)].copy()\n",
    "nx.info()"
   ],
   "metadata": {
    "collapsed": false,
    "ExecuteTime": {
     "end_time": "2023-11-01T11:49:00.747874Z",
     "start_time": "2023-11-01T11:48:56.622128Z"
    }
   },
   "id": "e7435972b329cf95"
  },
  {
   "cell_type": "code",
   "execution_count": 6,
   "outputs": [
    {
     "data": {
      "text/plain": "CustId\n305344     17653\n387418     17436\n2439493    16565\n1664010    15813\n2118461    14831\n           ...  \n977932      2002\n1441086     2002\n840763      2001\n2045846     2000\n79380       2000\nName: count, Length: 1214, dtype: int64"
     },
     "execution_count": 6,
     "metadata": {},
     "output_type": "execute_result"
    }
   ],
   "source": [
    "nx.CustId.value_counts()"
   ],
   "metadata": {
    "collapsed": false,
    "ExecuteTime": {
     "end_time": "2023-11-01T11:49:00.773815Z",
     "start_time": "2023-11-01T11:49:00.763210Z"
    }
   },
   "id": "ad13f7879bf0d819"
  },
  {
   "cell_type": "code",
   "execution_count": 7,
   "outputs": [
    {
     "data": {
      "text/plain": "          CustId  Rating  MovieId\n52762701    1333       4     9608\n1499499     1333       3      312\n77896920    1333       4    14173\n18093543    1333       3     3439\n8789496     1333       2     1754",
      "text/html": "<div>\n<style scoped>\n    .dataframe tbody tr th:only-of-type {\n        vertical-align: middle;\n    }\n\n    .dataframe tbody tr th {\n        vertical-align: top;\n    }\n\n    .dataframe thead th {\n        text-align: right;\n    }\n</style>\n<table border=\"1\" class=\"dataframe\">\n  <thead>\n    <tr style=\"text-align: right;\">\n      <th></th>\n      <th>CustId</th>\n      <th>Rating</th>\n      <th>MovieId</th>\n    </tr>\n  </thead>\n  <tbody>\n    <tr>\n      <th>52762701</th>\n      <td>1333</td>\n      <td>4</td>\n      <td>9608</td>\n    </tr>\n    <tr>\n      <th>1499499</th>\n      <td>1333</td>\n      <td>3</td>\n      <td>312</td>\n    </tr>\n    <tr>\n      <th>77896920</th>\n      <td>1333</td>\n      <td>4</td>\n      <td>14173</td>\n    </tr>\n    <tr>\n      <th>18093543</th>\n      <td>1333</td>\n      <td>3</td>\n      <td>3439</td>\n    </tr>\n    <tr>\n      <th>8789496</th>\n      <td>1333</td>\n      <td>2</td>\n      <td>1754</td>\n    </tr>\n  </tbody>\n</table>\n</div>"
     },
     "execution_count": 7,
     "metadata": {},
     "output_type": "execute_result"
    }
   ],
   "source": [
    "# sort on CustId\n",
    "nx.sort_values('CustId', inplace=True)\n",
    "nx.head()"
   ],
   "metadata": {
    "collapsed": false,
    "ExecuteTime": {
     "end_time": "2023-11-01T11:49:01.080961Z",
     "start_time": "2023-11-01T11:49:00.768422Z"
    }
   },
   "id": "faddcadb60c61e2d"
  },
  {
   "cell_type": "code",
   "execution_count": 8,
   "outputs": [],
   "source": [
    "# Create a dictionary to map unique customer IDs to new IDs\n",
    "id_mapping = {old_id: new_id for new_id, old_id in enumerate(nx['CustId'].unique(), start=1)}"
   ],
   "metadata": {
    "collapsed": false,
    "ExecuteTime": {
     "end_time": "2023-11-01T11:49:01.097443Z",
     "start_time": "2023-11-01T11:49:01.083591Z"
    }
   },
   "id": "69deebf5e22853f4"
  },
  {
   "cell_type": "code",
   "execution_count": 9,
   "outputs": [
    {
     "data": {
      "text/plain": "          CustId  Rating  MovieId\n52762701       1       4     9608\n1499499        1       3      312\n77896920       1       4    14173\n18093543       1       3     3439\n8789496        1       2     1754",
      "text/html": "<div>\n<style scoped>\n    .dataframe tbody tr th:only-of-type {\n        vertical-align: middle;\n    }\n\n    .dataframe tbody tr th {\n        vertical-align: top;\n    }\n\n    .dataframe thead th {\n        text-align: right;\n    }\n</style>\n<table border=\"1\" class=\"dataframe\">\n  <thead>\n    <tr style=\"text-align: right;\">\n      <th></th>\n      <th>CustId</th>\n      <th>Rating</th>\n      <th>MovieId</th>\n    </tr>\n  </thead>\n  <tbody>\n    <tr>\n      <th>52762701</th>\n      <td>1</td>\n      <td>4</td>\n      <td>9608</td>\n    </tr>\n    <tr>\n      <th>1499499</th>\n      <td>1</td>\n      <td>3</td>\n      <td>312</td>\n    </tr>\n    <tr>\n      <th>77896920</th>\n      <td>1</td>\n      <td>4</td>\n      <td>14173</td>\n    </tr>\n    <tr>\n      <th>18093543</th>\n      <td>1</td>\n      <td>3</td>\n      <td>3439</td>\n    </tr>\n    <tr>\n      <th>8789496</th>\n      <td>1</td>\n      <td>2</td>\n      <td>1754</td>\n    </tr>\n  </tbody>\n</table>\n</div>"
     },
     "execution_count": 9,
     "metadata": {},
     "output_type": "execute_result"
    }
   ],
   "source": [
    "# Map the customer IDs using the dictionary\n",
    "nx['CustId'] = nx['CustId'].map(id_mapping)\n",
    "nx.head()"
   ],
   "metadata": {
    "collapsed": false,
    "ExecuteTime": {
     "end_time": "2023-11-01T11:49:01.153777Z",
     "start_time": "2023-11-01T11:49:01.097938Z"
    }
   },
   "id": "e868b8f3c9e08d71"
  },
  {
   "cell_type": "code",
   "execution_count": 10,
   "outputs": [
    {
     "name": "stdout",
     "output_type": "stream",
     "text": [
      "Number of users: 1214 | Number of movies: 17768\n"
     ]
    }
   ],
   "source": [
    "print(f'Number of users: {nx.CustId.nunique()} | Number of movies: {nx.MovieId.nunique()}')"
   ],
   "metadata": {
    "collapsed": false,
    "ExecuteTime": {
     "end_time": "2023-11-01T11:49:01.162317Z",
     "start_time": "2023-11-01T11:49:01.123522Z"
    }
   },
   "id": "edd6f9f5336fc610"
  },
  {
   "cell_type": "code",
   "execution_count": 11,
   "outputs": [
    {
     "data": {
      "text/plain": "CustId\n135     17653\n183     17436\n1107    16565\n781     15813\n971     14831\n        ...  \n458      2002\n422      2002\n392      2001\n946      2000\n38       2000\nName: count, Length: 1214, dtype: int64"
     },
     "execution_count": 11,
     "metadata": {},
     "output_type": "execute_result"
    }
   ],
   "source": [
    "nx.CustId.value_counts()"
   ],
   "metadata": {
    "collapsed": false,
    "ExecuteTime": {
     "end_time": "2023-11-01T11:49:01.205475Z",
     "start_time": "2023-11-01T11:49:01.159207Z"
    }
   },
   "id": "15d718323f10c19"
  },
  {
   "cell_type": "code",
   "execution_count": 12,
   "outputs": [
    {
     "data": {
      "text/plain": "MovieId\n14691    1186\n4306     1183\n12918    1182\n2862     1180\n14410    1178\n         ... \n16875       1\n12959       1\n16013       1\n2537        1\n15480       1\nName: count, Length: 17768, dtype: int64"
     },
     "execution_count": 12,
     "metadata": {},
     "output_type": "execute_result"
    }
   ],
   "source": [
    "nx.MovieId.value_counts()"
   ],
   "metadata": {
    "collapsed": false,
    "ExecuteTime": {
     "end_time": "2023-11-01T11:49:01.244774Z",
     "start_time": "2023-11-01T11:49:01.183202Z"
    }
   },
   "id": "920db2ce91ea5ef0"
  },
  {
   "cell_type": "code",
   "execution_count": 13,
   "outputs": [
    {
     "name": "stdout",
     "output_type": "stream",
     "text": [
      "<class 'pandas.core.frame.DataFrame'>\n",
      "RangeIndex: 17770 entries, 0 to 17769\n",
      "Data columns (total 3 columns):\n",
      " #   Column       Non-Null Count  Dtype  \n",
      "---  ------       --------------  -----  \n",
      " 0   MovieId      17770 non-null  int64  \n",
      " 1   ReleaseYear  17763 non-null  float64\n",
      " 2   MovieTitle   17770 non-null  object \n",
      "dtypes: float64(1), int64(1), object(1)\n",
      "memory usage: 416.6+ KB\n"
     ]
    }
   ],
   "source": [
    "movies = pd.read_csv('resources/netflix/movies.csv')\n",
    "movies.info()"
   ],
   "metadata": {
    "collapsed": false,
    "ExecuteTime": {
     "end_time": "2023-11-01T11:49:01.247370Z",
     "start_time": "2023-11-01T11:49:01.191906Z"
    }
   },
   "id": "ec20504a25d4f88c"
  },
  {
   "cell_type": "code",
   "execution_count": 14,
   "outputs": [
    {
     "data": {
      "text/plain": "       MovieId  ReleaseYear                                         MovieTitle\n11147    11148       1996.0  The Land Before Time IV: Journey Through the M...\n13754    13755       2005.0                               Mobsters and Mormons",
      "text/html": "<div>\n<style scoped>\n    .dataframe tbody tr th:only-of-type {\n        vertical-align: middle;\n    }\n\n    .dataframe tbody tr th {\n        vertical-align: top;\n    }\n\n    .dataframe thead th {\n        text-align: right;\n    }\n</style>\n<table border=\"1\" class=\"dataframe\">\n  <thead>\n    <tr style=\"text-align: right;\">\n      <th></th>\n      <th>MovieId</th>\n      <th>ReleaseYear</th>\n      <th>MovieTitle</th>\n    </tr>\n  </thead>\n  <tbody>\n    <tr>\n      <th>11147</th>\n      <td>11148</td>\n      <td>1996.0</td>\n      <td>The Land Before Time IV: Journey Through the M...</td>\n    </tr>\n    <tr>\n      <th>13754</th>\n      <td>13755</td>\n      <td>2005.0</td>\n      <td>Mobsters and Mormons</td>\n    </tr>\n  </tbody>\n</table>\n</div>"
     },
     "execution_count": 14,
     "metadata": {},
     "output_type": "execute_result"
    }
   ],
   "source": [
    "# figure out which MovieIds are not in movies dataframe\n",
    "movies[~movies.MovieId.isin(nx.MovieId)]"
   ],
   "metadata": {
    "collapsed": false,
    "ExecuteTime": {
     "end_time": "2023-11-01T11:50:14.547697Z",
     "start_time": "2023-11-01T11:50:14.505977Z"
    }
   },
   "id": "fbef8072ccef9f8e"
  },
  {
   "cell_type": "code",
   "execution_count": 15,
   "outputs": [
    {
     "data": {
      "text/plain": "       MovieId  ReleaseYear                                         MovieTitle\n0            1       2003.0                                    Dinosaur Planet\n1            2       2004.0                         Isle of Man TT 2004 Review\n2            3       1997.0                                          Character\n3            4       1994.0                       Paula Abdul's Get Up & Dance\n4            5       2004.0                           The Rise and Fall of ECW\n...        ...          ...                                                ...\n17765    17766       2002.0  Where the Wild Things Are and Other Maurice Se...\n17766    17767       2004.0                  Fidel Castro: American Experience\n17767    17768       2000.0                                              Epoch\n17768    17769       2003.0                                        The Company\n17769    17770       2003.0                                       Alien Hunter\n\n[17768 rows x 3 columns]",
      "text/html": "<div>\n<style scoped>\n    .dataframe tbody tr th:only-of-type {\n        vertical-align: middle;\n    }\n\n    .dataframe tbody tr th {\n        vertical-align: top;\n    }\n\n    .dataframe thead th {\n        text-align: right;\n    }\n</style>\n<table border=\"1\" class=\"dataframe\">\n  <thead>\n    <tr style=\"text-align: right;\">\n      <th></th>\n      <th>MovieId</th>\n      <th>ReleaseYear</th>\n      <th>MovieTitle</th>\n    </tr>\n  </thead>\n  <tbody>\n    <tr>\n      <th>0</th>\n      <td>1</td>\n      <td>2003.0</td>\n      <td>Dinosaur Planet</td>\n    </tr>\n    <tr>\n      <th>1</th>\n      <td>2</td>\n      <td>2004.0</td>\n      <td>Isle of Man TT 2004 Review</td>\n    </tr>\n    <tr>\n      <th>2</th>\n      <td>3</td>\n      <td>1997.0</td>\n      <td>Character</td>\n    </tr>\n    <tr>\n      <th>3</th>\n      <td>4</td>\n      <td>1994.0</td>\n      <td>Paula Abdul's Get Up &amp; Dance</td>\n    </tr>\n    <tr>\n      <th>4</th>\n      <td>5</td>\n      <td>2004.0</td>\n      <td>The Rise and Fall of ECW</td>\n    </tr>\n    <tr>\n      <th>...</th>\n      <td>...</td>\n      <td>...</td>\n      <td>...</td>\n    </tr>\n    <tr>\n      <th>17765</th>\n      <td>17766</td>\n      <td>2002.0</td>\n      <td>Where the Wild Things Are and Other Maurice Se...</td>\n    </tr>\n    <tr>\n      <th>17766</th>\n      <td>17767</td>\n      <td>2004.0</td>\n      <td>Fidel Castro: American Experience</td>\n    </tr>\n    <tr>\n      <th>17767</th>\n      <td>17768</td>\n      <td>2000.0</td>\n      <td>Epoch</td>\n    </tr>\n    <tr>\n      <th>17768</th>\n      <td>17769</td>\n      <td>2003.0</td>\n      <td>The Company</td>\n    </tr>\n    <tr>\n      <th>17769</th>\n      <td>17770</td>\n      <td>2003.0</td>\n      <td>Alien Hunter</td>\n    </tr>\n  </tbody>\n</table>\n<p>17768 rows × 3 columns</p>\n</div>"
     },
     "execution_count": 15,
     "metadata": {},
     "output_type": "execute_result"
    }
   ],
   "source": [
    "# filter out rows with MovieIds that are not in movies dataframe\n",
    "movies = movies[movies.MovieId.isin(nx.MovieId)]\n",
    "movies"
   ],
   "metadata": {
    "collapsed": false,
    "ExecuteTime": {
     "end_time": "2023-11-01T11:50:40.161043Z",
     "start_time": "2023-11-01T11:50:40.097027Z"
    }
   },
   "id": "bc3f00a75d54c711"
  },
  {
   "cell_type": "code",
   "execution_count": 16,
   "outputs": [],
   "source": [
    "# save movies dataframe to csv\n",
    "movies.to_csv('resources/netflix/adjusted_movies.csv', index=False)\n",
    "nx.to_csv('resources/netflix/adjusted_ratings.csv', index=False)"
   ],
   "metadata": {
    "collapsed": false,
    "ExecuteTime": {
     "end_time": "2023-11-01T11:51:15.165276Z",
     "start_time": "2023-11-01T11:51:13.715872Z"
    }
   },
   "id": "78bb7a965f2d84ce"
  },
  {
   "cell_type": "code",
   "execution_count": 36,
   "outputs": [
    {
     "data": {
      "text/plain": "MovieId\n14689    1186\n4306     1183\n12917    1182\n2862     1180\n14408    1178\n         ... \n12958       1\n16873       1\n16011       1\n15478       1\n2537        1\nName: count, Length: 17768, dtype: int64"
     },
     "execution_count": 36,
     "metadata": {},
     "output_type": "execute_result"
    }
   ],
   "source": [
    "# map MovieIds to new indices\n",
    "# id_mapping = {old_id: new_id for new_id, old_id in enumerate(movies.MovieId.unique(), start=1)}\n",
    "# nx.MovieId = nx.MovieId.map(id_mapping)\n",
    "# movies.MovieId = movies.index + 1\n",
    "# nx.MovieId.value_counts()"
   ],
   "metadata": {
    "collapsed": false,
    "ExecuteTime": {
     "end_time": "2023-11-01T11:13:48.254802Z",
     "start_time": "2023-11-01T11:13:48.195503Z"
    }
   },
   "id": "5b2607c74d0a3b75"
  },
  {
   "cell_type": "code",
   "execution_count": 17,
   "outputs": [],
   "source": [
    "X_train, X_test, y_train, y_test = train_test_split(nx, nx.Rating, test_size=0.25, stratify=nx.Rating, random_state=42)"
   ],
   "metadata": {
    "collapsed": false,
    "ExecuteTime": {
     "end_time": "2023-11-01T11:51:35.140798Z",
     "start_time": "2023-11-01T11:51:34.174692Z"
    }
   },
   "id": "456dd922f7cb2968"
  },
  {
   "cell_type": "code",
   "execution_count": 18,
   "outputs": [
    {
     "data": {
      "text/plain": "CustId\n135     13340\n183     13059\n1107    12492\n781     11928\n971     11141\n        ...  \n458      1475\n670      1475\n43       1473\n9        1465\n797      1433\nName: count, Length: 1214, dtype: int64"
     },
     "execution_count": 18,
     "metadata": {},
     "output_type": "execute_result"
    }
   ],
   "source": [
    "X_train.CustId.value_counts()"
   ],
   "metadata": {
    "collapsed": false,
    "ExecuteTime": {
     "end_time": "2023-11-01T11:51:36.631177Z",
     "start_time": "2023-11-01T11:51:36.620865Z"
    }
   },
   "id": "d3f2afede494f55e"
  },
  {
   "cell_type": "code",
   "execution_count": 19,
   "outputs": [
    {
     "name": "stdout",
     "output_type": "stream",
     "text": [
      "(1214, 17766)\n"
     ]
    },
    {
     "data": {
      "text/plain": "MovieId  1      2      3      4      5      6      7      8      9      10     \\\nCustId                                                                          \n1          NaN    NaN    4.0    NaN    NaN    NaN    NaN    3.0    NaN    NaN   \n2          NaN    NaN    NaN    NaN    4.0    NaN    NaN    1.0    NaN    NaN   \n3          NaN    NaN    NaN    NaN    NaN    NaN    NaN    NaN    NaN    NaN   \n4          NaN    NaN    NaN    NaN    NaN    NaN    NaN    NaN    NaN    NaN   \n5          NaN    NaN    NaN    NaN    NaN    NaN    NaN    NaN    NaN    NaN   \n\nMovieId  ...  17761  17762  17763  17764  17765  17766  17767  17768  17769  \\\nCustId   ...                                                                  \n1        ...    NaN    3.0    NaN    4.0    NaN    NaN    4.0    NaN    NaN   \n2        ...    NaN    NaN    NaN    5.0    NaN    3.0    NaN    2.0    NaN   \n3        ...    5.0    NaN    NaN    NaN    NaN    NaN    NaN    NaN    NaN   \n4        ...    NaN    5.0    NaN    5.0    NaN    NaN    NaN    NaN    NaN   \n5        ...    NaN    NaN    NaN    4.0    NaN    NaN    NaN    NaN    NaN   \n\nMovieId  17770  \nCustId          \n1          NaN  \n2          NaN  \n3          NaN  \n4          NaN  \n5          3.0  \n\n[5 rows x 17766 columns]",
      "text/html": "<div>\n<style scoped>\n    .dataframe tbody tr th:only-of-type {\n        vertical-align: middle;\n    }\n\n    .dataframe tbody tr th {\n        vertical-align: top;\n    }\n\n    .dataframe thead th {\n        text-align: right;\n    }\n</style>\n<table border=\"1\" class=\"dataframe\">\n  <thead>\n    <tr style=\"text-align: right;\">\n      <th>MovieId</th>\n      <th>1</th>\n      <th>2</th>\n      <th>3</th>\n      <th>4</th>\n      <th>5</th>\n      <th>6</th>\n      <th>7</th>\n      <th>8</th>\n      <th>9</th>\n      <th>10</th>\n      <th>...</th>\n      <th>17761</th>\n      <th>17762</th>\n      <th>17763</th>\n      <th>17764</th>\n      <th>17765</th>\n      <th>17766</th>\n      <th>17767</th>\n      <th>17768</th>\n      <th>17769</th>\n      <th>17770</th>\n    </tr>\n    <tr>\n      <th>CustId</th>\n      <th></th>\n      <th></th>\n      <th></th>\n      <th></th>\n      <th></th>\n      <th></th>\n      <th></th>\n      <th></th>\n      <th></th>\n      <th></th>\n      <th></th>\n      <th></th>\n      <th></th>\n      <th></th>\n      <th></th>\n      <th></th>\n      <th></th>\n      <th></th>\n      <th></th>\n      <th></th>\n      <th></th>\n    </tr>\n  </thead>\n  <tbody>\n    <tr>\n      <th>1</th>\n      <td>NaN</td>\n      <td>NaN</td>\n      <td>4.0</td>\n      <td>NaN</td>\n      <td>NaN</td>\n      <td>NaN</td>\n      <td>NaN</td>\n      <td>3.0</td>\n      <td>NaN</td>\n      <td>NaN</td>\n      <td>...</td>\n      <td>NaN</td>\n      <td>3.0</td>\n      <td>NaN</td>\n      <td>4.0</td>\n      <td>NaN</td>\n      <td>NaN</td>\n      <td>4.0</td>\n      <td>NaN</td>\n      <td>NaN</td>\n      <td>NaN</td>\n    </tr>\n    <tr>\n      <th>2</th>\n      <td>NaN</td>\n      <td>NaN</td>\n      <td>NaN</td>\n      <td>NaN</td>\n      <td>4.0</td>\n      <td>NaN</td>\n      <td>NaN</td>\n      <td>1.0</td>\n      <td>NaN</td>\n      <td>NaN</td>\n      <td>...</td>\n      <td>NaN</td>\n      <td>NaN</td>\n      <td>NaN</td>\n      <td>5.0</td>\n      <td>NaN</td>\n      <td>3.0</td>\n      <td>NaN</td>\n      <td>2.0</td>\n      <td>NaN</td>\n      <td>NaN</td>\n    </tr>\n    <tr>\n      <th>3</th>\n      <td>NaN</td>\n      <td>NaN</td>\n      <td>NaN</td>\n      <td>NaN</td>\n      <td>NaN</td>\n      <td>NaN</td>\n      <td>NaN</td>\n      <td>NaN</td>\n      <td>NaN</td>\n      <td>NaN</td>\n      <td>...</td>\n      <td>5.0</td>\n      <td>NaN</td>\n      <td>NaN</td>\n      <td>NaN</td>\n      <td>NaN</td>\n      <td>NaN</td>\n      <td>NaN</td>\n      <td>NaN</td>\n      <td>NaN</td>\n      <td>NaN</td>\n    </tr>\n    <tr>\n      <th>4</th>\n      <td>NaN</td>\n      <td>NaN</td>\n      <td>NaN</td>\n      <td>NaN</td>\n      <td>NaN</td>\n      <td>NaN</td>\n      <td>NaN</td>\n      <td>NaN</td>\n      <td>NaN</td>\n      <td>NaN</td>\n      <td>...</td>\n      <td>NaN</td>\n      <td>5.0</td>\n      <td>NaN</td>\n      <td>5.0</td>\n      <td>NaN</td>\n      <td>NaN</td>\n      <td>NaN</td>\n      <td>NaN</td>\n      <td>NaN</td>\n      <td>NaN</td>\n    </tr>\n    <tr>\n      <th>5</th>\n      <td>NaN</td>\n      <td>NaN</td>\n      <td>NaN</td>\n      <td>NaN</td>\n      <td>NaN</td>\n      <td>NaN</td>\n      <td>NaN</td>\n      <td>NaN</td>\n      <td>NaN</td>\n      <td>NaN</td>\n      <td>...</td>\n      <td>NaN</td>\n      <td>NaN</td>\n      <td>NaN</td>\n      <td>4.0</td>\n      <td>NaN</td>\n      <td>NaN</td>\n      <td>NaN</td>\n      <td>NaN</td>\n      <td>NaN</td>\n      <td>3.0</td>\n    </tr>\n  </tbody>\n</table>\n<p>5 rows × 17766 columns</p>\n</div>"
     },
     "execution_count": 19,
     "metadata": {},
     "output_type": "execute_result"
    }
   ],
   "source": [
    "# pivot ratings to user-item matrix\n",
    "ratings = X_train.pivot(index='CustId', columns='MovieId', values='Rating')\n",
    "mean_ratings = ratings.mean(axis=1)\n",
    "print(ratings.shape)\n",
    "ratings.head()"
   ],
   "metadata": {
    "collapsed": false,
    "ExecuteTime": {
     "end_time": "2023-11-01T11:51:39.760489Z",
     "start_time": "2023-11-01T11:51:39.066962Z"
    }
   },
   "id": "7062ab78b996cd87"
  },
  {
   "cell_type": "code",
   "execution_count": 23,
   "outputs": [],
   "source": [
    "# compute all recommendations for all movies given a user and model\n",
    "def get_all_recommendations(user_id: int, model: NearestNeighbors, use_means: bool = True) -> pd.Series:\n",
    "    distances, knn = model.kneighbors(ratings.fillna(0))  # knn are the nearest neighbors of the user\n",
    "    knn = pd.DataFrame(knn + 1, index=ratings.index)  # don't forget to increase the nearest neighbor indices by 1\n",
    "    sim = pd.DataFrame(1 - distances, index=ratings.index)  # 1 - distance because we want to invert the distance\n",
    "    neighbors = knn.loc[user_id, 1:]\n",
    "    similarities = sim.loc[user_id, 1:]\n",
    "    # select from ratings only the columns of the neighbors, then set that index to the index of the similarities\n",
    "    similarities.index = ratings.loc[neighbors].index\n",
    "    \n",
    "    if use_means:\n",
    "        return pd.Series(\n",
    "            mean_ratings.loc[user_id] + ratings.loc[neighbors].subtract(mean_ratings.loc[neighbors], axis='index').mul(\n",
    "                similarities, axis='index').sum(axis='index') / similarities.sum(), name='recommendation')\n",
    "    else:\n",
    "        return pd.Series(ratings.loc[neighbors].mul(similarities, axis='index').sum(axis='index') / similarities.sum(),\n",
    "                         name='recommendation')"
   ],
   "metadata": {
    "collapsed": false,
    "ExecuteTime": {
     "end_time": "2023-11-01T11:51:53.652400Z",
     "start_time": "2023-11-01T11:51:53.636058Z"
    }
   },
   "id": "15b0902916ec571a"
  },
  {
   "cell_type": "code",
   "execution_count": 21,
   "outputs": [],
   "source": [
    "# compute a single recommendation for a given user, movie and model\n",
    "def get_recommendation(user_id: int, movie_id: int, model: NearestNeighbors, use_means: bool = True) -> float:\n",
    "    if movie_id not in ratings.columns:\n",
    "        return 2.5\n",
    "    recommendations = get_all_recommendations(user_id, model, use_means=use_means)\n",
    "    return recommendations.loc[movie_id]"
   ],
   "metadata": {
    "collapsed": false,
    "ExecuteTime": {
     "end_time": "2023-11-01T11:51:45.707361Z",
     "start_time": "2023-11-01T11:51:45.680604Z"
    }
   },
   "id": "942f7a8e6e6fb8db"
  },
  {
   "cell_type": "code",
   "execution_count": 22,
   "outputs": [
    {
     "data": {
      "text/plain": "NearestNeighbors(metric='cosine', n_neighbors=40)",
      "text/html": "<style>#sk-container-id-1 {color: black;}#sk-container-id-1 pre{padding: 0;}#sk-container-id-1 div.sk-toggleable {background-color: white;}#sk-container-id-1 label.sk-toggleable__label {cursor: pointer;display: block;width: 100%;margin-bottom: 0;padding: 0.3em;box-sizing: border-box;text-align: center;}#sk-container-id-1 label.sk-toggleable__label-arrow:before {content: \"▸\";float: left;margin-right: 0.25em;color: #696969;}#sk-container-id-1 label.sk-toggleable__label-arrow:hover:before {color: black;}#sk-container-id-1 div.sk-estimator:hover label.sk-toggleable__label-arrow:before {color: black;}#sk-container-id-1 div.sk-toggleable__content {max-height: 0;max-width: 0;overflow: hidden;text-align: left;background-color: #f0f8ff;}#sk-container-id-1 div.sk-toggleable__content pre {margin: 0.2em;color: black;border-radius: 0.25em;background-color: #f0f8ff;}#sk-container-id-1 input.sk-toggleable__control:checked~div.sk-toggleable__content {max-height: 200px;max-width: 100%;overflow: auto;}#sk-container-id-1 input.sk-toggleable__control:checked~label.sk-toggleable__label-arrow:before {content: \"▾\";}#sk-container-id-1 div.sk-estimator input.sk-toggleable__control:checked~label.sk-toggleable__label {background-color: #d4ebff;}#sk-container-id-1 div.sk-label input.sk-toggleable__control:checked~label.sk-toggleable__label {background-color: #d4ebff;}#sk-container-id-1 input.sk-hidden--visually {border: 0;clip: rect(1px 1px 1px 1px);clip: rect(1px, 1px, 1px, 1px);height: 1px;margin: -1px;overflow: hidden;padding: 0;position: absolute;width: 1px;}#sk-container-id-1 div.sk-estimator {font-family: monospace;background-color: #f0f8ff;border: 1px dotted black;border-radius: 0.25em;box-sizing: border-box;margin-bottom: 0.5em;}#sk-container-id-1 div.sk-estimator:hover {background-color: #d4ebff;}#sk-container-id-1 div.sk-parallel-item::after {content: \"\";width: 100%;border-bottom: 1px solid gray;flex-grow: 1;}#sk-container-id-1 div.sk-label:hover label.sk-toggleable__label {background-color: #d4ebff;}#sk-container-id-1 div.sk-serial::before {content: \"\";position: absolute;border-left: 1px solid gray;box-sizing: border-box;top: 0;bottom: 0;left: 50%;z-index: 0;}#sk-container-id-1 div.sk-serial {display: flex;flex-direction: column;align-items: center;background-color: white;padding-right: 0.2em;padding-left: 0.2em;position: relative;}#sk-container-id-1 div.sk-item {position: relative;z-index: 1;}#sk-container-id-1 div.sk-parallel {display: flex;align-items: stretch;justify-content: center;background-color: white;position: relative;}#sk-container-id-1 div.sk-item::before, #sk-container-id-1 div.sk-parallel-item::before {content: \"\";position: absolute;border-left: 1px solid gray;box-sizing: border-box;top: 0;bottom: 0;left: 50%;z-index: -1;}#sk-container-id-1 div.sk-parallel-item {display: flex;flex-direction: column;z-index: 1;position: relative;background-color: white;}#sk-container-id-1 div.sk-parallel-item:first-child::after {align-self: flex-end;width: 50%;}#sk-container-id-1 div.sk-parallel-item:last-child::after {align-self: flex-start;width: 50%;}#sk-container-id-1 div.sk-parallel-item:only-child::after {width: 0;}#sk-container-id-1 div.sk-dashed-wrapped {border: 1px dashed gray;margin: 0 0.4em 0.5em 0.4em;box-sizing: border-box;padding-bottom: 0.4em;background-color: white;}#sk-container-id-1 div.sk-label label {font-family: monospace;font-weight: bold;display: inline-block;line-height: 1.2em;}#sk-container-id-1 div.sk-label-container {text-align: center;}#sk-container-id-1 div.sk-container {/* jupyter's `normalize.less` sets `[hidden] { display: none; }` but bootstrap.min.css set `[hidden] { display: none !important; }` so we also need the `!important` here to be able to override the default hidden behavior on the sphinx rendered scikit-learn.org. See: https://github.com/scikit-learn/scikit-learn/issues/21755 */display: inline-block !important;position: relative;}#sk-container-id-1 div.sk-text-repr-fallback {display: none;}</style><div id=\"sk-container-id-1\" class=\"sk-top-container\"><div class=\"sk-text-repr-fallback\"><pre>NearestNeighbors(metric=&#x27;cosine&#x27;, n_neighbors=40)</pre><b>In a Jupyter environment, please rerun this cell to show the HTML representation or trust the notebook. <br />On GitHub, the HTML representation is unable to render, please try loading this page with nbviewer.org.</b></div><div class=\"sk-container\" hidden><div class=\"sk-item\"><div class=\"sk-estimator sk-toggleable\"><input class=\"sk-toggleable__control sk-hidden--visually\" id=\"sk-estimator-id-1\" type=\"checkbox\" checked><label for=\"sk-estimator-id-1\" class=\"sk-toggleable__label sk-toggleable__label-arrow\">NearestNeighbors</label><div class=\"sk-toggleable__content\"><pre>NearestNeighbors(metric=&#x27;cosine&#x27;, n_neighbors=40)</pre></div></div></div></div></div>"
     },
     "execution_count": 22,
     "metadata": {},
     "output_type": "execute_result"
    }
   ],
   "source": [
    "model = NearestNeighbors(n_neighbors=40, metric='cosine')\n",
    "model.fit(ratings.fillna(0))"
   ],
   "metadata": {
    "collapsed": false,
    "ExecuteTime": {
     "end_time": "2023-11-01T11:51:47.086808Z",
     "start_time": "2023-11-01T11:51:46.950349Z"
    }
   },
   "id": "2b63e4bf08d0951f"
  },
  {
   "cell_type": "code",
   "execution_count": 24,
   "outputs": [],
   "source": [
    "def get_RMSE(test, model, use_means=True):\n",
    "    group = test[['MovieId', 'Rating']].groupby(test.CustId)\n",
    "    mse = pd.DataFrame(columns=['MovieId', 'Rating', 'recommendation'])\n",
    "    i = 0\n",
    "    for key in group.groups:\n",
    "        predictions = get_all_recommendations(key, model=model, use_means=use_means)\n",
    "        rated_movies = group.get_group(key).set_index('MovieId')\n",
    "        df = rated_movies.join(predictions).dropna().reset_index()\n",
    "        mse = pd.concat([mse, df]).reset_index(drop=True)\n",
    "        if i % 100 == 0:\n",
    "            score = np.sqrt(mean_squared_error(mse.Rating, mse.recommendation))\n",
    "            print(f'{i}/{test.CustId.nunique()} - RMSE: {score:.4f}')\n",
    "        i += 1\n",
    "\n",
    "    score = np.sqrt(mean_squared_error(mse.Rating, mse.recommendation))\n",
    "    print(f'{test.CustId.nunique()}/{test.CustId.nunique()} - RMSE: {score:.4f}')"
   ],
   "metadata": {
    "collapsed": false,
    "ExecuteTime": {
     "end_time": "2023-11-01T11:51:57.858674Z",
     "start_time": "2023-11-01T11:51:57.842305Z"
    }
   },
   "id": "ce6382f3f5a155a6"
  },
  {
   "cell_type": "code",
   "execution_count": 78,
   "outputs": [],
   "source": [
    "def get_top_10_recommendations(user_id: int, model: NearestNeighbors, use_means: bool = True) -> pd.DataFrame:\n",
    "    recommendations = get_all_recommendations(user_id, model, use_means=use_means)\n",
    "    return movies[movies.MovieId.isin(recommendations.sort_values(ascending=False).head(10).index)]"
   ],
   "metadata": {
    "collapsed": false,
    "ExecuteTime": {
     "end_time": "2023-11-01T13:14:54.440058Z",
     "start_time": "2023-11-01T13:14:54.421342Z"
    }
   },
   "id": "68360b4a81d14cf1"
  },
  {
   "cell_type": "code",
   "execution_count": 84,
   "outputs": [],
   "source": [
    "def get_top_rated_movies(user_id: int) -> pd.DataFrame:\n",
    "    return movies[movies.MovieId.isin(nx[(nx.CustId == user_id) & (nx.Rating == 5)].MovieId)]"
   ],
   "metadata": {
    "collapsed": false,
    "ExecuteTime": {
     "end_time": "2023-11-01T13:20:15.941091Z",
     "start_time": "2023-11-01T13:20:15.906824Z"
    }
   },
   "id": "71bf34a33ba32294"
  },
  {
   "cell_type": "code",
   "execution_count": 25,
   "outputs": [
    {
     "name": "stderr",
     "output_type": "stream",
     "text": [
      "/var/folders/38/kddld1k955775hyf55xdjbm40000gn/T/ipykernel_43675/2125073756.py:9: FutureWarning: The behavior of DataFrame concatenation with empty or all-NA entries is deprecated. In a future version, this will no longer exclude empty or all-NA columns when determining the result dtypes. To retain the old behavior, exclude the relevant entries before the concat operation.\n",
      "  mse = pd.concat([mse, df]).reset_index(drop=True)\n"
     ]
    },
    {
     "name": "stdout",
     "output_type": "stream",
     "text": [
      "0/1214 - RMSE: 0.8840\n",
      "100/1214 - RMSE: 0.9466\n",
      "200/1214 - RMSE: 0.9616\n",
      "300/1214 - RMSE: 0.9664\n",
      "400/1214 - RMSE: 0.9544\n",
      "500/1214 - RMSE: 0.9495\n",
      "600/1214 - RMSE: 0.9475\n",
      "700/1214 - RMSE: 0.9452\n",
      "800/1214 - RMSE: 0.9388\n",
      "900/1214 - RMSE: 0.9389\n",
      "1000/1214 - RMSE: 0.9372\n",
      "1100/1214 - RMSE: 0.9395\n",
      "1200/1214 - RMSE: 0.9379\n",
      "1214/1214 - RMSE: 0.9383\n"
     ]
    }
   ],
   "source": [
    "get_RMSE(X_test, model)"
   ],
   "metadata": {
    "collapsed": false,
    "ExecuteTime": {
     "end_time": "2023-11-01T12:11:08.086931Z",
     "start_time": "2023-11-01T11:51:59.999798Z"
    }
   },
   "id": "e88e80ae93e8bb82"
  },
  {
   "cell_type": "code",
   "execution_count": 27,
   "outputs": [
    {
     "data": {
      "text/plain": "          CustId  Rating  MovieId\n8255023      164       1     1648\n36104959     734       4     6418\n4052309      378       4      785\n10982218     609       4     2135\n58327686      64       4    10721\n...          ...     ...      ...\n47282620     847       4     8524\n32377852     515       3     5894\n96603303     568       4    17136\n77664880     562       3    14132\n67611625     220       1    12305\n\n[827836 rows x 3 columns]",
      "text/html": "<div>\n<style scoped>\n    .dataframe tbody tr th:only-of-type {\n        vertical-align: middle;\n    }\n\n    .dataframe tbody tr th {\n        vertical-align: top;\n    }\n\n    .dataframe thead th {\n        text-align: right;\n    }\n</style>\n<table border=\"1\" class=\"dataframe\">\n  <thead>\n    <tr style=\"text-align: right;\">\n      <th></th>\n      <th>CustId</th>\n      <th>Rating</th>\n      <th>MovieId</th>\n    </tr>\n  </thead>\n  <tbody>\n    <tr>\n      <th>8255023</th>\n      <td>164</td>\n      <td>1</td>\n      <td>1648</td>\n    </tr>\n    <tr>\n      <th>36104959</th>\n      <td>734</td>\n      <td>4</td>\n      <td>6418</td>\n    </tr>\n    <tr>\n      <th>4052309</th>\n      <td>378</td>\n      <td>4</td>\n      <td>785</td>\n    </tr>\n    <tr>\n      <th>10982218</th>\n      <td>609</td>\n      <td>4</td>\n      <td>2135</td>\n    </tr>\n    <tr>\n      <th>58327686</th>\n      <td>64</td>\n      <td>4</td>\n      <td>10721</td>\n    </tr>\n    <tr>\n      <th>...</th>\n      <td>...</td>\n      <td>...</td>\n      <td>...</td>\n    </tr>\n    <tr>\n      <th>47282620</th>\n      <td>847</td>\n      <td>4</td>\n      <td>8524</td>\n    </tr>\n    <tr>\n      <th>32377852</th>\n      <td>515</td>\n      <td>3</td>\n      <td>5894</td>\n    </tr>\n    <tr>\n      <th>96603303</th>\n      <td>568</td>\n      <td>4</td>\n      <td>17136</td>\n    </tr>\n    <tr>\n      <th>77664880</th>\n      <td>562</td>\n      <td>3</td>\n      <td>14132</td>\n    </tr>\n    <tr>\n      <th>67611625</th>\n      <td>220</td>\n      <td>1</td>\n      <td>12305</td>\n    </tr>\n  </tbody>\n</table>\n<p>827836 rows × 3 columns</p>\n</div>"
     },
     "execution_count": 27,
     "metadata": {},
     "output_type": "execute_result"
    }
   ],
   "source": [
    "X_test"
   ],
   "metadata": {
    "collapsed": false,
    "ExecuteTime": {
     "end_time": "2023-11-01T12:15:33.707204Z",
     "start_time": "2023-11-01T12:15:33.692447Z"
    }
   },
   "id": "80523a348159715"
  },
  {
   "cell_type": "code",
   "execution_count": 76,
   "outputs": [
    {
     "data": {
      "text/plain": "MovieId\n1        2.470061\n2        2.405583\n3        2.439388\n4        2.339170\n5        2.374992\n           ...   \n17766    2.473624\n17767    2.405583\n17768    2.205812\n17769    2.310033\n17770    2.320588\nName: recommendation, Length: 17766, dtype: float64"
     },
     "execution_count": 76,
     "metadata": {},
     "output_type": "execute_result"
    }
   ],
   "source": [
    "rec = get_all_recommendations(164, model)\n",
    "rec"
   ],
   "metadata": {
    "collapsed": false,
    "ExecuteTime": {
     "end_time": "2023-11-01T13:07:26.110941Z",
     "start_time": "2023-11-01T13:07:25.158159Z"
    }
   },
   "id": "464da5787e3247b5"
  },
  {
   "cell_type": "code",
   "execution_count": 85,
   "outputs": [
    {
     "data": {
      "text/plain": "       MovieId  ReleaseYear                                     MovieTitle\n570        571       1999.0                                American Beauty\n797        798       1975.0                                           Jaws\n899        900       1994.0                            Eat Drink Man Woman\n1494      1495       2001.0                                Alias: Season 1\n1999      2000       1994.0                    Four Weddings and a Funeral\n2451      2452       2001.0  Lord of the Rings: The Fellowship of the Ring\n2659      2660       1989.0                           When Harry Met Sally\n2781      2782       1995.0                                     Braveheart\n2802      2803       1995.0                            Pride and Prejudice\n3319      3320       2002.0                                    About a Boy\n3455      3456       2004.0                                 Lost: Season 1\n3604      3605       1939.0          The Wizard of Oz: Collector's Edition\n4156      4157       1991.0                            The Prince of Tides\n4226      4227       1997.0                                 The Full Monty\n4305      4306       1999.0                                The Sixth Sense\n4471      4472       2003.0                                  Love Actually\n4576      4577       1989.0                                Steel Magnolias\n5291      5292       2002.0                                Alias: Season 2\n5731      5732       1990.0                    GoodFellas: Special Edition\n5759      5760       2001.0                         The Sopranos: Season 3\n5885      5886       2000.0                          The X-Files: Season 3\n6195      6196       1984.0                                 The Terminator\n6719      6720       2001.0                                Black Hawk Down\n7218      7219       1987.0                               The Untouchables\n7280      7281       2001.0                                 Monster's Ball\n7363      7364       1989.0                             Driving Miss Daisy\n7396      7397       1993.0                                 Mrs. Doubtfire\n7522      7523       1999.0                                 The Red Violin\n7668      7669       2004.0                 Desperate Housewives: Season 1\n8037      8038       1950.0                    Cinderella: Special Edition\n8288      8289       1998.0                          The X-Files: Season 6\n8446      8447       2001.0                                   24: Season 1\n8570      8571       1997.0                          The X-Files: Season 5\n9425      9426       1986.0                                        Platoon\n9817      9818       1997.0                              L.A. Confidential\n10445    10446       1993.0                         The Remains of the Day\n11163    11164       2000.0                     Sex and the City: Season 3\n11520    11521       2002.0              Lord of the Rings: The Two Towers\n11993    11994       1986.0            A Room with a View: Special Edition\n12171    12172       1998.0                                  Pleasantville\n12890    12891       2003.0                                   24: Season 3\n13391    13392       1983.0                            Terms of Endearment\n13546    13547       1996.0                          The X-Files: Season 4\n14239    14240       2003.0      Lord of the Rings: The Return of the King\n14382    14383       1993.0    Homicide: Life on the Street: Seasons 1 & 2\n14666    14667       1989.0                                Field of Dreams\n14741    14742       2000.0                          The X-Files: Season 2\n15113    15114       1980.0     Coal Miner's Daughter: Collector's Edition\n15393    15394       2000.0                                        Traffic\n15420    15421       1995.0                          Sense and Sensibility\n15757    15758       1984.0                                        Amadeus\n15891    15892       2002.0                             Everwood: Season 1\n15946    15947       1994.0         Homicide: Life on the Street: Season 3\n16324    16325       1968.0                             Planet of the Apes\n16604    16605       1992.0                       The Last of the Mohicans\n16878    16879       1997.0                                        Titanic\n17156    17157       1998.0                            Saving Private Ryan\n17186    17187       1983.0                              A Christmas Story\n17640    17641       1994.0         Homicide: Life on the Street: Season 4",
      "text/html": "<div>\n<style scoped>\n    .dataframe tbody tr th:only-of-type {\n        vertical-align: middle;\n    }\n\n    .dataframe tbody tr th {\n        vertical-align: top;\n    }\n\n    .dataframe thead th {\n        text-align: right;\n    }\n</style>\n<table border=\"1\" class=\"dataframe\">\n  <thead>\n    <tr style=\"text-align: right;\">\n      <th></th>\n      <th>MovieId</th>\n      <th>ReleaseYear</th>\n      <th>MovieTitle</th>\n    </tr>\n  </thead>\n  <tbody>\n    <tr>\n      <th>570</th>\n      <td>571</td>\n      <td>1999.0</td>\n      <td>American Beauty</td>\n    </tr>\n    <tr>\n      <th>797</th>\n      <td>798</td>\n      <td>1975.0</td>\n      <td>Jaws</td>\n    </tr>\n    <tr>\n      <th>899</th>\n      <td>900</td>\n      <td>1994.0</td>\n      <td>Eat Drink Man Woman</td>\n    </tr>\n    <tr>\n      <th>1494</th>\n      <td>1495</td>\n      <td>2001.0</td>\n      <td>Alias: Season 1</td>\n    </tr>\n    <tr>\n      <th>1999</th>\n      <td>2000</td>\n      <td>1994.0</td>\n      <td>Four Weddings and a Funeral</td>\n    </tr>\n    <tr>\n      <th>2451</th>\n      <td>2452</td>\n      <td>2001.0</td>\n      <td>Lord of the Rings: The Fellowship of the Ring</td>\n    </tr>\n    <tr>\n      <th>2659</th>\n      <td>2660</td>\n      <td>1989.0</td>\n      <td>When Harry Met Sally</td>\n    </tr>\n    <tr>\n      <th>2781</th>\n      <td>2782</td>\n      <td>1995.0</td>\n      <td>Braveheart</td>\n    </tr>\n    <tr>\n      <th>2802</th>\n      <td>2803</td>\n      <td>1995.0</td>\n      <td>Pride and Prejudice</td>\n    </tr>\n    <tr>\n      <th>3319</th>\n      <td>3320</td>\n      <td>2002.0</td>\n      <td>About a Boy</td>\n    </tr>\n    <tr>\n      <th>3455</th>\n      <td>3456</td>\n      <td>2004.0</td>\n      <td>Lost: Season 1</td>\n    </tr>\n    <tr>\n      <th>3604</th>\n      <td>3605</td>\n      <td>1939.0</td>\n      <td>The Wizard of Oz: Collector's Edition</td>\n    </tr>\n    <tr>\n      <th>4156</th>\n      <td>4157</td>\n      <td>1991.0</td>\n      <td>The Prince of Tides</td>\n    </tr>\n    <tr>\n      <th>4226</th>\n      <td>4227</td>\n      <td>1997.0</td>\n      <td>The Full Monty</td>\n    </tr>\n    <tr>\n      <th>4305</th>\n      <td>4306</td>\n      <td>1999.0</td>\n      <td>The Sixth Sense</td>\n    </tr>\n    <tr>\n      <th>4471</th>\n      <td>4472</td>\n      <td>2003.0</td>\n      <td>Love Actually</td>\n    </tr>\n    <tr>\n      <th>4576</th>\n      <td>4577</td>\n      <td>1989.0</td>\n      <td>Steel Magnolias</td>\n    </tr>\n    <tr>\n      <th>5291</th>\n      <td>5292</td>\n      <td>2002.0</td>\n      <td>Alias: Season 2</td>\n    </tr>\n    <tr>\n      <th>5731</th>\n      <td>5732</td>\n      <td>1990.0</td>\n      <td>GoodFellas: Special Edition</td>\n    </tr>\n    <tr>\n      <th>5759</th>\n      <td>5760</td>\n      <td>2001.0</td>\n      <td>The Sopranos: Season 3</td>\n    </tr>\n    <tr>\n      <th>5885</th>\n      <td>5886</td>\n      <td>2000.0</td>\n      <td>The X-Files: Season 3</td>\n    </tr>\n    <tr>\n      <th>6195</th>\n      <td>6196</td>\n      <td>1984.0</td>\n      <td>The Terminator</td>\n    </tr>\n    <tr>\n      <th>6719</th>\n      <td>6720</td>\n      <td>2001.0</td>\n      <td>Black Hawk Down</td>\n    </tr>\n    <tr>\n      <th>7218</th>\n      <td>7219</td>\n      <td>1987.0</td>\n      <td>The Untouchables</td>\n    </tr>\n    <tr>\n      <th>7280</th>\n      <td>7281</td>\n      <td>2001.0</td>\n      <td>Monster's Ball</td>\n    </tr>\n    <tr>\n      <th>7363</th>\n      <td>7364</td>\n      <td>1989.0</td>\n      <td>Driving Miss Daisy</td>\n    </tr>\n    <tr>\n      <th>7396</th>\n      <td>7397</td>\n      <td>1993.0</td>\n      <td>Mrs. Doubtfire</td>\n    </tr>\n    <tr>\n      <th>7522</th>\n      <td>7523</td>\n      <td>1999.0</td>\n      <td>The Red Violin</td>\n    </tr>\n    <tr>\n      <th>7668</th>\n      <td>7669</td>\n      <td>2004.0</td>\n      <td>Desperate Housewives: Season 1</td>\n    </tr>\n    <tr>\n      <th>8037</th>\n      <td>8038</td>\n      <td>1950.0</td>\n      <td>Cinderella: Special Edition</td>\n    </tr>\n    <tr>\n      <th>8288</th>\n      <td>8289</td>\n      <td>1998.0</td>\n      <td>The X-Files: Season 6</td>\n    </tr>\n    <tr>\n      <th>8446</th>\n      <td>8447</td>\n      <td>2001.0</td>\n      <td>24: Season 1</td>\n    </tr>\n    <tr>\n      <th>8570</th>\n      <td>8571</td>\n      <td>1997.0</td>\n      <td>The X-Files: Season 5</td>\n    </tr>\n    <tr>\n      <th>9425</th>\n      <td>9426</td>\n      <td>1986.0</td>\n      <td>Platoon</td>\n    </tr>\n    <tr>\n      <th>9817</th>\n      <td>9818</td>\n      <td>1997.0</td>\n      <td>L.A. Confidential</td>\n    </tr>\n    <tr>\n      <th>10445</th>\n      <td>10446</td>\n      <td>1993.0</td>\n      <td>The Remains of the Day</td>\n    </tr>\n    <tr>\n      <th>11163</th>\n      <td>11164</td>\n      <td>2000.0</td>\n      <td>Sex and the City: Season 3</td>\n    </tr>\n    <tr>\n      <th>11520</th>\n      <td>11521</td>\n      <td>2002.0</td>\n      <td>Lord of the Rings: The Two Towers</td>\n    </tr>\n    <tr>\n      <th>11993</th>\n      <td>11994</td>\n      <td>1986.0</td>\n      <td>A Room with a View: Special Edition</td>\n    </tr>\n    <tr>\n      <th>12171</th>\n      <td>12172</td>\n      <td>1998.0</td>\n      <td>Pleasantville</td>\n    </tr>\n    <tr>\n      <th>12890</th>\n      <td>12891</td>\n      <td>2003.0</td>\n      <td>24: Season 3</td>\n    </tr>\n    <tr>\n      <th>13391</th>\n      <td>13392</td>\n      <td>1983.0</td>\n      <td>Terms of Endearment</td>\n    </tr>\n    <tr>\n      <th>13546</th>\n      <td>13547</td>\n      <td>1996.0</td>\n      <td>The X-Files: Season 4</td>\n    </tr>\n    <tr>\n      <th>14239</th>\n      <td>14240</td>\n      <td>2003.0</td>\n      <td>Lord of the Rings: The Return of the King</td>\n    </tr>\n    <tr>\n      <th>14382</th>\n      <td>14383</td>\n      <td>1993.0</td>\n      <td>Homicide: Life on the Street: Seasons 1 &amp; 2</td>\n    </tr>\n    <tr>\n      <th>14666</th>\n      <td>14667</td>\n      <td>1989.0</td>\n      <td>Field of Dreams</td>\n    </tr>\n    <tr>\n      <th>14741</th>\n      <td>14742</td>\n      <td>2000.0</td>\n      <td>The X-Files: Season 2</td>\n    </tr>\n    <tr>\n      <th>15113</th>\n      <td>15114</td>\n      <td>1980.0</td>\n      <td>Coal Miner's Daughter: Collector's Edition</td>\n    </tr>\n    <tr>\n      <th>15393</th>\n      <td>15394</td>\n      <td>2000.0</td>\n      <td>Traffic</td>\n    </tr>\n    <tr>\n      <th>15420</th>\n      <td>15421</td>\n      <td>1995.0</td>\n      <td>Sense and Sensibility</td>\n    </tr>\n    <tr>\n      <th>15757</th>\n      <td>15758</td>\n      <td>1984.0</td>\n      <td>Amadeus</td>\n    </tr>\n    <tr>\n      <th>15891</th>\n      <td>15892</td>\n      <td>2002.0</td>\n      <td>Everwood: Season 1</td>\n    </tr>\n    <tr>\n      <th>15946</th>\n      <td>15947</td>\n      <td>1994.0</td>\n      <td>Homicide: Life on the Street: Season 3</td>\n    </tr>\n    <tr>\n      <th>16324</th>\n      <td>16325</td>\n      <td>1968.0</td>\n      <td>Planet of the Apes</td>\n    </tr>\n    <tr>\n      <th>16604</th>\n      <td>16605</td>\n      <td>1992.0</td>\n      <td>The Last of the Mohicans</td>\n    </tr>\n    <tr>\n      <th>16878</th>\n      <td>16879</td>\n      <td>1997.0</td>\n      <td>Titanic</td>\n    </tr>\n    <tr>\n      <th>17156</th>\n      <td>17157</td>\n      <td>1998.0</td>\n      <td>Saving Private Ryan</td>\n    </tr>\n    <tr>\n      <th>17186</th>\n      <td>17187</td>\n      <td>1983.0</td>\n      <td>A Christmas Story</td>\n    </tr>\n    <tr>\n      <th>17640</th>\n      <td>17641</td>\n      <td>1994.0</td>\n      <td>Homicide: Life on the Street: Season 4</td>\n    </tr>\n  </tbody>\n</table>\n</div>"
     },
     "execution_count": 85,
     "metadata": {},
     "output_type": "execute_result"
    }
   ],
   "source": [
    "get_top_rated_movies(164)"
   ],
   "metadata": {
    "collapsed": false,
    "ExecuteTime": {
     "end_time": "2023-11-01T13:20:23.184199Z",
     "start_time": "2023-11-01T13:20:23.138097Z"
    }
   },
   "id": "ade551b5bc6201e3"
  },
  {
   "cell_type": "code",
   "execution_count": 79,
   "outputs": [
    {
     "data": {
      "text/plain": "       MovieId  ReleaseYear                                         MovieTitle\n1904      1905       2003.0  Pirates of the Caribbean: The Curse of the Bla...\n3289      3290       1974.0                              The Godfather Part II\n5581      5582       1980.0      Star Wars: Episode V: The Empire Strikes Back\n7229      7230       2001.0  The Lord of the Rings: The Fellowship of the R...\n9627      9628       1983.0          Star Wars: Episode VI: Return of the Jedi\n10041    10042       1981.0                            Raiders of the Lost Ark\n11520    11521       2002.0                  Lord of the Rings: The Two Towers\n14239    14240       2003.0          Lord of the Rings: The Return of the King\n14960    14961       2003.0  Lord of the Rings: The Return of the King: Ext...\n17156    17157       1998.0                                Saving Private Ryan",
      "text/html": "<div>\n<style scoped>\n    .dataframe tbody tr th:only-of-type {\n        vertical-align: middle;\n    }\n\n    .dataframe tbody tr th {\n        vertical-align: top;\n    }\n\n    .dataframe thead th {\n        text-align: right;\n    }\n</style>\n<table border=\"1\" class=\"dataframe\">\n  <thead>\n    <tr style=\"text-align: right;\">\n      <th></th>\n      <th>MovieId</th>\n      <th>ReleaseYear</th>\n      <th>MovieTitle</th>\n    </tr>\n  </thead>\n  <tbody>\n    <tr>\n      <th>1904</th>\n      <td>1905</td>\n      <td>2003.0</td>\n      <td>Pirates of the Caribbean: The Curse of the Bla...</td>\n    </tr>\n    <tr>\n      <th>3289</th>\n      <td>3290</td>\n      <td>1974.0</td>\n      <td>The Godfather Part II</td>\n    </tr>\n    <tr>\n      <th>5581</th>\n      <td>5582</td>\n      <td>1980.0</td>\n      <td>Star Wars: Episode V: The Empire Strikes Back</td>\n    </tr>\n    <tr>\n      <th>7229</th>\n      <td>7230</td>\n      <td>2001.0</td>\n      <td>The Lord of the Rings: The Fellowship of the R...</td>\n    </tr>\n    <tr>\n      <th>9627</th>\n      <td>9628</td>\n      <td>1983.0</td>\n      <td>Star Wars: Episode VI: Return of the Jedi</td>\n    </tr>\n    <tr>\n      <th>10041</th>\n      <td>10042</td>\n      <td>1981.0</td>\n      <td>Raiders of the Lost Ark</td>\n    </tr>\n    <tr>\n      <th>11520</th>\n      <td>11521</td>\n      <td>2002.0</td>\n      <td>Lord of the Rings: The Two Towers</td>\n    </tr>\n    <tr>\n      <th>14239</th>\n      <td>14240</td>\n      <td>2003.0</td>\n      <td>Lord of the Rings: The Return of the King</td>\n    </tr>\n    <tr>\n      <th>14960</th>\n      <td>14961</td>\n      <td>2003.0</td>\n      <td>Lord of the Rings: The Return of the King: Ext...</td>\n    </tr>\n    <tr>\n      <th>17156</th>\n      <td>17157</td>\n      <td>1998.0</td>\n      <td>Saving Private Ryan</td>\n    </tr>\n  </tbody>\n</table>\n</div>"
     },
     "execution_count": 79,
     "metadata": {},
     "output_type": "execute_result"
    }
   ],
   "source": [
    "get_top_10_recommendations(164, model)"
   ],
   "metadata": {
    "collapsed": false,
    "ExecuteTime": {
     "end_time": "2023-11-01T13:15:15.400371Z",
     "start_time": "2023-11-01T13:15:14.138632Z"
    }
   },
   "id": "1df0d672aab182cf"
  },
  {
   "cell_type": "code",
   "execution_count": 86,
   "outputs": [
    {
     "data": {
      "text/plain": "       MovieId  ReleaseYear                                         MovieTitle\n36          37       1973.0                              Zatoichi's Conspiracy\n105        106       2004.0  Stevie Ray Vaughan and Double Trouble: Live at...\n117        118       1985.0                         Rambo: First Blood Part II\n164        165       1982.0            Richard Pryor: Live on the Sunset Strip\n165        166       1980.0                                               Fame\n...        ...          ...                                                ...\n17471    17472       1973.0                                       Magnum Force\n17473    17474       1964.0                      My Fair Lady: Special Edition\n17498    17499       1998.0                             Mulan: Special Edition\n17525    17526       1959.0                                   Some Like It Hot\n17557    17558       2001.0                                 Kiss of the Dragon\n\n[492 rows x 3 columns]",
      "text/html": "<div>\n<style scoped>\n    .dataframe tbody tr th:only-of-type {\n        vertical-align: middle;\n    }\n\n    .dataframe tbody tr th {\n        vertical-align: top;\n    }\n\n    .dataframe thead th {\n        text-align: right;\n    }\n</style>\n<table border=\"1\" class=\"dataframe\">\n  <thead>\n    <tr style=\"text-align: right;\">\n      <th></th>\n      <th>MovieId</th>\n      <th>ReleaseYear</th>\n      <th>MovieTitle</th>\n    </tr>\n  </thead>\n  <tbody>\n    <tr>\n      <th>36</th>\n      <td>37</td>\n      <td>1973.0</td>\n      <td>Zatoichi's Conspiracy</td>\n    </tr>\n    <tr>\n      <th>105</th>\n      <td>106</td>\n      <td>2004.0</td>\n      <td>Stevie Ray Vaughan and Double Trouble: Live at...</td>\n    </tr>\n    <tr>\n      <th>117</th>\n      <td>118</td>\n      <td>1985.0</td>\n      <td>Rambo: First Blood Part II</td>\n    </tr>\n    <tr>\n      <th>164</th>\n      <td>165</td>\n      <td>1982.0</td>\n      <td>Richard Pryor: Live on the Sunset Strip</td>\n    </tr>\n    <tr>\n      <th>165</th>\n      <td>166</td>\n      <td>1980.0</td>\n      <td>Fame</td>\n    </tr>\n    <tr>\n      <th>...</th>\n      <td>...</td>\n      <td>...</td>\n      <td>...</td>\n    </tr>\n    <tr>\n      <th>17471</th>\n      <td>17472</td>\n      <td>1973.0</td>\n      <td>Magnum Force</td>\n    </tr>\n    <tr>\n      <th>17473</th>\n      <td>17474</td>\n      <td>1964.0</td>\n      <td>My Fair Lady: Special Edition</td>\n    </tr>\n    <tr>\n      <th>17498</th>\n      <td>17499</td>\n      <td>1998.0</td>\n      <td>Mulan: Special Edition</td>\n    </tr>\n    <tr>\n      <th>17525</th>\n      <td>17526</td>\n      <td>1959.0</td>\n      <td>Some Like It Hot</td>\n    </tr>\n    <tr>\n      <th>17557</th>\n      <td>17558</td>\n      <td>2001.0</td>\n      <td>Kiss of the Dragon</td>\n    </tr>\n  </tbody>\n</table>\n<p>492 rows × 3 columns</p>\n</div>"
     },
     "execution_count": 86,
     "metadata": {},
     "output_type": "execute_result"
    }
   ],
   "source": [
    "get_top_rated_movies(734)"
   ],
   "metadata": {
    "collapsed": false,
    "ExecuteTime": {
     "end_time": "2023-11-01T13:20:28.423477Z",
     "start_time": "2023-11-01T13:20:28.399893Z"
    }
   },
   "id": "1e4731803837dd6e"
  },
  {
   "cell_type": "code",
   "execution_count": 80,
   "outputs": [
    {
     "data": {
      "text/plain": "       MovieId  ReleaseYear                                         MovieTitle\n1904      1905       2003.0  Pirates of the Caribbean: The Curse of the Bla...\n3961      3962       2003.0                          Finding Nemo (Widescreen)\n9627      9628       1983.0          Star Wars: Episode VI: Return of the Jedi\n10041    10042       1981.0                            Raiders of the Lost Ark\n11282    11283       1994.0                                       Forrest Gump\n11780    11781       1984.0               Indiana Jones and the Temple of Doom\n14239    14240       2003.0          Lord of the Rings: The Return of the King\n16264    16265       1977.0                  Star Wars: Episode IV: A New Hope\n16953    16954       1989.0                 Indiana Jones and the Last Crusade\n17156    17157       1998.0                                Saving Private Ryan",
      "text/html": "<div>\n<style scoped>\n    .dataframe tbody tr th:only-of-type {\n        vertical-align: middle;\n    }\n\n    .dataframe tbody tr th {\n        vertical-align: top;\n    }\n\n    .dataframe thead th {\n        text-align: right;\n    }\n</style>\n<table border=\"1\" class=\"dataframe\">\n  <thead>\n    <tr style=\"text-align: right;\">\n      <th></th>\n      <th>MovieId</th>\n      <th>ReleaseYear</th>\n      <th>MovieTitle</th>\n    </tr>\n  </thead>\n  <tbody>\n    <tr>\n      <th>1904</th>\n      <td>1905</td>\n      <td>2003.0</td>\n      <td>Pirates of the Caribbean: The Curse of the Bla...</td>\n    </tr>\n    <tr>\n      <th>3961</th>\n      <td>3962</td>\n      <td>2003.0</td>\n      <td>Finding Nemo (Widescreen)</td>\n    </tr>\n    <tr>\n      <th>9627</th>\n      <td>9628</td>\n      <td>1983.0</td>\n      <td>Star Wars: Episode VI: Return of the Jedi</td>\n    </tr>\n    <tr>\n      <th>10041</th>\n      <td>10042</td>\n      <td>1981.0</td>\n      <td>Raiders of the Lost Ark</td>\n    </tr>\n    <tr>\n      <th>11282</th>\n      <td>11283</td>\n      <td>1994.0</td>\n      <td>Forrest Gump</td>\n    </tr>\n    <tr>\n      <th>11780</th>\n      <td>11781</td>\n      <td>1984.0</td>\n      <td>Indiana Jones and the Temple of Doom</td>\n    </tr>\n    <tr>\n      <th>14239</th>\n      <td>14240</td>\n      <td>2003.0</td>\n      <td>Lord of the Rings: The Return of the King</td>\n    </tr>\n    <tr>\n      <th>16264</th>\n      <td>16265</td>\n      <td>1977.0</td>\n      <td>Star Wars: Episode IV: A New Hope</td>\n    </tr>\n    <tr>\n      <th>16953</th>\n      <td>16954</td>\n      <td>1989.0</td>\n      <td>Indiana Jones and the Last Crusade</td>\n    </tr>\n    <tr>\n      <th>17156</th>\n      <td>17157</td>\n      <td>1998.0</td>\n      <td>Saving Private Ryan</td>\n    </tr>\n  </tbody>\n</table>\n</div>"
     },
     "execution_count": 80,
     "metadata": {},
     "output_type": "execute_result"
    }
   ],
   "source": [
    "get_top_10_recommendations(734, model)"
   ],
   "metadata": {
    "collapsed": false,
    "ExecuteTime": {
     "end_time": "2023-11-01T13:16:03.999845Z",
     "start_time": "2023-11-01T13:16:02.635347Z"
    }
   },
   "id": "920d781ecb740e1a"
  },
  {
   "cell_type": "code",
   "execution_count": 29,
   "outputs": [
    {
     "data": {
      "text/plain": "2.4413177914624926"
     },
     "execution_count": 29,
     "metadata": {},
     "output_type": "execute_result"
    }
   ],
   "source": [
    "r = get_recommendation(164, 91, model)\n",
    "r\n"
   ],
   "metadata": {
    "collapsed": false,
    "ExecuteTime": {
     "end_time": "2023-11-01T12:19:47.786539Z",
     "start_time": "2023-11-01T12:19:46.596584Z"
    }
   },
   "id": "94f66dffb0f568f3"
  },
  {
   "cell_type": "code",
   "execution_count": 69,
   "outputs": [],
   "source": [
    "reader = Reader(rating_scale=(1, 5))\n",
    "movie_ratings = Dataset.load_from_df(nx[['CustId', 'MovieId', 'Rating']], reader)\n",
    "training_set, testing_set = surprise_train_test_split(movie_ratings, test_size=0.25, random_state=42)"
   ],
   "metadata": {
    "collapsed": false,
    "ExecuteTime": {
     "end_time": "2023-11-01T12:59:44.600793Z",
     "start_time": "2023-11-01T12:59:40.639568Z"
    }
   },
   "id": "cd5e5d8edc5bf841"
  },
  {
   "cell_type": "code",
   "execution_count": 70,
   "outputs": [
    {
     "name": "stdout",
     "output_type": "stream",
     "text": [
      "Computing the msd similarity matrix...\n",
      "Done computing similarity matrix.\n"
     ]
    },
    {
     "data": {
      "text/plain": "<surprise.prediction_algorithms.knns.KNNBasic at 0x367da29e0>"
     },
     "execution_count": 70,
     "metadata": {},
     "output_type": "execute_result"
    }
   ],
   "source": [
    "algo = KNNBasic()\n",
    "algo.fit(training_set)"
   ],
   "metadata": {
    "collapsed": false,
    "ExecuteTime": {
     "end_time": "2023-11-01T12:59:58.917280Z",
     "start_time": "2023-11-01T12:59:47.415604Z"
    }
   },
   "id": "ef533fbdfe3b9cb2"
  },
  {
   "cell_type": "code",
   "execution_count": 56,
   "outputs": [
    {
     "name": "stdout",
     "output_type": "stream",
     "text": [
      "Computing the msd similarity matrix...\n",
      "Done computing similarity matrix.\n",
      "Computing the msd similarity matrix...\n",
      "Done computing similarity matrix.\n",
      "Computing the msd similarity matrix...\n",
      "Done computing similarity matrix.\n",
      "Computing the msd similarity matrix...\n",
      "Done computing similarity matrix.\n",
      "Computing the msd similarity matrix...\n",
      "Done computing similarity matrix.\n",
      "Evaluating RMSE, MAE of algorithm KNNBasic on 5 split(s).\n",
      "\n",
      "                  Fold 1  Fold 2  Fold 3  Fold 4  Fold 5  Mean    Std     \n",
      "RMSE (testset)    0.9392  0.9392  0.9396  0.9399  0.9388  0.9393  0.0004  \n",
      "MAE (testset)     0.7464  0.7453  0.7462  0.7460  0.7453  0.7458  0.0005  \n",
      "Fit time          13.24   13.44   14.58   13.36   13.45   13.61   0.49    \n",
      "Test time         114.70  100.78  112.28  105.41  110.59  108.75  5.02    \n"
     ]
    },
    {
     "data": {
      "text/plain": "{'test_rmse': array([0.93919493, 0.93921015, 0.93962957, 0.93985546, 0.93880016]),\n 'test_mae': array([0.74636425, 0.74530602, 0.74622381, 0.74603044, 0.74530675]),\n 'fit_time': (13.24197506904602,\n  13.436630010604858,\n  14.580430030822754,\n  13.356144189834595,\n  13.445959091186523),\n 'test_time': (114.69929909706116,\n  100.77734398841858,\n  112.27520108222961,\n  105.4133529663086,\n  110.5937750339508)}"
     },
     "execution_count": 56,
     "metadata": {},
     "output_type": "execute_result"
    }
   ],
   "source": [
    "cross_validate(algo, movie_ratings, measures=['RMSE', 'MAE'], cv=5, verbose=True)"
   ],
   "metadata": {
    "collapsed": false,
    "ExecuteTime": {
     "end_time": "2023-11-01T12:44:35.618068Z",
     "start_time": "2023-11-01T12:34:08.467667Z"
    }
   },
   "id": "9f9857f5a64a9447"
  },
  {
   "cell_type": "code",
   "execution_count": 71,
   "outputs": [
    {
     "data": {
      "text/plain": "Prediction(uid=164, iid=91, r_ui=None, est=2.494495763660051, details={'actual_k': 34, 'was_impossible': False})"
     },
     "execution_count": 71,
     "metadata": {},
     "output_type": "execute_result"
    }
   ],
   "source": [
    "algo.predict(164, 91)"
   ],
   "metadata": {
    "collapsed": false,
    "ExecuteTime": {
     "end_time": "2023-11-01T13:00:03.810004Z",
     "start_time": "2023-11-01T13:00:03.797601Z"
    }
   },
   "id": "29b24c268f85e053"
  },
  {
   "cell_type": "code",
   "execution_count": 72,
   "outputs": [
    {
     "data": {
      "text/plain": "[Prediction(uid=799, iid=12145, r_ui=2.0, est=3.647444452418009, details={'actual_k': 40, 'was_impossible': False}),\n Prediction(uid=972, iid=4827, r_ui=3.0, est=2.7686362369159374, details={'actual_k': 40, 'was_impossible': False}),\n Prediction(uid=1090, iid=629, r_ui=4.0, est=3.271236923112836, details={'actual_k': 40, 'was_impossible': False}),\n Prediction(uid=695, iid=17560, r_ui=5.0, est=3.5667144369192725, details={'actual_k': 40, 'was_impossible': False}),\n Prediction(uid=1108, iid=833, r_ui=3.0, est=3.358349226150812, details={'actual_k': 40, 'was_impossible': False}),\n Prediction(uid=1195, iid=7522, r_ui=2.0, est=1.6320089581365922, details={'actual_k': 7, 'was_impossible': False}),\n Prediction(uid=951, iid=17075, r_ui=2.0, est=3.862930196756261, details={'actual_k': 40, 'was_impossible': False}),\n Prediction(uid=712, iid=10928, r_ui=2.0, est=2.832447920050216, details={'actual_k': 40, 'was_impossible': False}),\n Prediction(uid=291, iid=10280, r_ui=4.0, est=3.854388714164064, details={'actual_k': 40, 'was_impossible': False}),\n Prediction(uid=1188, iid=14454, r_ui=5.0, est=3.522575752387041, details={'actual_k': 40, 'was_impossible': False}),\n Prediction(uid=911, iid=4725, r_ui=3.0, est=3.3177873060976073, details={'actual_k': 40, 'was_impossible': False}),\n Prediction(uid=799, iid=4011, r_ui=3.0, est=3.7870892000926046, details={'actual_k': 40, 'was_impossible': False}),\n Prediction(uid=547, iid=3670, r_ui=2.0, est=2.4546308722037082, details={'actual_k': 40, 'was_impossible': False}),\n Prediction(uid=631, iid=5191, r_ui=4.0, est=3.28004664892762, details={'actual_k': 40, 'was_impossible': False}),\n Prediction(uid=896, iid=2051, r_ui=5.0, est=3.8245310095045015, details={'actual_k': 40, 'was_impossible': False}),\n Prediction(uid=781, iid=8868, r_ui=5.0, est=4.263158128875037, details={'actual_k': 40, 'was_impossible': False}),\n Prediction(uid=337, iid=8035, r_ui=1.0, est=1.3715659387859074, details={'actual_k': 15, 'was_impossible': False}),\n Prediction(uid=690, iid=6601, r_ui=1.0, est=1.914466784459493, details={'actual_k': 18, 'was_impossible': False}),\n Prediction(uid=1157, iid=16448, r_ui=4.0, est=3.3988915636755337, details={'actual_k': 40, 'was_impossible': False}),\n Prediction(uid=1062, iid=15078, r_ui=4.0, est=3.774663880722373, details={'actual_k': 40, 'was_impossible': False}),\n Prediction(uid=1151, iid=11980, r_ui=3.0, est=3.700795829260677, details={'actual_k': 40, 'was_impossible': False}),\n Prediction(uid=723, iid=16879, r_ui=4.0, est=3.199444223719269, details={'actual_k': 40, 'was_impossible': False}),\n Prediction(uid=1118, iid=11882, r_ui=5.0, est=3.7985550413196285, details={'actual_k': 40, 'was_impossible': False}),\n Prediction(uid=734, iid=9188, r_ui=4.0, est=3.5536646747538643, details={'actual_k': 40, 'was_impossible': False}),\n Prediction(uid=700, iid=12283, r_ui=1.0, est=2.583230310701465, details={'actual_k': 37, 'was_impossible': False}),\n Prediction(uid=779, iid=7992, r_ui=2.0, est=2.4548576895010084, details={'actual_k': 40, 'was_impossible': False}),\n Prediction(uid=743, iid=12560, r_ui=3.0, est=3.145983354098996, details={'actual_k': 40, 'was_impossible': False}),\n Prediction(uid=147, iid=5054, r_ui=4.0, est=3.2255581580117023, details={'actual_k': 40, 'was_impossible': False}),\n Prediction(uid=604, iid=10198, r_ui=2.0, est=2.3553211559320126, details={'actual_k': 40, 'was_impossible': False}),\n Prediction(uid=444, iid=5840, r_ui=2.0, est=3.743488588933875, details={'actual_k': 40, 'was_impossible': False}),\n Prediction(uid=388, iid=12914, r_ui=4.0, est=4.063373110889791, details={'actual_k': 40, 'was_impossible': False}),\n Prediction(uid=704, iid=14505, r_ui=4.0, est=3.4512363167382034, details={'actual_k': 40, 'was_impossible': False}),\n Prediction(uid=1143, iid=11673, r_ui=4.0, est=3.6756623859119206, details={'actual_k': 40, 'was_impossible': False}),\n Prediction(uid=137, iid=5477, r_ui=4.0, est=2.8982875188634876, details={'actual_k': 40, 'was_impossible': False}),\n Prediction(uid=283, iid=6541, r_ui=5.0, est=3.7182308718149644, details={'actual_k': 40, 'was_impossible': False}),\n Prediction(uid=766, iid=14725, r_ui=4.0, est=2.472689729441894, details={'actual_k': 40, 'was_impossible': False}),\n Prediction(uid=103, iid=1049, r_ui=4.0, est=2.668089470104327, details={'actual_k': 40, 'was_impossible': False}),\n Prediction(uid=1069, iid=13418, r_ui=2.0, est=2.7753218053234723, details={'actual_k': 40, 'was_impossible': False}),\n Prediction(uid=256, iid=15973, r_ui=1.0, est=2.424166881931626, details={'actual_k': 40, 'was_impossible': False}),\n Prediction(uid=142, iid=3263, r_ui=4.0, est=3.1296867906317583, details={'actual_k': 40, 'was_impossible': False}),\n Prediction(uid=400, iid=17531, r_ui=3.0, est=3.105272687269789, details={'actual_k': 40, 'was_impossible': False}),\n Prediction(uid=1043, iid=6037, r_ui=4.0, est=3.6748103879866068, details={'actual_k': 40, 'was_impossible': False}),\n Prediction(uid=1154, iid=3990, r_ui=2.0, est=2.598819895701475, details={'actual_k': 40, 'was_impossible': False}),\n Prediction(uid=549, iid=9037, r_ui=3.0, est=3.2347723713602905, details={'actual_k': 40, 'was_impossible': False}),\n Prediction(uid=1028, iid=2955, r_ui=3.0, est=3.2538803895083253, details={'actual_k': 40, 'was_impossible': False}),\n Prediction(uid=751, iid=15887, r_ui=2.0, est=2.546818005743247, details={'actual_k': 40, 'was_impossible': False}),\n Prediction(uid=680, iid=9689, r_ui=5.0, est=3.8505796581387273, details={'actual_k': 40, 'was_impossible': False}),\n Prediction(uid=85, iid=16812, r_ui=2.0, est=2.5175589400364964, details={'actual_k': 40, 'was_impossible': False}),\n Prediction(uid=341, iid=17088, r_ui=3.0, est=2.841897776394892, details={'actual_k': 40, 'was_impossible': False}),\n Prediction(uid=654, iid=16954, r_ui=5.0, est=4.375889074840683, details={'actual_k': 40, 'was_impossible': False}),\n Prediction(uid=906, iid=3084, r_ui=3.0, est=3.3749002973320663, details={'actual_k': 40, 'was_impossible': False}),\n Prediction(uid=1024, iid=7173, r_ui=5.0, est=3.9880568996537167, details={'actual_k': 40, 'was_impossible': False}),\n Prediction(uid=905, iid=3696, r_ui=3.0, est=3.375330733583434, details={'actual_k': 40, 'was_impossible': False}),\n Prediction(uid=1073, iid=256, r_ui=1.0, est=2.928161582998817, details={'actual_k': 40, 'was_impossible': False}),\n Prediction(uid=335, iid=7435, r_ui=5.0, est=4.191703864510677, details={'actual_k': 40, 'was_impossible': False}),\n Prediction(uid=243, iid=253, r_ui=3.0, est=3.3093543820333045, details={'actual_k': 40, 'was_impossible': False}),\n Prediction(uid=76, iid=7485, r_ui=4.0, est=3.201534940632451, details={'actual_k': 40, 'was_impossible': False}),\n Prediction(uid=522, iid=7147, r_ui=3.0, est=4.050586373074594, details={'actual_k': 40, 'was_impossible': False}),\n Prediction(uid=1112, iid=1151, r_ui=2.0, est=2.618749220838765, details={'actual_k': 40, 'was_impossible': False}),\n Prediction(uid=446, iid=11573, r_ui=2.0, est=3.742885907924072, details={'actual_k': 40, 'was_impossible': False}),\n Prediction(uid=80, iid=11097, r_ui=4.0, est=3.8516664693980855, details={'actual_k': 40, 'was_impossible': False}),\n Prediction(uid=832, iid=6498, r_ui=2.0, est=2.6993463576077565, details={'actual_k': 40, 'was_impossible': False}),\n Prediction(uid=229, iid=8903, r_ui=1.0, est=3.3035226531346304, details={'actual_k': 40, 'was_impossible': False}),\n Prediction(uid=764, iid=1799, r_ui=5.0, est=3.9020910281036354, details={'actual_k': 40, 'was_impossible': False}),\n Prediction(uid=854, iid=11630, r_ui=4.0, est=3.0584446150889457, details={'actual_k': 40, 'was_impossible': False}),\n Prediction(uid=848, iid=7879, r_ui=1.0, est=2.823422648987927, details={'actual_k': 40, 'was_impossible': False}),\n Prediction(uid=713, iid=15568, r_ui=4.0, est=3.932048872329467, details={'actual_k': 40, 'was_impossible': False}),\n Prediction(uid=1035, iid=7127, r_ui=2.0, est=3.3527953660674528, details={'actual_k': 40, 'was_impossible': False}),\n Prediction(uid=756, iid=14506, r_ui=5.0, est=3.7448576124972788, details={'actual_k': 40, 'was_impossible': False}),\n Prediction(uid=1197, iid=3133, r_ui=1.0, est=2.4297330020077528, details={'actual_k': 40, 'was_impossible': False}),\n Prediction(uid=991, iid=15825, r_ui=3.0, est=3.6302335199731885, details={'actual_k': 40, 'was_impossible': False}),\n Prediction(uid=34, iid=1799, r_ui=4.0, est=3.4551105250508165, details={'actual_k': 40, 'was_impossible': False}),\n Prediction(uid=423, iid=117, r_ui=1.0, est=3.0784609174680115, details={'actual_k': 40, 'was_impossible': False}),\n Prediction(uid=1142, iid=1039, r_ui=4.0, est=3.2447125337140963, details={'actual_k': 40, 'was_impossible': False}),\n Prediction(uid=751, iid=1019, r_ui=1.0, est=2.5553468862115296, details={'actual_k': 11, 'was_impossible': False}),\n Prediction(uid=478, iid=5854, r_ui=4.0, est=3.883474371512177, details={'actual_k': 40, 'was_impossible': False}),\n Prediction(uid=337, iid=5962, r_ui=1.0, est=1.4501822660246122, details={'actual_k': 40, 'was_impossible': False}),\n Prediction(uid=1041, iid=15584, r_ui=4.0, est=3.9457465517547523, details={'actual_k': 40, 'was_impossible': False}),\n Prediction(uid=1019, iid=17064, r_ui=4.0, est=3.573044256450896, details={'actual_k': 40, 'was_impossible': False}),\n Prediction(uid=1040, iid=10032, r_ui=2.0, est=3.974187964172306, details={'actual_k': 40, 'was_impossible': False}),\n Prediction(uid=391, iid=2757, r_ui=4.0, est=3.8239943365628237, details={'actual_k': 40, 'was_impossible': False}),\n Prediction(uid=230, iid=4912, r_ui=5.0, est=4.076756452079625, details={'actual_k': 40, 'was_impossible': False}),\n Prediction(uid=780, iid=5826, r_ui=5.0, est=3.5279531289510064, details={'actual_k': 40, 'was_impossible': False}),\n Prediction(uid=971, iid=4962, r_ui=4.0, est=2.8341238760093534, details={'actual_k': 18, 'was_impossible': False}),\n Prediction(uid=593, iid=1861, r_ui=2.0, est=3.2269996115679884, details={'actual_k': 40, 'was_impossible': False}),\n Prediction(uid=157, iid=6902, r_ui=5.0, est=3.6011876009862474, details={'actual_k': 40, 'was_impossible': False}),\n Prediction(uid=672, iid=2120, r_ui=1.0, est=3.6739005304053687, details={'actual_k': 40, 'was_impossible': False}),\n Prediction(uid=399, iid=4383, r_ui=3.0, est=3.7819157440276294, details={'actual_k': 40, 'was_impossible': False}),\n Prediction(uid=420, iid=6498, r_ui=2.0, est=1.9732347358979756, details={'actual_k': 40, 'was_impossible': False}),\n Prediction(uid=451, iid=8652, r_ui=3.0, est=2.96906393289091, details={'actual_k': 40, 'was_impossible': False}),\n Prediction(uid=948, iid=1619, r_ui=3.0, est=2.908551394931482, details={'actual_k': 40, 'was_impossible': False}),\n Prediction(uid=895, iid=12727, r_ui=3.0, est=3.0322894116531223, details={'actual_k': 40, 'was_impossible': False}),\n Prediction(uid=780, iid=12076, r_ui=3.0, est=3.1430519528489977, details={'actual_k': 40, 'was_impossible': False}),\n Prediction(uid=319, iid=9111, r_ui=5.0, est=4.645380621540824, details={'actual_k': 40, 'was_impossible': False}),\n Prediction(uid=411, iid=12505, r_ui=5.0, est=3.4256779517613376, details={'actual_k': 40, 'was_impossible': False}),\n Prediction(uid=713, iid=15873, r_ui=4.0, est=3.8497313645824116, details={'actual_k': 40, 'was_impossible': False}),\n Prediction(uid=193, iid=9996, r_ui=3.0, est=2.4325931791415343, details={'actual_k': 40, 'was_impossible': False}),\n Prediction(uid=461, iid=10282, r_ui=3.0, est=3.075528515083258, details={'actual_k': 40, 'was_impossible': False}),\n Prediction(uid=1176, iid=180, r_ui=3.0, est=3.335022156137785, details={'actual_k': 40, 'was_impossible': False}),\n Prediction(uid=524, iid=11501, r_ui=4.0, est=2.72383670509904, details={'actual_k': 20, 'was_impossible': False}),\n Prediction(uid=633, iid=10894, r_ui=2.0, est=3.173078874946393, details={'actual_k': 40, 'was_impossible': False}),\n Prediction(uid=497, iid=3127, r_ui=4.0, est=3.433087896074619, details={'actual_k': 40, 'was_impossible': False}),\n Prediction(uid=447, iid=13128, r_ui=5.0, est=3.8532698260731726, details={'actual_k': 40, 'was_impossible': False}),\n Prediction(uid=817, iid=11771, r_ui=4.0, est=3.179826312208648, details={'actual_k': 40, 'was_impossible': False}),\n Prediction(uid=1103, iid=4506, r_ui=5.0, est=4.618640434274918, details={'actual_k': 40, 'was_impossible': False}),\n Prediction(uid=28, iid=9733, r_ui=1.0, est=3.0404106974973413, details={'actual_k': 40, 'was_impossible': False}),\n Prediction(uid=162, iid=10491, r_ui=3.0, est=3.2716955407869794, details={'actual_k': 40, 'was_impossible': False}),\n Prediction(uid=135, iid=5205, r_ui=1.0, est=2.0375315735374606, details={'actual_k': 22, 'was_impossible': False}),\n Prediction(uid=642, iid=3310, r_ui=4.0, est=3.078679230409481, details={'actual_k': 40, 'was_impossible': False}),\n Prediction(uid=279, iid=9862, r_ui=4.0, est=3.643859885366719, details={'actual_k': 40, 'was_impossible': False}),\n Prediction(uid=605, iid=5345, r_ui=4.0, est=3.6039025389720227, details={'actual_k': 40, 'was_impossible': False}),\n Prediction(uid=771, iid=7635, r_ui=3.0, est=3.1192775682763396, details={'actual_k': 40, 'was_impossible': False}),\n Prediction(uid=735, iid=803, r_ui=2.0, est=2.5094911104690536, details={'actual_k': 40, 'was_impossible': False}),\n Prediction(uid=914, iid=5244, r_ui=3.0, est=3.6380837153083436, details={'actual_k': 40, 'was_impossible': False}),\n Prediction(uid=958, iid=7713, r_ui=4.0, est=3.8299040456875186, details={'actual_k': 40, 'was_impossible': False}),\n Prediction(uid=594, iid=3355, r_ui=4.0, est=3.201946771350567, details={'actual_k': 40, 'was_impossible': False}),\n Prediction(uid=139, iid=17671, r_ui=4.0, est=3.604265937882847, details={'actual_k': 40, 'was_impossible': False}),\n Prediction(uid=374, iid=2074, r_ui=5.0, est=4.0849894558996125, details={'actual_k': 40, 'was_impossible': False}),\n Prediction(uid=233, iid=2372, r_ui=4.0, est=3.9712925129950967, details={'actual_k': 40, 'was_impossible': False}),\n Prediction(uid=206, iid=5515, r_ui=3.0, est=3.815503409701389, details={'actual_k': 40, 'was_impossible': False}),\n Prediction(uid=449, iid=2172, r_ui=5.0, est=4.444983348004267, details={'actual_k': 40, 'was_impossible': False}),\n Prediction(uid=272, iid=10872, r_ui=1.0, est=2.5513804959760926, details={'actual_k': 40, 'was_impossible': False}),\n Prediction(uid=1096, iid=13409, r_ui=5.0, est=3.475533239121537, details={'actual_k': 40, 'was_impossible': False}),\n Prediction(uid=806, iid=12846, r_ui=3.0, est=3.4734965038547543, details={'actual_k': 40, 'was_impossible': False}),\n Prediction(uid=940, iid=8388, r_ui=1.0, est=2.505120779499009, details={'actual_k': 40, 'was_impossible': False}),\n Prediction(uid=1, iid=13216, r_ui=2.0, est=2.375501219536127, details={'actual_k': 40, 'was_impossible': False}),\n Prediction(uid=56, iid=8605, r_ui=4.0, est=3.526688814959453, details={'actual_k': 40, 'was_impossible': False}),\n Prediction(uid=624, iid=12629, r_ui=3.0, est=3.2244798466025353, details={'actual_k': 40, 'was_impossible': False}),\n Prediction(uid=435, iid=4377, r_ui=3.0, est=2.623668923774296, details={'actual_k': 40, 'was_impossible': False}),\n Prediction(uid=662, iid=15171, r_ui=5.0, est=2.7279656124578664, details={'actual_k': 40, 'was_impossible': False}),\n Prediction(uid=127, iid=16203, r_ui=3.0, est=3.75490655642027, details={'actual_k': 40, 'was_impossible': False}),\n Prediction(uid=198, iid=3232, r_ui=4.0, est=3.8567488457804724, details={'actual_k': 40, 'was_impossible': False}),\n Prediction(uid=619, iid=3253, r_ui=5.0, est=3.096923330208777, details={'actual_k': 40, 'was_impossible': False}),\n Prediction(uid=315, iid=10805, r_ui=3.0, est=2.8971211827897347, details={'actual_k': 40, 'was_impossible': False}),\n Prediction(uid=11, iid=7928, r_ui=3.0, est=3.501059527678596, details={'actual_k': 40, 'was_impossible': False}),\n Prediction(uid=1044, iid=1256, r_ui=5.0, est=4.3283441829146785, details={'actual_k': 40, 'was_impossible': False}),\n Prediction(uid=308, iid=15396, r_ui=4.0, est=3.7173199716412233, details={'actual_k': 40, 'was_impossible': False}),\n Prediction(uid=664, iid=14731, r_ui=4.0, est=3.427445958407841, details={'actual_k': 40, 'was_impossible': False}),\n Prediction(uid=1118, iid=6374, r_ui=3.0, est=3.7440257597477538, details={'actual_k': 40, 'was_impossible': False}),\n Prediction(uid=36, iid=640, r_ui=3.0, est=2.862457048465151, details={'actual_k': 40, 'was_impossible': False}),\n Prediction(uid=1147, iid=13787, r_ui=4.0, est=4.103213753198665, details={'actual_k': 40, 'was_impossible': False}),\n Prediction(uid=704, iid=13488, r_ui=5.0, est=3.603557295385539, details={'actual_k': 40, 'was_impossible': False}),\n Prediction(uid=840, iid=2153, r_ui=4.0, est=3.5236266484596865, details={'actual_k': 40, 'was_impossible': False}),\n Prediction(uid=804, iid=10702, r_ui=4.0, est=2.86907009447909, details={'actual_k': 40, 'was_impossible': False}),\n Prediction(uid=117, iid=152, r_ui=5.0, est=4.3947495575567865, details={'actual_k': 40, 'was_impossible': False}),\n Prediction(uid=315, iid=1202, r_ui=4.0, est=3.568538648387814, details={'actual_k': 40, 'was_impossible': False}),\n Prediction(uid=75, iid=17474, r_ui=4.0, est=3.8692058980111605, details={'actual_k': 40, 'was_impossible': False}),\n Prediction(uid=478, iid=17508, r_ui=5.0, est=3.480401610470093, details={'actual_k': 40, 'was_impossible': False}),\n Prediction(uid=175, iid=2613, r_ui=4.0, est=3.877013609691385, details={'actual_k': 40, 'was_impossible': False}),\n Prediction(uid=810, iid=6278, r_ui=3.0, est=3.279378915481526, details={'actual_k': 40, 'was_impossible': False}),\n Prediction(uid=418, iid=5016, r_ui=3.0, est=3.3490386543732797, details={'actual_k': 40, 'was_impossible': False}),\n Prediction(uid=769, iid=10852, r_ui=4.0, est=3.7975229409994, details={'actual_k': 40, 'was_impossible': False}),\n Prediction(uid=1008, iid=1783, r_ui=4.0, est=3.1680761363762415, details={'actual_k': 40, 'was_impossible': False}),\n Prediction(uid=400, iid=10078, r_ui=1.0, est=3.048286396858377, details={'actual_k': 40, 'was_impossible': False}),\n Prediction(uid=522, iid=8915, r_ui=5.0, est=3.730635924931062, details={'actual_k': 40, 'was_impossible': False}),\n Prediction(uid=822, iid=12435, r_ui=4.0, est=3.6405934072858845, details={'actual_k': 40, 'was_impossible': False}),\n Prediction(uid=1144, iid=16523, r_ui=2.0, est=3.075362248121958, details={'actual_k': 40, 'was_impossible': False}),\n Prediction(uid=640, iid=10921, r_ui=2.0, est=2.554801932138315, details={'actual_k': 40, 'was_impossible': False}),\n Prediction(uid=28, iid=6166, r_ui=4.0, est=3.3732142109267222, details={'actual_k': 40, 'was_impossible': False}),\n Prediction(uid=780, iid=10820, r_ui=3.0, est=4.20218314918403, details={'actual_k': 40, 'was_impossible': False}),\n Prediction(uid=826, iid=7483, r_ui=3.0, est=3.4448887024990276, details={'actual_k': 40, 'was_impossible': False}),\n Prediction(uid=1193, iid=1110, r_ui=3.0, est=3.7191032494322305, details={'actual_k': 40, 'was_impossible': False}),\n Prediction(uid=289, iid=12800, r_ui=2.0, est=3.1042529884308467, details={'actual_k': 40, 'was_impossible': False}),\n Prediction(uid=110, iid=4753, r_ui=3.0, est=2.67906478350425, details={'actual_k': 40, 'was_impossible': False}),\n Prediction(uid=771, iid=11589, r_ui=3.0, est=3.524520804219266, details={'actual_k': 40, 'was_impossible': False}),\n Prediction(uid=991, iid=7911, r_ui=3.0, est=2.9234504920124142, details={'actual_k': 40, 'was_impossible': False}),\n Prediction(uid=311, iid=6142, r_ui=5.0, est=3.9004694655378547, details={'actual_k': 40, 'was_impossible': False}),\n Prediction(uid=69, iid=15481, r_ui=5.0, est=4.190509827914017, details={'actual_k': 40, 'was_impossible': False}),\n Prediction(uid=607, iid=17565, r_ui=2.0, est=2.5223017944128623, details={'actual_k': 40, 'was_impossible': False}),\n Prediction(uid=277, iid=5863, r_ui=5.0, est=4.127574936660255, details={'actual_k': 40, 'was_impossible': False}),\n Prediction(uid=250, iid=13298, r_ui=5.0, est=3.1266487671861434, details={'actual_k': 40, 'was_impossible': False}),\n Prediction(uid=866, iid=4133, r_ui=3.0, est=3.427591803515628, details={'actual_k': 40, 'was_impossible': False}),\n Prediction(uid=1093, iid=15730, r_ui=3.0, est=2.805739260097542, details={'actual_k': 40, 'was_impossible': False}),\n Prediction(uid=1033, iid=6494, r_ui=3.0, est=2.873520358704713, details={'actual_k': 40, 'was_impossible': False}),\n Prediction(uid=749, iid=6859, r_ui=3.0, est=2.544524479272002, details={'actual_k': 40, 'was_impossible': False}),\n Prediction(uid=896, iid=8596, r_ui=4.0, est=4.3752534482566, details={'actual_k': 40, 'was_impossible': False}),\n Prediction(uid=8, iid=7364, r_ui=4.0, est=4.111252833539048, details={'actual_k': 40, 'was_impossible': False}),\n Prediction(uid=508, iid=16534, r_ui=3.0, est=3.001071030410538, details={'actual_k': 40, 'was_impossible': False}),\n Prediction(uid=873, iid=7750, r_ui=4.0, est=3.554874095033168, details={'actual_k': 40, 'was_impossible': False}),\n Prediction(uid=1184, iid=3710, r_ui=3.0, est=3.623781569395997, details={'actual_k': 40, 'was_impossible': False}),\n Prediction(uid=945, iid=14149, r_ui=3.0, est=3.722720212923301, details={'actual_k': 40, 'was_impossible': False}),\n Prediction(uid=1059, iid=191, r_ui=4.0, est=3.8253634669037035, details={'actual_k': 40, 'was_impossible': False}),\n Prediction(uid=678, iid=5862, r_ui=3.0, est=3.164971126229232, details={'actual_k': 40, 'was_impossible': False}),\n Prediction(uid=456, iid=14056, r_ui=5.0, est=3.7780531712415484, details={'actual_k': 40, 'was_impossible': False}),\n Prediction(uid=19, iid=14212, r_ui=4.0, est=3.314979602051204, details={'actual_k': 40, 'was_impossible': False}),\n Prediction(uid=1138, iid=7970, r_ui=3.0, est=3.7238668806037407, details={'actual_k': 40, 'was_impossible': False}),\n Prediction(uid=96, iid=12096, r_ui=1.0, est=2.2994984960470184, details={'actual_k': 40, 'was_impossible': False}),\n Prediction(uid=67, iid=7391, r_ui=1.0, est=3.0815028950123065, details={'actual_k': 40, 'was_impossible': False}),\n Prediction(uid=1107, iid=13074, r_ui=1.0, est=2.4359370516691015, details={'actual_k': 40, 'was_impossible': False}),\n Prediction(uid=493, iid=7127, r_ui=3.0, est=3.152926355639144, details={'actual_k': 40, 'was_impossible': False}),\n Prediction(uid=984, iid=985, r_ui=4.0, est=3.616606688284922, details={'actual_k': 40, 'was_impossible': False}),\n Prediction(uid=865, iid=10344, r_ui=3.0, est=2.778830271668635, details={'actual_k': 40, 'was_impossible': False}),\n Prediction(uid=827, iid=10144, r_ui=3.0, est=3.603337154950423, details={'actual_k': 40, 'was_impossible': False}),\n Prediction(uid=270, iid=1972, r_ui=2.0, est=3.726112063112986, details={'actual_k': 40, 'was_impossible': False}),\n Prediction(uid=265, iid=896, r_ui=4.0, est=3.25151318035975, details={'actual_k': 40, 'was_impossible': False}),\n Prediction(uid=711, iid=5328, r_ui=3.0, est=3.207582752125398, details={'actual_k': 40, 'was_impossible': False}),\n Prediction(uid=1201, iid=6437, r_ui=2.0, est=2.5045515943396643, details={'actual_k': 40, 'was_impossible': False}),\n Prediction(uid=431, iid=817, r_ui=4.0, est=3.2763131899828326, details={'actual_k': 40, 'was_impossible': False}),\n Prediction(uid=149, iid=1180, r_ui=5.0, est=4.144178472190381, details={'actual_k': 40, 'was_impossible': False}),\n Prediction(uid=1092, iid=2470, r_ui=3.0, est=3.7306822040996144, details={'actual_k': 40, 'was_impossible': False}),\n Prediction(uid=705, iid=14468, r_ui=5.0, est=4.475544147813979, details={'actual_k': 40, 'was_impossible': False}),\n Prediction(uid=877, iid=16860, r_ui=1.0, est=3.063093161370385, details={'actual_k': 40, 'was_impossible': False}),\n Prediction(uid=178, iid=8854, r_ui=2.0, est=3.0780486333060804, details={'actual_k': 40, 'was_impossible': False}),\n Prediction(uid=1002, iid=7447, r_ui=2.0, est=1.882996421501077, details={'actual_k': 16, 'was_impossible': False}),\n Prediction(uid=1061, iid=17646, r_ui=3.0, est=3.132794824710156, details={'actual_k': 40, 'was_impossible': False}),\n Prediction(uid=519, iid=5591, r_ui=4.0, est=3.222281808470994, details={'actual_k': 40, 'was_impossible': False}),\n Prediction(uid=1107, iid=7506, r_ui=1.0, est=1.4325834312327967, details={'actual_k': 16, 'was_impossible': False}),\n Prediction(uid=591, iid=6037, r_ui=4.0, est=3.526368173041834, details={'actual_k': 40, 'was_impossible': False}),\n Prediction(uid=982, iid=9041, r_ui=4.0, est=3.4229956494996396, details={'actual_k': 40, 'was_impossible': False}),\n Prediction(uid=251, iid=8043, r_ui=4.0, est=3.3092519109576006, details={'actual_k': 40, 'was_impossible': False}),\n Prediction(uid=1136, iid=674, r_ui=2.0, est=2.828240839303325, details={'actual_k': 40, 'was_impossible': False}),\n Prediction(uid=466, iid=4418, r_ui=3.0, est=2.6056110287660577, details={'actual_k': 40, 'was_impossible': False}),\n Prediction(uid=821, iid=10831, r_ui=3.0, est=1.887198877944939, details={'actual_k': 40, 'was_impossible': False}),\n Prediction(uid=94, iid=15892, r_ui=2.0, est=3.6526537754125417, details={'actual_k': 40, 'was_impossible': False}),\n Prediction(uid=134, iid=16559, r_ui=3.0, est=3.738973797518499, details={'actual_k': 40, 'was_impossible': False}),\n Prediction(uid=739, iid=408, r_ui=2.0, est=2.116967782665403, details={'actual_k': 40, 'was_impossible': False}),\n Prediction(uid=521, iid=2122, r_ui=3.0, est=2.6314692968716074, details={'actual_k': 40, 'was_impossible': False}),\n Prediction(uid=858, iid=17319, r_ui=3.0, est=3.683035397726674, details={'actual_k': 40, 'was_impossible': False}),\n Prediction(uid=149, iid=4341, r_ui=5.0, est=3.6263637134626796, details={'actual_k': 40, 'was_impossible': False}),\n Prediction(uid=568, iid=14103, r_ui=4.0, est=3.8768296046294446, details={'actual_k': 40, 'was_impossible': False}),\n Prediction(uid=1158, iid=7928, r_ui=4.0, est=3.426256108321857, details={'actual_k': 40, 'was_impossible': False}),\n Prediction(uid=704, iid=14154, r_ui=4.0, est=3.2294916629062866, details={'actual_k': 40, 'was_impossible': False}),\n Prediction(uid=1050, iid=7642, r_ui=4.0, est=3.6742679384116634, details={'actual_k': 40, 'was_impossible': False}),\n Prediction(uid=149, iid=1905, r_ui=5.0, est=4.299825799295443, details={'actual_k': 40, 'was_impossible': False}),\n Prediction(uid=583, iid=11199, r_ui=3.0, est=2.948784523368103, details={'actual_k': 40, 'was_impossible': False}),\n Prediction(uid=900, iid=2132, r_ui=5.0, est=3.8357622459376968, details={'actual_k': 40, 'was_impossible': False}),\n Prediction(uid=771, iid=1661, r_ui=4.0, est=3.3230074918048857, details={'actual_k': 40, 'was_impossible': False}),\n Prediction(uid=541, iid=10918, r_ui=5.0, est=4.027225754916591, details={'actual_k': 40, 'was_impossible': False}),\n Prediction(uid=351, iid=9635, r_ui=3.0, est=3.4235259771833677, details={'actual_k': 40, 'was_impossible': False}),\n Prediction(uid=239, iid=13050, r_ui=2.0, est=3.2767443924860173, details={'actual_k': 40, 'was_impossible': False}),\n Prediction(uid=223, iid=3951, r_ui=3.0, est=2.4348911666485544, details={'actual_k': 40, 'was_impossible': False}),\n Prediction(uid=495, iid=8014, r_ui=3.0, est=3.12326305504757, details={'actual_k': 40, 'was_impossible': False}),\n Prediction(uid=728, iid=6428, r_ui=5.0, est=4.497192033254939, details={'actual_k': 40, 'was_impossible': False}),\n Prediction(uid=1062, iid=1619, r_ui=5.0, est=3.6460188341081317, details={'actual_k': 40, 'was_impossible': False}),\n Prediction(uid=453, iid=1138, r_ui=2.0, est=2.456082979110556, details={'actual_k': 40, 'was_impossible': False}),\n Prediction(uid=494, iid=7595, r_ui=3.0, est=3.129378160072811, details={'actual_k': 40, 'was_impossible': False}),\n Prediction(uid=456, iid=818, r_ui=3.0, est=3.375439041600697, details={'actual_k': 40, 'was_impossible': False}),\n Prediction(uid=482, iid=6806, r_ui=4.0, est=3.9080272036825003, details={'actual_k': 40, 'was_impossible': False}),\n Prediction(uid=587, iid=4831, r_ui=4.0, est=3.125669463487147, details={'actual_k': 40, 'was_impossible': False}),\n Prediction(uid=319, iid=17693, r_ui=1.0, est=4.042132463441162, details={'actual_k': 40, 'was_impossible': False}),\n Prediction(uid=827, iid=8451, r_ui=3.0, est=3.6639682382563312, details={'actual_k': 40, 'was_impossible': False}),\n Prediction(uid=399, iid=8745, r_ui=3.0, est=2.727754865544961, details={'actual_k': 40, 'was_impossible': False}),\n Prediction(uid=139, iid=5686, r_ui=3.0, est=3.0997264947511334, details={'actual_k': 40, 'was_impossible': False}),\n Prediction(uid=537, iid=518, r_ui=3.0, est=3.62608099854308, details={'actual_k': 40, 'was_impossible': False}),\n Prediction(uid=216, iid=7281, r_ui=5.0, est=3.862926515089688, details={'actual_k': 40, 'was_impossible': False}),\n Prediction(uid=944, iid=3285, r_ui=3.0, est=3.3262457099695477, details={'actual_k': 40, 'was_impossible': False}),\n Prediction(uid=681, iid=16082, r_ui=3.0, est=3.2450003060138313, details={'actual_k': 40, 'was_impossible': False}),\n Prediction(uid=156, iid=2577, r_ui=2.0, est=3.3267416937788106, details={'actual_k': 40, 'was_impossible': False}),\n Prediction(uid=996, iid=13619, r_ui=1.0, est=1.890753855010814, details={'actual_k': 40, 'was_impossible': False}),\n Prediction(uid=1002, iid=8809, r_ui=2.0, est=2.970904743357838, details={'actual_k': 40, 'was_impossible': False}),\n Prediction(uid=447, iid=10680, r_ui=3.0, est=3.1311499723988527, details={'actual_k': 40, 'was_impossible': False}),\n Prediction(uid=73, iid=8563, r_ui=5.0, est=3.6808207261416803, details={'actual_k': 40, 'was_impossible': False}),\n Prediction(uid=1184, iid=9125, r_ui=5.0, est=3.887048277399831, details={'actual_k': 40, 'was_impossible': False}),\n Prediction(uid=886, iid=13959, r_ui=4.0, est=3.593838395723679, details={'actual_k': 40, 'was_impossible': False}),\n Prediction(uid=1064, iid=8379, r_ui=3.0, est=3.6692850212194377, details={'actual_k': 40, 'was_impossible': False}),\n Prediction(uid=475, iid=4144, r_ui=2.0, est=3.77615013343162, details={'actual_k': 40, 'was_impossible': False}),\n Prediction(uid=430, iid=10827, r_ui=2.0, est=4.060473101729846, details={'actual_k': 40, 'was_impossible': False}),\n Prediction(uid=750, iid=15909, r_ui=2.0, est=3.0239791903666755, details={'actual_k': 40, 'was_impossible': False}),\n Prediction(uid=246, iid=17474, r_ui=3.0, est=3.7796306962206456, details={'actual_k': 40, 'was_impossible': False}),\n Prediction(uid=28, iid=12317, r_ui=2.0, est=3.5245578362119203, details={'actual_k': 40, 'was_impossible': False}),\n Prediction(uid=250, iid=4447, r_ui=5.0, est=2.500011984119155, details={'actual_k': 38, 'was_impossible': False}),\n Prediction(uid=1038, iid=2873, r_ui=2.0, est=2.4961395804135407, details={'actual_k': 40, 'was_impossible': False}),\n Prediction(uid=657, iid=6849, r_ui=3.0, est=4.0304994757248584, details={'actual_k': 40, 'was_impossible': False}),\n Prediction(uid=909, iid=14925, r_ui=3.0, est=3.478285181955484, details={'actual_k': 40, 'was_impossible': False}),\n Prediction(uid=876, iid=3374, r_ui=3.0, est=2.929927315215646, details={'actual_k': 40, 'was_impossible': False}),\n Prediction(uid=696, iid=11717, r_ui=2.0, est=2.6514064684001095, details={'actual_k': 40, 'was_impossible': False}),\n Prediction(uid=774, iid=3274, r_ui=3.0, est=2.9769832996199845, details={'actual_k': 40, 'was_impossible': False}),\n Prediction(uid=54, iid=4216, r_ui=3.0, est=3.147603942237118, details={'actual_k': 40, 'was_impossible': False}),\n Prediction(uid=706, iid=252, r_ui=3.0, est=3.049888800147978, details={'actual_k': 40, 'was_impossible': False}),\n Prediction(uid=956, iid=4870, r_ui=4.0, est=3.303201331292366, details={'actual_k': 40, 'was_impossible': False}),\n Prediction(uid=926, iid=16486, r_ui=2.0, est=2.1511867427459057, details={'actual_k': 39, 'was_impossible': False}),\n Prediction(uid=949, iid=5882, r_ui=3.0, est=2.549305679579192, details={'actual_k': 40, 'was_impossible': False}),\n Prediction(uid=727, iid=7355, r_ui=2.0, est=3.07009013366733, details={'actual_k': 40, 'was_impossible': False}),\n Prediction(uid=364, iid=138, r_ui=5.0, est=4.619780628192224, details={'actual_k': 40, 'was_impossible': False}),\n Prediction(uid=583, iid=7121, r_ui=3.0, est=2.70812176534506, details={'actual_k': 40, 'was_impossible': False}),\n Prediction(uid=788, iid=5773, r_ui=4.0, est=3.294658320326632, details={'actual_k': 40, 'was_impossible': False}),\n Prediction(uid=915, iid=14060, r_ui=3.0, est=3.296286288690123, details={'actual_k': 40, 'was_impossible': False}),\n Prediction(uid=1160, iid=10052, r_ui=1.0, est=2.7621039285305278, details={'actual_k': 40, 'was_impossible': False}),\n Prediction(uid=288, iid=16016, r_ui=3.0, est=2.64768759337893, details={'actual_k': 40, 'was_impossible': False}),\n Prediction(uid=365, iid=9380, r_ui=1.0, est=2.4701679186872982, details={'actual_k': 40, 'was_impossible': False}),\n Prediction(uid=153, iid=2162, r_ui=4.0, est=3.9732493320236344, details={'actual_k': 40, 'was_impossible': False}),\n Prediction(uid=263, iid=5056, r_ui=1.0, est=2.3925311289249698, details={'actual_k': 40, 'was_impossible': False}),\n Prediction(uid=565, iid=10347, r_ui=3.0, est=3.2627369677482463, details={'actual_k': 40, 'was_impossible': False}),\n Prediction(uid=112, iid=7233, r_ui=4.0, est=3.6466032483159005, details={'actual_k': 40, 'was_impossible': False}),\n Prediction(uid=1109, iid=15394, r_ui=2.0, est=3.120331940724099, details={'actual_k': 40, 'was_impossible': False}),\n Prediction(uid=991, iid=11398, r_ui=3.0, est=3.8271816972385193, details={'actual_k': 40, 'was_impossible': False}),\n Prediction(uid=444, iid=5318, r_ui=1.0, est=2.8779549238473594, details={'actual_k': 40, 'was_impossible': False}),\n Prediction(uid=1107, iid=16113, r_ui=3.0, est=2.3735541509146767, details={'actual_k': 40, 'was_impossible': False}),\n Prediction(uid=601, iid=1901, r_ui=1.0, est=2.8786334401085636, details={'actual_k': 40, 'was_impossible': False}),\n Prediction(uid=960, iid=14552, r_ui=1.0, est=2.5882210047693786, details={'actual_k': 40, 'was_impossible': False}),\n Prediction(uid=1050, iid=13552, r_ui=1.0, est=2.0614274241147887, details={'actual_k': 22, 'was_impossible': False}),\n Prediction(uid=1187, iid=1700, r_ui=1.0, est=2.873940941610071, details={'actual_k': 40, 'was_impossible': False}),\n Prediction(uid=767, iid=17403, r_ui=4.0, est=4.123037488693985, details={'actual_k': 40, 'was_impossible': False}),\n Prediction(uid=521, iid=11166, r_ui=2.0, est=2.8149411191321314, details={'actual_k': 40, 'was_impossible': False}),\n Prediction(uid=715, iid=4745, r_ui=3.0, est=2.905964106604606, details={'actual_k': 40, 'was_impossible': False}),\n Prediction(uid=1018, iid=1780, r_ui=4.0, est=3.1982962832540283, details={'actual_k': 40, 'was_impossible': False}),\n Prediction(uid=487, iid=15193, r_ui=4.0, est=3.9738408456106997, details={'actual_k': 40, 'was_impossible': False}),\n Prediction(uid=963, iid=10805, r_ui=5.0, est=3.2763965531957426, details={'actual_k': 40, 'was_impossible': False}),\n Prediction(uid=15, iid=7851, r_ui=5.0, est=4.0899443245639775, details={'actual_k': 40, 'was_impossible': False}),\n Prediction(uid=1069, iid=7718, r_ui=4.0, est=2.8771878602676235, details={'actual_k': 40, 'was_impossible': False}),\n Prediction(uid=103, iid=6587, r_ui=3.0, est=3.794691716718873, details={'actual_k': 40, 'was_impossible': False}),\n Prediction(uid=1214, iid=8958, r_ui=4.0, est=3.8409179052831948, details={'actual_k': 40, 'was_impossible': False}),\n Prediction(uid=135, iid=3207, r_ui=3.0, est=2.887377474935405, details={'actual_k': 40, 'was_impossible': False}),\n Prediction(uid=136, iid=16169, r_ui=2.0, est=1.9784334410673516, details={'actual_k': 40, 'was_impossible': False}),\n Prediction(uid=1139, iid=16008, r_ui=4.0, est=4.223987287855745, details={'actual_k': 40, 'was_impossible': False}),\n Prediction(uid=626, iid=2960, r_ui=3.0, est=2.874240373018189, details={'actual_k': 40, 'was_impossible': False}),\n Prediction(uid=525, iid=9798, r_ui=3.0, est=3.252014316956754, details={'actual_k': 40, 'was_impossible': False}),\n Prediction(uid=432, iid=15894, r_ui=4.0, est=3.496556671535794, details={'actual_k': 40, 'was_impossible': False}),\n Prediction(uid=261, iid=14027, r_ui=3.0, est=3.1032984186046213, details={'actual_k': 40, 'was_impossible': False}),\n Prediction(uid=1002, iid=16279, r_ui=2.0, est=2.553850909092292, details={'actual_k': 40, 'was_impossible': False}),\n Prediction(uid=291, iid=2213, r_ui=4.0, est=3.739240506533123, details={'actual_k': 40, 'was_impossible': False}),\n Prediction(uid=687, iid=11186, r_ui=5.0, est=4.110985325426661, details={'actual_k': 40, 'was_impossible': False}),\n Prediction(uid=107, iid=17165, r_ui=5.0, est=3.855777849339269, details={'actual_k': 40, 'was_impossible': False}),\n Prediction(uid=128, iid=3198, r_ui=3.0, est=2.8786546017635715, details={'actual_k': 40, 'was_impossible': False}),\n Prediction(uid=727, iid=13524, r_ui=2.0, est=2.3157508826471975, details={'actual_k': 40, 'was_impossible': False}),\n Prediction(uid=905, iid=12836, r_ui=3.0, est=2.8896448907117565, details={'actual_k': 40, 'was_impossible': False}),\n Prediction(uid=559, iid=13342, r_ui=3.0, est=3.2475316966688554, details={'actual_k': 40, 'was_impossible': False}),\n Prediction(uid=594, iid=1769, r_ui=2.0, est=2.739746886880017, details={'actual_k': 40, 'was_impossible': False}),\n Prediction(uid=656, iid=15189, r_ui=1.0, est=2.7961012139515953, details={'actual_k': 40, 'was_impossible': False}),\n Prediction(uid=940, iid=5302, r_ui=1.0, est=2.4304389102611093, details={'actual_k': 40, 'was_impossible': False}),\n Prediction(uid=1053, iid=3826, r_ui=1.0, est=2.6738515151898796, details={'actual_k': 40, 'was_impossible': False}),\n Prediction(uid=767, iid=16885, r_ui=4.0, est=3.3804295373352082, details={'actual_k': 40, 'was_impossible': False}),\n Prediction(uid=94, iid=11152, r_ui=5.0, est=3.8009878874750993, details={'actual_k': 40, 'was_impossible': False}),\n Prediction(uid=701, iid=15460, r_ui=3.0, est=3.4431610182549863, details={'actual_k': 40, 'was_impossible': False}),\n Prediction(uid=357, iid=13636, r_ui=3.0, est=3.8776209282808654, details={'actual_k': 40, 'was_impossible': False}),\n Prediction(uid=252, iid=14199, r_ui=4.0, est=3.8797656660315174, details={'actual_k': 40, 'was_impossible': False}),\n Prediction(uid=774, iid=883, r_ui=2.0, est=2.9794728538386934, details={'actual_k': 40, 'was_impossible': False}),\n Prediction(uid=222, iid=14322, r_ui=3.0, est=3.375303722038013, details={'actual_k': 40, 'was_impossible': False}),\n Prediction(uid=864, iid=117, r_ui=3.0, est=3.3247418634248205, details={'actual_k': 40, 'was_impossible': False}),\n Prediction(uid=1074, iid=12433, r_ui=3.0, est=2.9387506209881065, details={'actual_k': 40, 'was_impossible': False}),\n Prediction(uid=731, iid=15628, r_ui=2.0, est=2.682058858967647, details={'actual_k': 40, 'was_impossible': False}),\n Prediction(uid=823, iid=5971, r_ui=3.0, est=3.2225678806411007, details={'actual_k': 40, 'was_impossible': False}),\n Prediction(uid=365, iid=11896, r_ui=1.0, est=2.4813522922287636, details={'actual_k': 26, 'was_impossible': False}),\n Prediction(uid=1031, iid=4503, r_ui=2.0, est=3.3010538441743282, details={'actual_k': 40, 'was_impossible': False}),\n Prediction(uid=888, iid=14431, r_ui=5.0, est=4.120705030923896, details={'actual_k': 40, 'was_impossible': False}),\n Prediction(uid=928, iid=13074, r_ui=2.0, est=3.751721936660795, details={'actual_k': 40, 'was_impossible': False}),\n Prediction(uid=200, iid=817, r_ui=4.0, est=3.5498935906226423, details={'actual_k': 40, 'was_impossible': False}),\n Prediction(uid=1137, iid=1130, r_ui=3.0, est=3.7155161023312124, details={'actual_k': 40, 'was_impossible': False}),\n Prediction(uid=234, iid=1140, r_ui=1.0, est=3.227165155433725, details={'actual_k': 40, 'was_impossible': False}),\n Prediction(uid=859, iid=6687, r_ui=5.0, est=2.6469260515222177, details={'actual_k': 40, 'was_impossible': False}),\n Prediction(uid=1042, iid=6667, r_ui=2.0, est=2.588450786655375, details={'actual_k': 40, 'was_impossible': False}),\n Prediction(uid=177, iid=14410, r_ui=5.0, est=3.8735485735566524, details={'actual_k': 40, 'was_impossible': False}),\n Prediction(uid=804, iid=3453, r_ui=5.0, est=3.3214257243051173, details={'actual_k': 40, 'was_impossible': False}),\n Prediction(uid=307, iid=8149, r_ui=3.0, est=3.502569152411538, details={'actual_k': 40, 'was_impossible': False}),\n Prediction(uid=225, iid=15748, r_ui=3.0, est=3.325031002420965, details={'actual_k': 40, 'was_impossible': False}),\n Prediction(uid=899, iid=12237, r_ui=3.0, est=3.9841525294366313, details={'actual_k': 40, 'was_impossible': False}),\n Prediction(uid=219, iid=582, r_ui=3.0, est=2.8631510389543022, details={'actual_k': 40, 'was_impossible': False}),\n Prediction(uid=716, iid=16583, r_ui=3.0, est=3.305004684347026, details={'actual_k': 40, 'was_impossible': False}),\n Prediction(uid=892, iid=12843, r_ui=2.0, est=3.096086208592563, details={'actual_k': 40, 'was_impossible': False}),\n Prediction(uid=178, iid=4389, r_ui=2.0, est=3.1026884174321805, details={'actual_k': 40, 'was_impossible': False}),\n Prediction(uid=1096, iid=12934, r_ui=3.0, est=2.982320021074891, details={'actual_k': 40, 'was_impossible': False}),\n Prediction(uid=545, iid=9111, r_ui=2.0, est=2.968865968756326, details={'actual_k': 40, 'was_impossible': False}),\n Prediction(uid=234, iid=6186, r_ui=1.0, est=1.811657750799525, details={'actual_k': 21, 'was_impossible': False}),\n Prediction(uid=948, iid=3633, r_ui=2.0, est=2.8247526835574757, details={'actual_k': 40, 'was_impossible': False}),\n Prediction(uid=420, iid=13248, r_ui=3.0, est=2.5071945708282035, details={'actual_k': 40, 'was_impossible': False}),\n Prediction(uid=25, iid=1151, r_ui=2.0, est=2.2961491409113663, details={'actual_k': 40, 'was_impossible': False}),\n Prediction(uid=942, iid=8773, r_ui=5.0, est=3.918152825433185, details={'actual_k': 40, 'was_impossible': False}),\n Prediction(uid=493, iid=1449, r_ui=2.0, est=1.8055512804214675, details={'actual_k': 17, 'was_impossible': False}),\n Prediction(uid=29, iid=15472, r_ui=3.0, est=3.8803406480539935, details={'actual_k': 40, 'was_impossible': False}),\n Prediction(uid=1199, iid=13074, r_ui=4.0, est=2.928073573541218, details={'actual_k': 40, 'was_impossible': False}),\n Prediction(uid=1133, iid=4100, r_ui=3.0, est=3.5493457290024493, details={'actual_k': 40, 'was_impossible': False}),\n Prediction(uid=1212, iid=12773, r_ui=3.0, est=3.323744606542819, details={'actual_k': 40, 'was_impossible': False}),\n Prediction(uid=938, iid=15373, r_ui=4.0, est=4.397494614492505, details={'actual_k': 40, 'was_impossible': False}),\n Prediction(uid=377, iid=17167, r_ui=4.0, est=3.3632938629365654, details={'actual_k': 40, 'was_impossible': False}),\n Prediction(uid=232, iid=4447, r_ui=2.0, est=2.28683571859092, details={'actual_k': 38, 'was_impossible': False}),\n Prediction(uid=845, iid=7009, r_ui=2.0, est=2.561124635632926, details={'actual_k': 40, 'was_impossible': False}),\n Prediction(uid=258, iid=13629, r_ui=3.0, est=4.154902753201371, details={'actual_k': 40, 'was_impossible': False}),\n Prediction(uid=261, iid=11062, r_ui=2.0, est=3.3696018935834857, details={'actual_k': 40, 'was_impossible': False}),\n Prediction(uid=562, iid=10642, r_ui=4.0, est=2.782621244490171, details={'actual_k': 40, 'was_impossible': False}),\n Prediction(uid=1080, iid=3364, r_ui=1.0, est=3.02355996839958, details={'actual_k': 40, 'was_impossible': False}),\n Prediction(uid=570, iid=9037, r_ui=4.0, est=2.309620744898544, details={'actual_k': 40, 'was_impossible': False}),\n Prediction(uid=359, iid=11521, r_ui=5.0, est=4.3453098724510335, details={'actual_k': 40, 'was_impossible': False}),\n Prediction(uid=744, iid=9929, r_ui=5.0, est=4.239857592561438, details={'actual_k': 40, 'was_impossible': False}),\n Prediction(uid=992, iid=10886, r_ui=3.0, est=3.3721366247057856, details={'actual_k': 40, 'was_impossible': False}),\n Prediction(uid=331, iid=16547, r_ui=5.0, est=4.152399367674235, details={'actual_k': 40, 'was_impossible': False}),\n Prediction(uid=394, iid=6204, r_ui=4.0, est=3.749618070396722, details={'actual_k': 40, 'was_impossible': False}),\n Prediction(uid=373, iid=10778, r_ui=5.0, est=3.8114078311154773, details={'actual_k': 40, 'was_impossible': False}),\n Prediction(uid=23, iid=15339, r_ui=3.0, est=3.399935190666446, details={'actual_k': 40, 'was_impossible': False}),\n Prediction(uid=596, iid=6670, r_ui=3.0, est=3.024509881995339, details={'actual_k': 40, 'was_impossible': False}),\n Prediction(uid=635, iid=10043, r_ui=3.0, est=3.8848489932727213, details={'actual_k': 40, 'was_impossible': False}),\n Prediction(uid=285, iid=6788, r_ui=3.0, est=3.405359270938974, details={'actual_k': 40, 'was_impossible': False}),\n Prediction(uid=187, iid=4411, r_ui=5.0, est=3.739165285668075, details={'actual_k': 40, 'was_impossible': False}),\n Prediction(uid=1211, iid=2391, r_ui=4.0, est=3.431395325172023, details={'actual_k': 40, 'was_impossible': False}),\n Prediction(uid=663, iid=9818, r_ui=3.0, est=3.8020557609260095, details={'actual_k': 40, 'was_impossible': False}),\n Prediction(uid=478, iid=16660, r_ui=4.0, est=3.553264779588065, details={'actual_k': 40, 'was_impossible': False}),\n Prediction(uid=353, iid=14302, r_ui=1.0, est=4.130356331918159, details={'actual_k': 40, 'was_impossible': False}),\n Prediction(uid=772, iid=10293, r_ui=2.0, est=2.2643474355729465, details={'actual_k': 40, 'was_impossible': False}),\n Prediction(uid=635, iid=7082, r_ui=3.0, est=3.401047545541548, details={'actual_k': 40, 'was_impossible': False}),\n Prediction(uid=653, iid=2688, r_ui=3.0, est=2.9235571539150613, details={'actual_k': 40, 'was_impossible': False}),\n Prediction(uid=1077, iid=9913, r_ui=3.0, est=3.5014026219989307, details={'actual_k': 40, 'was_impossible': False}),\n Prediction(uid=1168, iid=12911, r_ui=3.0, est=2.9278313029334844, details={'actual_k': 40, 'was_impossible': False}),\n Prediction(uid=153, iid=17758, r_ui=3.0, est=2.730909119993498, details={'actual_k': 40, 'was_impossible': False}),\n Prediction(uid=1176, iid=452, r_ui=3.0, est=3.028028716483032, details={'actual_k': 40, 'was_impossible': False}),\n Prediction(uid=135, iid=7821, r_ui=1.0, est=1.5621728382662852, details={'actual_k': 17, 'was_impossible': False}),\n Prediction(uid=1129, iid=5462, r_ui=4.0, est=3.3978551864874262, details={'actual_k': 40, 'was_impossible': False}),\n Prediction(uid=495, iid=4545, r_ui=5.0, est=4.028768908683662, details={'actual_k': 40, 'was_impossible': False}),\n Prediction(uid=766, iid=1752, r_ui=1.0, est=1.4961277670621125, details={'actual_k': 10, 'was_impossible': False}),\n Prediction(uid=374, iid=16038, r_ui=1.0, est=3.1755956218124943, details={'actual_k': 40, 'was_impossible': False}),\n Prediction(uid=625, iid=4870, r_ui=3.0, est=3.2754316860047505, details={'actual_k': 40, 'was_impossible': False}),\n Prediction(uid=652, iid=5239, r_ui=4.0, est=3.3244028159339822, details={'actual_k': 40, 'was_impossible': False}),\n Prediction(uid=155, iid=5360, r_ui=5.0, est=3.9500984469008937, details={'actual_k': 40, 'was_impossible': False}),\n Prediction(uid=556, iid=3611, r_ui=4.0, est=3.35034569065568, details={'actual_k': 40, 'was_impossible': False}),\n Prediction(uid=793, iid=16469, r_ui=4.0, est=3.4030853183562524, details={'actual_k': 40, 'was_impossible': False}),\n Prediction(uid=731, iid=4413, r_ui=3.0, est=2.818542567342327, details={'actual_k': 40, 'was_impossible': False}),\n Prediction(uid=168, iid=2866, r_ui=2.0, est=3.0520048802794606, details={'actual_k': 40, 'was_impossible': False}),\n Prediction(uid=557, iid=4315, r_ui=4.0, est=3.3988954304931944, details={'actual_k': 40, 'was_impossible': False}),\n Prediction(uid=1214, iid=5562, r_ui=5.0, est=3.7491801429128144, details={'actual_k': 40, 'was_impossible': False}),\n Prediction(uid=25, iid=5652, r_ui=4.0, est=3.647772872348851, details={'actual_k': 40, 'was_impossible': False}),\n Prediction(uid=710, iid=1693, r_ui=2.0, est=2.8308257135988235, details={'actual_k': 40, 'was_impossible': False}),\n Prediction(uid=301, iid=15475, r_ui=4.0, est=3.958014962911335, details={'actual_k': 40, 'was_impossible': False}),\n Prediction(uid=1197, iid=11443, r_ui=1.0, est=2.8230106781813094, details={'actual_k': 40, 'was_impossible': False}),\n Prediction(uid=1162, iid=13047, r_ui=3.0, est=4.084337464939903, details={'actual_k': 40, 'was_impossible': False}),\n Prediction(uid=922, iid=1867, r_ui=4.0, est=3.5542000721035643, details={'actual_k': 40, 'was_impossible': False}),\n Prediction(uid=135, iid=17737, r_ui=1.0, est=2.3140543557081754, details={'actual_k': 18, 'was_impossible': False}),\n Prediction(uid=40, iid=8512, r_ui=2.0, est=3.078132585696406, details={'actual_k': 40, 'was_impossible': False}),\n Prediction(uid=966, iid=1956, r_ui=3.0, est=3.6773817571846106, details={'actual_k': 40, 'was_impossible': False}),\n Prediction(uid=759, iid=2465, r_ui=5.0, est=3.8749150865377104, details={'actual_k': 40, 'was_impossible': False}),\n Prediction(uid=374, iid=2385, r_ui=1.0, est=3.738530506213261, details={'actual_k': 40, 'was_impossible': False}),\n Prediction(uid=647, iid=13255, r_ui=3.0, est=4.168744587763563, details={'actual_k': 40, 'was_impossible': False}),\n Prediction(uid=988, iid=10930, r_ui=2.0, est=2.0301836462062157, details={'actual_k': 40, 'was_impossible': False}),\n Prediction(uid=474, iid=10204, r_ui=2.0, est=2.86706553688037, details={'actual_k': 32, 'was_impossible': False}),\n Prediction(uid=894, iid=17656, r_ui=1.0, est=2.665373820968939, details={'actual_k': 40, 'was_impossible': False}),\n Prediction(uid=495, iid=9814, r_ui=4.0, est=3.544812915707004, details={'actual_k': 40, 'was_impossible': False}),\n Prediction(uid=984, iid=2803, r_ui=4.0, est=3.627885695969283, details={'actual_k': 40, 'was_impossible': False}),\n Prediction(uid=161, iid=5055, r_ui=3.0, est=3.249676304850671, details={'actual_k': 40, 'was_impossible': False}),\n Prediction(uid=1150, iid=2372, r_ui=3.0, est=3.6483166568565317, details={'actual_k': 40, 'was_impossible': False}),\n Prediction(uid=1154, iid=10225, r_ui=3.0, est=3.1195719209245856, details={'actual_k': 40, 'was_impossible': False}),\n Prediction(uid=51, iid=2518, r_ui=3.0, est=3.1768089395893604, details={'actual_k': 40, 'was_impossible': False}),\n Prediction(uid=314, iid=822, r_ui=5.0, est=4.478423027849206, details={'actual_k': 40, 'was_impossible': False}),\n Prediction(uid=1114, iid=10537, r_ui=2.0, est=2.648389255838541, details={'actual_k': 40, 'was_impossible': False}),\n Prediction(uid=5, iid=16806, r_ui=3.0, est=2.922718002139765, details={'actual_k': 40, 'was_impossible': False}),\n Prediction(uid=876, iid=3467, r_ui=1.0, est=2.5224499180246553, details={'actual_k': 40, 'was_impossible': False}),\n Prediction(uid=976, iid=8250, r_ui=4.0, est=3.3271406655237143, details={'actual_k': 40, 'was_impossible': False}),\n Prediction(uid=657, iid=7125, r_ui=4.0, est=4.032490662649252, details={'actual_k': 40, 'was_impossible': False}),\n Prediction(uid=1166, iid=8016, r_ui=1.0, est=2.9289067735011165, details={'actual_k': 40, 'was_impossible': False}),\n Prediction(uid=210, iid=8014, r_ui=3.0, est=2.8203436245353792, details={'actual_k': 40, 'was_impossible': False}),\n Prediction(uid=1063, iid=2020, r_ui=5.0, est=3.700894759234184, details={'actual_k': 40, 'was_impossible': False}),\n Prediction(uid=519, iid=8524, r_ui=3.0, est=3.602499866140907, details={'actual_k': 40, 'was_impossible': False}),\n Prediction(uid=971, iid=16060, r_ui=4.0, est=3.356188146705423, details={'actual_k': 40, 'was_impossible': False}),\n Prediction(uid=762, iid=4612, r_ui=1.0, est=2.9250156954728688, details={'actual_k': 40, 'was_impossible': False}),\n Prediction(uid=645, iid=7233, r_ui=4.0, est=3.668568655823824, details={'actual_k': 40, 'was_impossible': False}),\n Prediction(uid=234, iid=15445, r_ui=3.0, est=3.301902674072294, details={'actual_k': 40, 'was_impossible': False}),\n Prediction(uid=1124, iid=1305, r_ui=4.0, est=3.1276354758405587, details={'actual_k': 40, 'was_impossible': False}),\n Prediction(uid=406, iid=14459, r_ui=4.0, est=3.5569498532898014, details={'actual_k': 40, 'was_impossible': False}),\n Prediction(uid=371, iid=9113, r_ui=3.0, est=3.551023578115643, details={'actual_k': 40, 'was_impossible': False}),\n Prediction(uid=634, iid=7429, r_ui=3.0, est=2.508478300920721, details={'actual_k': 15, 'was_impossible': False}),\n Prediction(uid=634, iid=9280, r_ui=3.0, est=2.6770008767582336, details={'actual_k': 40, 'was_impossible': False}),\n Prediction(uid=176, iid=6655, r_ui=1.0, est=3.8683914847880865, details={'actual_k': 40, 'was_impossible': False}),\n Prediction(uid=467, iid=1110, r_ui=4.0, est=3.454935086172995, details={'actual_k': 40, 'was_impossible': False}),\n Prediction(uid=194, iid=12976, r_ui=3.0, est=3.399756687069253, details={'actual_k': 40, 'was_impossible': False}),\n Prediction(uid=501, iid=16260, r_ui=5.0, est=3.6772287214952786, details={'actual_k': 40, 'was_impossible': False}),\n Prediction(uid=546, iid=8034, r_ui=4.0, est=3.0265524316354044, details={'actual_k': 40, 'was_impossible': False}),\n Prediction(uid=285, iid=15582, r_ui=3.0, est=3.1026014676269833, details={'actual_k': 40, 'was_impossible': False}),\n Prediction(uid=1171, iid=8079, r_ui=4.0, est=3.471321049731956, details={'actual_k': 40, 'was_impossible': False}),\n Prediction(uid=135, iid=9508, r_ui=1.0, est=2.712177768034858, details={'actual_k': 40, 'was_impossible': False}),\n Prediction(uid=13, iid=17247, r_ui=3.0, est=3.6262234729381, details={'actual_k': 40, 'was_impossible': False}),\n Prediction(uid=782, iid=11888, r_ui=4.0, est=3.575940187984254, details={'actual_k': 40, 'was_impossible': False}),\n Prediction(uid=460, iid=652, r_ui=4.0, est=3.4505320300365567, details={'actual_k': 40, 'was_impossible': False}),\n Prediction(uid=210, iid=10852, r_ui=3.0, est=3.649620731567801, details={'actual_k': 40, 'was_impossible': False}),\n Prediction(uid=516, iid=6267, r_ui=2.0, est=2.5759012990006176, details={'actual_k': 40, 'was_impossible': False}),\n Prediction(uid=20, iid=7590, r_ui=5.0, est=3.903026842801503, details={'actual_k': 40, 'was_impossible': False}),\n Prediction(uid=228, iid=10211, r_ui=3.0, est=3.5248583136694034, details={'actual_k': 40, 'was_impossible': False}),\n Prediction(uid=333, iid=12799, r_ui=3.0, est=3.3029067753130517, details={'actual_k': 40, 'was_impossible': False}),\n Prediction(uid=1102, iid=12668, r_ui=3.0, est=3.72433578501626, details={'actual_k': 40, 'was_impossible': False}),\n Prediction(uid=905, iid=14456, r_ui=4.0, est=3.4860888282894105, details={'actual_k': 40, 'was_impossible': False}),\n Prediction(uid=1126, iid=9042, r_ui=4.0, est=3.884979260845737, details={'actual_k': 40, 'was_impossible': False}),\n Prediction(uid=11, iid=2495, r_ui=2.0, est=2.875787367958809, details={'actual_k': 40, 'was_impossible': False}),\n Prediction(uid=1054, iid=5258, r_ui=5.0, est=4.197606241418082, details={'actual_k': 40, 'was_impossible': False}),\n Prediction(uid=993, iid=16597, r_ui=2.0, est=2.0893637764758406, details={'actual_k': 18, 'was_impossible': False}),\n Prediction(uid=881, iid=17154, r_ui=5.0, est=4.04981233224804, details={'actual_k': 40, 'was_impossible': False}),\n Prediction(uid=445, iid=8898, r_ui=4.0, est=3.9851333984573696, details={'actual_k': 40, 'was_impossible': False}),\n Prediction(uid=335, iid=14983, r_ui=5.0, est=4.333203409050245, details={'actual_k': 40, 'was_impossible': False}),\n Prediction(uid=847, iid=16550, r_ui=3.0, est=3.0940228723914847, details={'actual_k': 40, 'was_impossible': False}),\n Prediction(uid=217, iid=11171, r_ui=4.0, est=3.047674304478678, details={'actual_k': 40, 'was_impossible': False}),\n Prediction(uid=1141, iid=13326, r_ui=4.0, est=3.394934987348388, details={'actual_k': 40, 'was_impossible': False}),\n Prediction(uid=349, iid=5786, r_ui=2.0, est=2.411037323453489, details={'actual_k': 28, 'was_impossible': False}),\n Prediction(uid=1157, iid=2195, r_ui=3.0, est=4.016646731523324, details={'actual_k': 40, 'was_impossible': False}),\n Prediction(uid=427, iid=10392, r_ui=3.0, est=3.6502944709795764, details={'actual_k': 40, 'was_impossible': False}),\n Prediction(uid=14, iid=14795, r_ui=2.0, est=2.521216606186168, details={'actual_k': 40, 'was_impossible': False}),\n Prediction(uid=493, iid=3872, r_ui=3.0, est=3.3162809382883887, details={'actual_k': 40, 'was_impossible': False}),\n Prediction(uid=426, iid=16607, r_ui=5.0, est=4.136520017275725, details={'actual_k': 40, 'was_impossible': False}),\n Prediction(uid=1165, iid=17361, r_ui=4.0, est=3.403565844435456, details={'actual_k': 40, 'was_impossible': False}),\n Prediction(uid=523, iid=30, r_ui=2.0, est=3.677871278459174, details={'actual_k': 40, 'was_impossible': False}),\n Prediction(uid=179, iid=7356, r_ui=3.0, est=2.921812984893785, details={'actual_k': 40, 'was_impossible': False}),\n Prediction(uid=29, iid=11161, r_ui=3.0, est=3.252322322974837, details={'actual_k': 40, 'was_impossible': False}),\n Prediction(uid=12, iid=1175, r_ui=1.0, est=3.0736693090136322, details={'actual_k': 40, 'was_impossible': False}),\n Prediction(uid=46, iid=3198, r_ui=5.0, est=3.899785025335691, details={'actual_k': 40, 'was_impossible': False}),\n Prediction(uid=225, iid=9028, r_ui=5.0, est=3.5751792362201633, details={'actual_k': 40, 'was_impossible': False}),\n Prediction(uid=595, iid=3522, r_ui=4.0, est=2.8550991699143853, details={'actual_k': 40, 'was_impossible': False}),\n Prediction(uid=492, iid=3229, r_ui=5.0, est=3.698265005783108, details={'actual_k': 40, 'was_impossible': False}),\n Prediction(uid=134, iid=2962, r_ui=3.0, est=3.6572155738164245, details={'actual_k': 40, 'was_impossible': False}),\n Prediction(uid=1133, iid=10947, r_ui=5.0, est=4.143444978879941, details={'actual_k': 40, 'was_impossible': False}),\n Prediction(uid=103, iid=7038, r_ui=3.0, est=3.174378960349196, details={'actual_k': 40, 'was_impossible': False}),\n Prediction(uid=828, iid=10832, r_ui=3.0, est=3.316239866212385, details={'actual_k': 40, 'was_impossible': False}),\n Prediction(uid=886, iid=7572, r_ui=3.0, est=2.672330114813745, details={'actual_k': 40, 'was_impossible': False}),\n Prediction(uid=30, iid=3135, r_ui=2.0, est=2.9717940889009147, details={'actual_k': 40, 'was_impossible': False}),\n Prediction(uid=592, iid=15481, r_ui=2.0, est=2.375008913747005, details={'actual_k': 40, 'was_impossible': False}),\n Prediction(uid=985, iid=7266, r_ui=2.0, est=2.7878096377561232, details={'actual_k': 30, 'was_impossible': False}),\n Prediction(uid=832, iid=11139, r_ui=3.0, est=3.590568653182715, details={'actual_k': 40, 'was_impossible': False}),\n Prediction(uid=296, iid=7125, r_ui=1.0, est=2.969928548825421, details={'actual_k': 40, 'was_impossible': False}),\n Prediction(uid=11, iid=6318, r_ui=3.0, est=3.0219701837592328, details={'actual_k': 40, 'was_impossible': False}),\n Prediction(uid=177, iid=8801, r_ui=2.0, est=2.8709227889296542, details={'actual_k': 40, 'was_impossible': False}),\n Prediction(uid=303, iid=9981, r_ui=2.0, est=3.330520886374693, details={'actual_k': 40, 'was_impossible': False}),\n Prediction(uid=638, iid=7705, r_ui=4.0, est=3.020393713467847, details={'actual_k': 40, 'was_impossible': False}),\n Prediction(uid=741, iid=2199, r_ui=4.0, est=3.076364116847774, details={'actual_k': 40, 'was_impossible': False}),\n Prediction(uid=25, iid=11907, r_ui=3.0, est=3.4238044749535788, details={'actual_k': 40, 'was_impossible': False}),\n Prediction(uid=95, iid=4790, r_ui=4.0, est=3.5285655146229806, details={'actual_k': 40, 'was_impossible': False}),\n Prediction(uid=784, iid=13974, r_ui=2.0, est=2.578966719074779, details={'actual_k': 40, 'was_impossible': False}),\n Prediction(uid=67, iid=1650, r_ui=3.0, est=3.575531652700588, details={'actual_k': 40, 'was_impossible': False}),\n Prediction(uid=549, iid=3611, r_ui=3.0, est=3.301490815577594, details={'actual_k': 40, 'was_impossible': False}),\n Prediction(uid=220, iid=13660, r_ui=1.0, est=2.5402384721642637, details={'actual_k': 40, 'was_impossible': False}),\n Prediction(uid=898, iid=10363, r_ui=3.0, est=3.3933797789404516, details={'actual_k': 40, 'was_impossible': False}),\n Prediction(uid=103, iid=12861, r_ui=3.0, est=3.0170880143307626, details={'actual_k': 40, 'was_impossible': False}),\n Prediction(uid=601, iid=5092, r_ui=4.0, est=3.7695302558381507, details={'actual_k': 40, 'was_impossible': False}),\n Prediction(uid=676, iid=16203, r_ui=3.0, est=2.7999789635438552, details={'actual_k': 40, 'was_impossible': False}),\n Prediction(uid=1017, iid=7780, r_ui=4.0, est=4.005018585554083, details={'actual_k': 40, 'was_impossible': False}),\n Prediction(uid=510, iid=14407, r_ui=4.0, est=3.5695527416145163, details={'actual_k': 40, 'was_impossible': False}),\n Prediction(uid=293, iid=6438, r_ui=3.0, est=3.662563964554162, details={'actual_k': 40, 'was_impossible': False}),\n Prediction(uid=840, iid=819, r_ui=2.0, est=3.396189284620107, details={'actual_k': 40, 'was_impossible': False}),\n Prediction(uid=484, iid=15628, r_ui=3.0, est=3.00178988472354, details={'actual_k': 40, 'was_impossible': False}),\n Prediction(uid=45, iid=1810, r_ui=2.0, est=2.8455989653593985, details={'actual_k': 40, 'was_impossible': False}),\n Prediction(uid=106, iid=4751, r_ui=2.0, est=3.3992693852265243, details={'actual_k': 40, 'was_impossible': False}),\n Prediction(uid=415, iid=2175, r_ui=3.0, est=3.350236132452027, details={'actual_k': 40, 'was_impossible': False}),\n Prediction(uid=91, iid=12019, r_ui=4.0, est=4.303528125804502, details={'actual_k': 40, 'was_impossible': False}),\n Prediction(uid=717, iid=16992, r_ui=3.0, est=3.547782889872376, details={'actual_k': 40, 'was_impossible': False}),\n Prediction(uid=60, iid=10895, r_ui=3.0, est=3.5003803284382435, details={'actual_k': 40, 'was_impossible': False}),\n Prediction(uid=76, iid=13010, r_ui=1.0, est=2.9861889327031323, details={'actual_k': 40, 'was_impossible': False}),\n Prediction(uid=52, iid=7932, r_ui=4.0, est=4.116244251169595, details={'actual_k': 40, 'was_impossible': False}),\n Prediction(uid=89, iid=17002, r_ui=4.0, est=3.8254283295071434, details={'actual_k': 40, 'was_impossible': False}),\n Prediction(uid=602, iid=7643, r_ui=4.0, est=4.050041414522656, details={'actual_k': 40, 'was_impossible': False}),\n Prediction(uid=892, iid=12540, r_ui=1.0, est=2.6802918082905345, details={'actual_k': 40, 'was_impossible': False}),\n Prediction(uid=19, iid=1922, r_ui=2.0, est=2.9086390545732597, details={'actual_k': 40, 'was_impossible': False}),\n Prediction(uid=352, iid=5317, r_ui=5.0, est=3.7732350661747227, details={'actual_k': 40, 'was_impossible': False}),\n Prediction(uid=923, iid=1409, r_ui=3.0, est=3.8841107262573096, details={'actual_k': 40, 'was_impossible': False}),\n Prediction(uid=592, iid=4380, r_ui=1.0, est=2.573149113502923, details={'actual_k': 40, 'was_impossible': False}),\n Prediction(uid=324, iid=16525, r_ui=3.0, est=3.4919345675347477, details={'actual_k': 40, 'was_impossible': False}),\n Prediction(uid=781, iid=3102, r_ui=5.0, est=4.253574095764221, details={'actual_k': 40, 'was_impossible': False}),\n Prediction(uid=874, iid=7904, r_ui=1.0, est=2.3469464055508618, details={'actual_k': 40, 'was_impossible': False}),\n Prediction(uid=905, iid=12693, r_ui=4.0, est=3.4025139238927657, details={'actual_k': 40, 'was_impossible': False}),\n Prediction(uid=559, iid=11929, r_ui=3.0, est=2.972989027598284, details={'actual_k': 40, 'was_impossible': False}),\n Prediction(uid=663, iid=1578, r_ui=3.0, est=2.726382651566307, details={'actual_k': 40, 'was_impossible': False}),\n Prediction(uid=343, iid=511, r_ui=4.0, est=3.232643934309531, details={'actual_k': 40, 'was_impossible': False}),\n Prediction(uid=544, iid=3733, r_ui=4.0, est=3.6024893445266417, details={'actual_k': 40, 'was_impossible': False}),\n Prediction(uid=1075, iid=7131, r_ui=3.0, est=3.025807149621892, details={'actual_k': 40, 'was_impossible': False}),\n Prediction(uid=1099, iid=4612, r_ui=1.0, est=3.100862053802751, details={'actual_k': 40, 'was_impossible': False}),\n Prediction(uid=152, iid=468, r_ui=4.0, est=3.8461589215867753, details={'actual_k': 40, 'was_impossible': False}),\n Prediction(uid=793, iid=6227, r_ui=2.0, est=2.648683466289006, details={'actual_k': 40, 'was_impossible': False}),\n Prediction(uid=206, iid=1525, r_ui=2.0, est=2.3252474773974887, details={'actual_k': 40, 'was_impossible': False}),\n Prediction(uid=243, iid=5121, r_ui=1.0, est=1.780425265759026, details={'actual_k': 40, 'was_impossible': False}),\n Prediction(uid=416, iid=16821, r_ui=3.0, est=3.2943003700704985, details={'actual_k': 40, 'was_impossible': False}),\n Prediction(uid=497, iid=15530, r_ui=4.0, est=4.050565908556522, details={'actual_k': 40, 'was_impossible': False}),\n Prediction(uid=242, iid=10509, r_ui=4.0, est=3.526039165263015, details={'actual_k': 40, 'was_impossible': False}),\n Prediction(uid=868, iid=14320, r_ui=4.0, est=4.002669301120772, details={'actual_k': 40, 'was_impossible': False}),\n Prediction(uid=1103, iid=15153, r_ui=5.0, est=3.772884368611218, details={'actual_k': 40, 'was_impossible': False}),\n Prediction(uid=1136, iid=8667, r_ui=3.0, est=2.6043762591443853, details={'actual_k': 40, 'was_impossible': False}),\n Prediction(uid=915, iid=13437, r_ui=4.0, est=3.2254468816236916, details={'actual_k': 40, 'was_impossible': False}),\n Prediction(uid=30, iid=11730, r_ui=3.0, est=2.8289402764467555, details={'actual_k': 40, 'was_impossible': False}),\n Prediction(uid=438, iid=17537, r_ui=1.0, est=3.4064686808335374, details={'actual_k': 40, 'was_impossible': False}),\n Prediction(uid=1097, iid=9592, r_ui=4.0, est=3.8988080720716285, details={'actual_k': 40, 'was_impossible': False}),\n Prediction(uid=761, iid=11446, r_ui=3.0, est=2.912310567947787, details={'actual_k': 40, 'was_impossible': False}),\n Prediction(uid=942, iid=14457, r_ui=5.0, est=4.077533902740103, details={'actual_k': 40, 'was_impossible': False}),\n Prediction(uid=706, iid=3858, r_ui=1.0, est=2.822446579405627, details={'actual_k': 40, 'was_impossible': False}),\n Prediction(uid=1108, iid=5928, r_ui=3.0, est=3.747678359579576, details={'actual_k': 40, 'was_impossible': False}),\n Prediction(uid=188, iid=1712, r_ui=5.0, est=2.826736886414469, details={'actual_k': 18, 'was_impossible': False}),\n Prediction(uid=890, iid=8911, r_ui=3.0, est=2.579145096137391, details={'actual_k': 40, 'was_impossible': False}),\n Prediction(uid=495, iid=15466, r_ui=1.0, est=3.127081648427437, details={'actual_k': 40, 'was_impossible': False}),\n Prediction(uid=198, iid=17154, r_ui=4.0, est=4.099556383785516, details={'actual_k': 40, 'was_impossible': False}),\n Prediction(uid=515, iid=15107, r_ui=4.0, est=4.227458730859842, details={'actual_k': 40, 'was_impossible': False}),\n Prediction(uid=485, iid=14624, r_ui=4.0, est=3.5739225961342838, details={'actual_k': 40, 'was_impossible': False}),\n Prediction(uid=164, iid=14408, r_ui=2.0, est=2.868446134694338, details={'actual_k': 40, 'was_impossible': False}),\n Prediction(uid=697, iid=7499, r_ui=3.0, est=3.9636909041722395, details={'actual_k': 40, 'was_impossible': False}),\n Prediction(uid=753, iid=4761, r_ui=2.0, est=3.1892105761971257, details={'actual_k': 40, 'was_impossible': False}),\n Prediction(uid=431, iid=14283, r_ui=2.0, est=3.622445643270278, details={'actual_k': 40, 'was_impossible': False}),\n Prediction(uid=604, iid=14966, r_ui=1.0, est=2.447460319127084, details={'actual_k': 40, 'was_impossible': False}),\n Prediction(uid=74, iid=3326, r_ui=1.0, est=2.424229888908752, details={'actual_k': 40, 'was_impossible': False}),\n Prediction(uid=58, iid=16997, r_ui=3.0, est=3.2238910753282024, details={'actual_k': 40, 'was_impossible': False}),\n Prediction(uid=1167, iid=14074, r_ui=3.0, est=2.950648140606796, details={'actual_k': 40, 'was_impossible': False}),\n Prediction(uid=186, iid=9360, r_ui=3.0, est=2.708691352305259, details={'actual_k': 40, 'was_impossible': False}),\n Prediction(uid=714, iid=9406, r_ui=4.0, est=3.2877361701438645, details={'actual_k': 40, 'was_impossible': False}),\n Prediction(uid=403, iid=17100, r_ui=5.0, est=3.7484804353122914, details={'actual_k': 40, 'was_impossible': False}),\n Prediction(uid=1095, iid=215, r_ui=3.0, est=3.7963648318402674, details={'actual_k': 40, 'was_impossible': False}),\n Prediction(uid=677, iid=996, r_ui=4.0, est=4.058528469168955, details={'actual_k': 40, 'was_impossible': False}),\n Prediction(uid=710, iid=486, r_ui=2.0, est=3.3917991237915635, details={'actual_k': 40, 'was_impossible': False}),\n Prediction(uid=774, iid=3777, r_ui=3.0, est=3.4732037346449345, details={'actual_k': 40, 'was_impossible': False}),\n Prediction(uid=491, iid=15024, r_ui=3.0, est=3.061621569717409, details={'actual_k': 40, 'was_impossible': False}),\n Prediction(uid=613, iid=12774, r_ui=3.0, est=3.1686548158867756, details={'actual_k': 40, 'was_impossible': False}),\n Prediction(uid=667, iid=2779, r_ui=3.0, est=2.191537558794519, details={'actual_k': 40, 'was_impossible': False}),\n Prediction(uid=343, iid=7627, r_ui=5.0, est=3.219045084915934, details={'actual_k': 40, 'was_impossible': False}),\n Prediction(uid=168, iid=5783, r_ui=5.0, est=2.871630127647984, details={'actual_k': 40, 'was_impossible': False}),\n Prediction(uid=244, iid=2516, r_ui=4.0, est=2.419838249641313, details={'actual_k': 29, 'was_impossible': False}),\n Prediction(uid=822, iid=12870, r_ui=4.0, est=3.7386847019216547, details={'actual_k': 40, 'was_impossible': False}),\n Prediction(uid=380, iid=1708, r_ui=2.0, est=3.631368475793054, details={'actual_k': 40, 'was_impossible': False}),\n Prediction(uid=1154, iid=16129, r_ui=2.0, est=1.811279990770926, details={'actual_k': 40, 'was_impossible': False}),\n Prediction(uid=306, iid=13107, r_ui=4.0, est=4.134918087509561, details={'actual_k': 40, 'was_impossible': False}),\n Prediction(uid=148, iid=3161, r_ui=3.0, est=2.850627605240683, details={'actual_k': 40, 'was_impossible': False}),\n Prediction(uid=1002, iid=307, r_ui=3.0, est=2.6195854239609195, details={'actual_k': 14, 'was_impossible': False}),\n Prediction(uid=71, iid=7882, r_ui=3.0, est=3.529467621322021, details={'actual_k': 40, 'was_impossible': False}),\n Prediction(uid=417, iid=10392, r_ui=2.0, est=2.820403484990619, details={'actual_k': 40, 'was_impossible': False}),\n Prediction(uid=196, iid=8337, r_ui=3.0, est=3.1726591444215586, details={'actual_k': 40, 'was_impossible': False}),\n Prediction(uid=201, iid=15814, r_ui=4.0, est=3.8469615617697195, details={'actual_k': 40, 'was_impossible': False}),\n Prediction(uid=311, iid=8872, r_ui=5.0, est=2.8230740041874274, details={'actual_k': 40, 'was_impossible': False}),\n Prediction(uid=872, iid=764, r_ui=2.0, est=3.8826933059758217, details={'actual_k': 40, 'was_impossible': False}),\n Prediction(uid=1, iid=1443, r_ui=3.0, est=2.925940510931131, details={'actual_k': 40, 'was_impossible': False}),\n Prediction(uid=217, iid=11282, r_ui=2.0, est=2.97526134601826, details={'actual_k': 40, 'was_impossible': False}),\n Prediction(uid=1137, iid=15339, r_ui=3.0, est=3.796875713239697, details={'actual_k': 40, 'was_impossible': False}),\n Prediction(uid=1152, iid=16891, r_ui=4.0, est=4.109194492185829, details={'actual_k': 40, 'was_impossible': False}),\n Prediction(uid=384, iid=7991, r_ui=3.0, est=3.1746304773872276, details={'actual_k': 40, 'was_impossible': False}),\n Prediction(uid=782, iid=2302, r_ui=1.0, est=3.100878687837234, details={'actual_k': 40, 'was_impossible': False}),\n Prediction(uid=982, iid=8720, r_ui=2.0, est=2.3797110289869696, details={'actual_k': 10, 'was_impossible': False}),\n Prediction(uid=1197, iid=17412, r_ui=1.0, est=2.9176821560587927, details={'actual_k': 40, 'was_impossible': False}),\n Prediction(uid=370, iid=5299, r_ui=1.0, est=2.7711767169479486, details={'actual_k': 40, 'was_impossible': False}),\n Prediction(uid=4, iid=10692, r_ui=3.0, est=3.884263983557731, details={'actual_k': 40, 'was_impossible': False}),\n Prediction(uid=988, iid=638, r_ui=2.0, est=2.636704480606744, details={'actual_k': 40, 'was_impossible': False}),\n Prediction(uid=630, iid=11909, r_ui=3.0, est=3.3233149480837123, details={'actual_k': 40, 'was_impossible': False}),\n Prediction(uid=331, iid=5922, r_ui=5.0, est=4.618728804606546, details={'actual_k': 40, 'was_impossible': False}),\n Prediction(uid=153, iid=3223, r_ui=3.0, est=3.3559399320177143, details={'actual_k': 40, 'was_impossible': False}),\n Prediction(uid=434, iid=5401, r_ui=5.0, est=4.227753492719978, details={'actual_k': 40, 'was_impossible': False}),\n Prediction(uid=892, iid=11277, r_ui=3.0, est=2.9730589096786915, details={'actual_k': 40, 'was_impossible': False}),\n Prediction(uid=1095, iid=14519, r_ui=3.0, est=3.6043394355316805, details={'actual_k': 40, 'was_impossible': False}),\n Prediction(uid=519, iid=15813, r_ui=2.0, est=2.6779619487427544, details={'actual_k': 40, 'was_impossible': False}),\n Prediction(uid=667, iid=17157, r_ui=4.0, est=3.902409813343843, details={'actual_k': 40, 'was_impossible': False}),\n Prediction(uid=583, iid=9568, r_ui=3.0, est=2.7710641612882947, details={'actual_k': 31, 'was_impossible': False}),\n Prediction(uid=572, iid=7234, r_ui=3.0, est=3.4003570222759, details={'actual_k': 40, 'was_impossible': False}),\n Prediction(uid=1184, iid=16390, r_ui=4.0, est=3.876846555228422, details={'actual_k': 40, 'was_impossible': False}),\n Prediction(uid=108, iid=4740, r_ui=3.0, est=3.103148603130909, details={'actual_k': 40, 'was_impossible': False}),\n Prediction(uid=166, iid=7032, r_ui=4.0, est=2.8564264445098613, details={'actual_k': 40, 'was_impossible': False}),\n Prediction(uid=1017, iid=16922, r_ui=4.0, est=3.5192365781083756, details={'actual_k': 40, 'was_impossible': False}),\n Prediction(uid=482, iid=2823, r_ui=4.0, est=3.5775018026636745, details={'actual_k': 40, 'was_impossible': False}),\n Prediction(uid=684, iid=17612, r_ui=4.0, est=4.256127236694715, details={'actual_k': 40, 'was_impossible': False}),\n Prediction(uid=29, iid=3835, r_ui=3.0, est=3.500282788993303, details={'actual_k': 40, 'was_impossible': False}),\n Prediction(uid=627, iid=8687, r_ui=4.0, est=3.6762246912622607, details={'actual_k': 40, 'was_impossible': False}),\n Prediction(uid=746, iid=9188, r_ui=2.0, est=2.52065426656686, details={'actual_k': 40, 'was_impossible': False}),\n Prediction(uid=183, iid=3001, r_ui=1.0, est=2.3815639491199887, details={'actual_k': 12, 'was_impossible': False}),\n Prediction(uid=238, iid=13896, r_ui=3.0, est=2.9041776986194754, details={'actual_k': 40, 'was_impossible': False}),\n Prediction(uid=336, iid=7513, r_ui=2.0, est=3.521882460910886, details={'actual_k': 40, 'was_impossible': False}),\n Prediction(uid=75, iid=8415, r_ui=3.0, est=2.9509920251527646, details={'actual_k': 40, 'was_impossible': False}),\n Prediction(uid=772, iid=14096, r_ui=2.0, est=2.7804481723870476, details={'actual_k': 40, 'was_impossible': False}),\n Prediction(uid=268, iid=5424, r_ui=1.0, est=1.3378442139981424, details={'actual_k': 10, 'was_impossible': False}),\n Prediction(uid=705, iid=9680, r_ui=3.0, est=2.8699603048186546, details={'actual_k': 35, 'was_impossible': False}),\n Prediction(uid=353, iid=4141, r_ui=4.0, est=3.2011166201431975, details={'actual_k': 40, 'was_impossible': False}),\n Prediction(uid=683, iid=12186, r_ui=4.0, est=4.078668863082764, details={'actual_k': 40, 'was_impossible': False}),\n Prediction(uid=376, iid=1661, r_ui=1.0, est=2.8770331322960967, details={'actual_k': 40, 'was_impossible': False}),\n Prediction(uid=754, iid=16444, r_ui=4.0, est=3.000031768418041, details={'actual_k': 40, 'was_impossible': False}),\n Prediction(uid=781, iid=482, r_ui=5.0, est=4.4947970891761315, details={'actual_k': 40, 'was_impossible': False}),\n Prediction(uid=888, iid=6609, r_ui=2.0, est=2.21224508392363, details={'actual_k': 40, 'was_impossible': False}),\n Prediction(uid=26, iid=16644, r_ui=4.0, est=3.900295509907155, details={'actual_k': 40, 'was_impossible': False}),\n Prediction(uid=657, iid=13047, r_ui=3.0, est=4.215494582972179, details={'actual_k': 40, 'was_impossible': False}),\n Prediction(uid=435, iid=14482, r_ui=3.0, est=3.8983738017531686, details={'actual_k': 40, 'was_impossible': False}),\n Prediction(uid=26, iid=11669, r_ui=3.0, est=3.195871361075874, details={'actual_k': 40, 'was_impossible': False}),\n Prediction(uid=133, iid=17693, r_ui=2.0, est=2.8264044764318585, details={'actual_k': 40, 'was_impossible': False}),\n Prediction(uid=401, iid=11314, r_ui=4.0, est=3.7484475920021505, details={'actual_k': 40, 'was_impossible': False}),\n Prediction(uid=231, iid=16344, r_ui=4.0, est=2.7107227921590296, details={'actual_k': 40, 'was_impossible': False}),\n Prediction(uid=884, iid=5705, r_ui=4.0, est=3.2078347596365338, details={'actual_k': 40, 'was_impossible': False}),\n Prediction(uid=450, iid=13114, r_ui=1.0, est=3.4923185262686065, details={'actual_k': 40, 'was_impossible': False}),\n Prediction(uid=563, iid=4640, r_ui=3.0, est=3.8243757781566883, details={'actual_k': 40, 'was_impossible': False}),\n Prediction(uid=809, iid=1911, r_ui=4.0, est=3.538871546515367, details={'actual_k': 40, 'was_impossible': False}),\n Prediction(uid=465, iid=4032, r_ui=4.0, est=2.514692289646661, details={'actual_k': 37, 'was_impossible': False}),\n Prediction(uid=946, iid=7155, r_ui=3.0, est=3.3023496084637323, details={'actual_k': 40, 'was_impossible': False}),\n Prediction(uid=634, iid=14434, r_ui=2.0, est=3.496693264916394, details={'actual_k': 40, 'was_impossible': False}),\n Prediction(uid=691, iid=12793, r_ui=4.0, est=3.5584841981323376, details={'actual_k': 40, 'was_impossible': False}),\n Prediction(uid=1208, iid=12074, r_ui=4.0, est=4.248887796841859, details={'actual_k': 40, 'was_impossible': False}),\n Prediction(uid=810, iid=9905, r_ui=4.0, est=3.7301988089226903, details={'actual_k': 40, 'was_impossible': False}),\n Prediction(uid=768, iid=9593, r_ui=5.0, est=3.922507548050031, details={'actual_k': 40, 'was_impossible': False}),\n Prediction(uid=1048, iid=12084, r_ui=4.0, est=3.6498823920854866, details={'actual_k': 40, 'was_impossible': False}),\n Prediction(uid=145, iid=12731, r_ui=4.0, est=3.6284042304414363, details={'actual_k': 40, 'was_impossible': False}),\n Prediction(uid=1115, iid=4187, r_ui=2.0, est=2.8023537246965846, details={'actual_k': 40, 'was_impossible': False}),\n Prediction(uid=1097, iid=2366, r_ui=3.0, est=3.2041825296344504, details={'actual_k': 40, 'was_impossible': False}),\n Prediction(uid=558, iid=14359, r_ui=3.0, est=3.2495828542592027, details={'actual_k': 40, 'was_impossible': False}),\n Prediction(uid=186, iid=17157, r_ui=4.0, est=4.346925124433915, details={'actual_k': 40, 'was_impossible': False}),\n Prediction(uid=1196, iid=7969, r_ui=3.0, est=2.4902256827006126, details={'actual_k': 11, 'was_impossible': False}),\n Prediction(uid=726, iid=16703, r_ui=1.0, est=3.3494046086830673, details={'actual_k': 40, 'was_impossible': False}),\n Prediction(uid=464, iid=17586, r_ui=3.0, est=2.973382919757118, details={'actual_k': 40, 'was_impossible': False}),\n Prediction(uid=91, iid=10733, r_ui=3.0, est=4.173612594389634, details={'actual_k': 40, 'was_impossible': False}),\n Prediction(uid=632, iid=6281, r_ui=4.0, est=3.6467422478736276, details={'actual_k': 40, 'was_impossible': False}),\n Prediction(uid=274, iid=9614, r_ui=2.0, est=2.8240647930573552, details={'actual_k': 40, 'was_impossible': False}),\n Prediction(uid=249, iid=8832, r_ui=3.0, est=3.8752229381280623, details={'actual_k': 40, 'was_impossible': False}),\n Prediction(uid=513, iid=12255, r_ui=5.0, est=3.9094084782962675, details={'actual_k': 40, 'was_impossible': False}),\n Prediction(uid=224, iid=15813, r_ui=3.0, est=3.1003480641785637, details={'actual_k': 40, 'was_impossible': False}),\n Prediction(uid=833, iid=9223, r_ui=3.0, est=2.59192781323479, details={'actual_k': 40, 'was_impossible': False}),\n Prediction(uid=580, iid=7606, r_ui=4.0, est=3.445829929635864, details={'actual_k': 40, 'was_impossible': False}),\n Prediction(uid=1033, iid=16630, r_ui=2.0, est=2.6093146475552715, details={'actual_k': 40, 'was_impossible': False}),\n Prediction(uid=1115, iid=7005, r_ui=1.0, est=2.5002831673305512, details={'actual_k': 36, 'was_impossible': False}),\n Prediction(uid=23, iid=8263, r_ui=4.0, est=3.728087523806602, details={'actual_k': 40, 'was_impossible': False}),\n Prediction(uid=692, iid=5773, r_ui=1.0, est=3.195825993941006, details={'actual_k': 40, 'was_impossible': False}),\n Prediction(uid=1146, iid=4977, r_ui=3.0, est=3.1558458255064736, details={'actual_k': 40, 'was_impossible': False}),\n Prediction(uid=184, iid=6860, r_ui=5.0, est=4.304350657699232, details={'actual_k': 40, 'was_impossible': False}),\n Prediction(uid=35, iid=12732, r_ui=2.0, est=3.5709919773056584, details={'actual_k': 40, 'was_impossible': False}),\n Prediction(uid=1207, iid=14907, r_ui=1.0, est=2.2871375310180686, details={'actual_k': 19, 'was_impossible': False}),\n Prediction(uid=1010, iid=10131, r_ui=3.0, est=3.078653379011412, details={'actual_k': 40, 'was_impossible': False}),\n Prediction(uid=165, iid=5807, r_ui=3.0, est=3.4534216842760657, details={'actual_k': 40, 'was_impossible': False}),\n Prediction(uid=706, iid=5005, r_ui=1.0, est=2.1103041768036124, details={'actual_k': 40, 'was_impossible': False}),\n Prediction(uid=903, iid=5875, r_ui=5.0, est=3.5770559148593817, details={'actual_k': 40, 'was_impossible': False}),\n Prediction(uid=781, iid=10444, r_ui=5.0, est=3.106266734045557, details={'actual_k': 40, 'was_impossible': False}),\n Prediction(uid=200, iid=13705, r_ui=4.0, est=4.00401431140515, details={'actual_k': 40, 'was_impossible': False}),\n Prediction(uid=644, iid=13852, r_ui=1.0, est=2.7334784850071254, details={'actual_k': 40, 'was_impossible': False}),\n Prediction(uid=90, iid=3151, r_ui=1.0, est=3.0458999871997525, details={'actual_k': 40, 'was_impossible': False}),\n Prediction(uid=967, iid=11126, r_ui=5.0, est=4.086616181012542, details={'actual_k': 40, 'was_impossible': False}),\n Prediction(uid=266, iid=12299, r_ui=2.0, est=3.2040784847124097, details={'actual_k': 40, 'was_impossible': False}),\n Prediction(uid=1005, iid=6860, r_ui=4.0, est=3.9028368187451035, details={'actual_k': 40, 'was_impossible': False}),\n Prediction(uid=641, iid=1770, r_ui=5.0, est=4.201380455970814, details={'actual_k': 40, 'was_impossible': False}),\n Prediction(uid=781, iid=376, r_ui=4.0, est=2.6262456508620327, details={'actual_k': 19, 'was_impossible': False}),\n Prediction(uid=593, iid=17441, r_ui=3.0, est=3.4703999779464345, details={'actual_k': 40, 'was_impossible': False}),\n Prediction(uid=718, iid=6362, r_ui=2.0, est=3.1537729811017106, details={'actual_k': 40, 'was_impossible': False}),\n Prediction(uid=379, iid=971, r_ui=5.0, est=3.5988054462047585, details={'actual_k': 40, 'was_impossible': False}),\n Prediction(uid=354, iid=9849, r_ui=4.0, est=2.8863545215074917, details={'actual_k': 40, 'was_impossible': False}),\n Prediction(uid=924, iid=14664, r_ui=1.0, est=3.881955511290629, details={'actual_k': 40, 'was_impossible': False}),\n Prediction(uid=300, iid=13301, r_ui=3.0, est=4.039983433322386, details={'actual_k': 40, 'was_impossible': False}),\n Prediction(uid=3, iid=14439, r_ui=4.0, est=4.588737011329837, details={'actual_k': 40, 'was_impossible': False}),\n Prediction(uid=998, iid=17740, r_ui=4.0, est=3.648929701032149, details={'actual_k': 40, 'was_impossible': False}),\n Prediction(uid=545, iid=12585, r_ui=3.0, est=3.422658594960428, details={'actual_k': 40, 'was_impossible': False}),\n Prediction(uid=774, iid=5571, r_ui=4.0, est=3.7680990767293956, details={'actual_k': 40, 'was_impossible': False}),\n Prediction(uid=293, iid=15421, r_ui=4.0, est=3.3070225869140177, details={'actual_k': 40, 'was_impossible': False}),\n Prediction(uid=983, iid=10243, r_ui=3.0, est=1.9275069552622244, details={'actual_k': 40, 'was_impossible': False}),\n Prediction(uid=504, iid=1582, r_ui=3.0, est=3.4411069814244564, details={'actual_k': 40, 'was_impossible': False}),\n Prediction(uid=435, iid=10020, r_ui=4.0, est=3.9278744205482186, details={'actual_k': 40, 'was_impossible': False}),\n Prediction(uid=491, iid=15531, r_ui=3.0, est=3.3210209285829038, details={'actual_k': 40, 'was_impossible': False}),\n Prediction(uid=182, iid=10423, r_ui=4.0, est=3.419230935454866, details={'actual_k': 40, 'was_impossible': False}),\n Prediction(uid=346, iid=15868, r_ui=4.0, est=3.5033681747951975, details={'actual_k': 40, 'was_impossible': False}),\n Prediction(uid=117, iid=15078, r_ui=5.0, est=4.363496765005245, details={'actual_k': 40, 'was_impossible': False}),\n Prediction(uid=340, iid=12869, r_ui=4.0, est=3.4716905848191892, details={'actual_k': 40, 'was_impossible': False}),\n Prediction(uid=190, iid=17574, r_ui=3.0, est=3.148829599679085, details={'actual_k': 40, 'was_impossible': False}),\n Prediction(uid=840, iid=12633, r_ui=4.0, est=3.7999443791085468, details={'actual_k': 40, 'was_impossible': False}),\n Prediction(uid=626, iid=3168, r_ui=3.0, est=2.998079455183003, details={'actual_k': 40, 'was_impossible': False}),\n Prediction(uid=677, iid=12570, r_ui=2.0, est=2.9732215865314595, details={'actual_k': 40, 'was_impossible': False}),\n Prediction(uid=704, iid=12325, r_ui=4.0, est=3.0270195533189805, details={'actual_k': 30, 'was_impossible': False}),\n Prediction(uid=813, iid=758, r_ui=4.0, est=3.5217126301045947, details={'actual_k': 40, 'was_impossible': False}),\n Prediction(uid=965, iid=12072, r_ui=4.0, est=4.116422184236603, details={'actual_k': 40, 'was_impossible': False}),\n Prediction(uid=1061, iid=11064, r_ui=4.0, est=4.097577491189814, details={'actual_k': 40, 'was_impossible': False}),\n Prediction(uid=38, iid=13886, r_ui=1.0, est=2.3192879662997976, details={'actual_k': 40, 'was_impossible': False}),\n Prediction(uid=766, iid=4699, r_ui=1.0, est=2.302186325155126, details={'actual_k': 40, 'was_impossible': False}),\n Prediction(uid=285, iid=11013, r_ui=3.0, est=2.697191797482966, details={'actual_k': 40, 'was_impossible': False}),\n Prediction(uid=190, iid=8405, r_ui=2.0, est=3.3762470327932794, details={'actual_k': 40, 'was_impossible': False}),\n Prediction(uid=151, iid=15274, r_ui=3.0, est=2.46247845211382, details={'actual_k': 39, 'was_impossible': False}),\n Prediction(uid=541, iid=7935, r_ui=3.0, est=3.4483009535685847, details={'actual_k': 40, 'was_impossible': False}),\n Prediction(uid=1061, iid=10982, r_ui=4.0, est=3.8473822617707527, details={'actual_k': 40, 'was_impossible': False}),\n Prediction(uid=90, iid=4256, r_ui=3.0, est=3.703749171785518, details={'actual_k': 40, 'was_impossible': False}),\n Prediction(uid=646, iid=443, r_ui=4.0, est=3.6450085521460487, details={'actual_k': 40, 'was_impossible': False}),\n Prediction(uid=662, iid=9542, r_ui=2.0, est=2.821622088704536, details={'actual_k': 40, 'was_impossible': False}),\n Prediction(uid=165, iid=14296, r_ui=4.0, est=3.596696686848655, details={'actual_k': 40, 'was_impossible': False}),\n Prediction(uid=1041, iid=143, r_ui=4.0, est=4.177152585385871, details={'actual_k': 40, 'was_impossible': False}),\n Prediction(uid=1202, iid=13547, r_ui=5.0, est=3.625340853732065, details={'actual_k': 40, 'was_impossible': False}),\n Prediction(uid=963, iid=14515, r_ui=5.0, est=4.267918831714956, details={'actual_k': 40, 'was_impossible': False}),\n Prediction(uid=147, iid=14539, r_ui=3.0, est=2.9060631152907774, details={'actual_k': 40, 'was_impossible': False}),\n Prediction(uid=417, iid=7249, r_ui=2.0, est=2.7735176323496615, details={'actual_k': 40, 'was_impossible': False}),\n Prediction(uid=252, iid=9205, r_ui=3.0, est=3.6487719472591986, details={'actual_k': 40, 'was_impossible': False}),\n Prediction(uid=415, iid=14806, r_ui=4.0, est=3.99251520552841, details={'actual_k': 40, 'was_impossible': False}),\n Prediction(uid=475, iid=629, r_ui=2.0, est=4.3623752382025875, details={'actual_k': 40, 'was_impossible': False}),\n Prediction(uid=802, iid=10123, r_ui=5.0, est=4.077357531080726, details={'actual_k': 40, 'was_impossible': False}),\n Prediction(uid=614, iid=12244, r_ui=1.0, est=3.0007676832958476, details={'actual_k': 40, 'was_impossible': False}),\n Prediction(uid=126, iid=4805, r_ui=4.0, est=3.5011665430984578, details={'actual_k': 40, 'was_impossible': False}),\n Prediction(uid=105, iid=2114, r_ui=4.0, est=4.002405258123602, details={'actual_k': 40, 'was_impossible': False}),\n Prediction(uid=397, iid=15037, r_ui=3.0, est=3.7531950129548894, details={'actual_k': 40, 'was_impossible': False}),\n Prediction(uid=763, iid=6408, r_ui=5.0, est=4.459851342822177, details={'actual_k': 40, 'was_impossible': False}),\n Prediction(uid=738, iid=5226, r_ui=2.0, est=3.1750729609657578, details={'actual_k': 40, 'was_impossible': False}),\n Prediction(uid=108, iid=16622, r_ui=3.0, est=3.2248604055602015, details={'actual_k': 40, 'was_impossible': False}),\n Prediction(uid=1010, iid=10162, r_ui=4.0, est=3.6466069949370965, details={'actual_k': 40, 'was_impossible': False}),\n Prediction(uid=177, iid=17642, r_ui=2.0, est=2.727793960566578, details={'actual_k': 40, 'was_impossible': False}),\n Prediction(uid=481, iid=5317, r_ui=4.0, est=3.301629043684461, details={'actual_k': 40, 'was_impossible': False}),\n Prediction(uid=689, iid=851, r_ui=3.0, est=3.7293961516877228, details={'actual_k': 40, 'was_impossible': False}),\n Prediction(uid=351, iid=14311, r_ui=2.0, est=3.197670324327233, details={'actual_k': 40, 'was_impossible': False}),\n Prediction(uid=331, iid=2656, r_ui=5.0, est=3.8885430775390906, details={'actual_k': 40, 'was_impossible': False}),\n Prediction(uid=805, iid=14578, r_ui=5.0, est=4.301909493442743, details={'actual_k': 40, 'was_impossible': False}),\n Prediction(uid=801, iid=9628, r_ui=5.0, est=3.967317831140294, details={'actual_k': 40, 'was_impossible': False}),\n Prediction(uid=47, iid=2140, r_ui=2.0, est=3.448615231572464, details={'actual_k': 40, 'was_impossible': False}),\n Prediction(uid=336, iid=3917, r_ui=4.0, est=3.9276950576789047, details={'actual_k': 40, 'was_impossible': False}),\n Prediction(uid=800, iid=2081, r_ui=3.0, est=2.8447065490476042, details={'actual_k': 38, 'was_impossible': False}),\n Prediction(uid=727, iid=629, r_ui=2.0, est=2.8176688773567298, details={'actual_k': 40, 'was_impossible': False}),\n Prediction(uid=229, iid=2163, r_ui=4.0, est=3.1200963028409476, details={'actual_k': 40, 'was_impossible': False}),\n Prediction(uid=1179, iid=4524, r_ui=4.0, est=3.439750181661141, details={'actual_k': 40, 'was_impossible': False}),\n Prediction(uid=265, iid=7401, r_ui=5.0, est=3.1543751646972304, details={'actual_k': 40, 'was_impossible': False}),\n Prediction(uid=526, iid=5075, r_ui=4.0, est=3.7060975088341785, details={'actual_k': 40, 'was_impossible': False}),\n Prediction(uid=890, iid=6359, r_ui=3.0, est=2.562068597535042, details={'actual_k': 33, 'was_impossible': False}),\n Prediction(uid=918, iid=14027, r_ui=3.0, est=3.4517268684311335, details={'actual_k': 40, 'was_impossible': False}),\n Prediction(uid=193, iid=289, r_ui=2.0, est=2.206302737666741, details={'actual_k': 40, 'was_impossible': False}),\n Prediction(uid=562, iid=3420, r_ui=4.0, est=3.503864804049013, details={'actual_k': 40, 'was_impossible': False}),\n Prediction(uid=1213, iid=16322, r_ui=4.0, est=2.4074120071050564, details={'actual_k': 14, 'was_impossible': False}),\n Prediction(uid=478, iid=1059, r_ui=1.0, est=2.0686432486920716, details={'actual_k': 15, 'was_impossible': False}),\n Prediction(uid=157, iid=14593, r_ui=4.0, est=3.1230315073663903, details={'actual_k': 40, 'was_impossible': False}),\n Prediction(uid=453, iid=4563, r_ui=1.0, est=2.749934865160032, details={'actual_k': 40, 'was_impossible': False}),\n Prediction(uid=1198, iid=5131, r_ui=3.0, est=2.7163358589329287, details={'actual_k': 40, 'was_impossible': False}),\n Prediction(uid=971, iid=10905, r_ui=5.0, est=3.171602273277397, details={'actual_k': 40, 'was_impossible': False}),\n Prediction(uid=1082, iid=5472, r_ui=4.0, est=3.475819136722801, details={'actual_k': 40, 'was_impossible': False}),\n Prediction(uid=963, iid=16707, r_ui=5.0, est=4.558944859905363, details={'actual_k': 40, 'was_impossible': False}),\n Prediction(uid=1178, iid=14716, r_ui=4.0, est=3.8257465786567666, details={'actual_k': 40, 'was_impossible': False}),\n Prediction(uid=328, iid=6206, r_ui=3.0, est=3.5223805381522184, details={'actual_k': 40, 'was_impossible': False}),\n Prediction(uid=642, iid=11998, r_ui=3.0, est=2.7627509014094693, details={'actual_k': 40, 'was_impossible': False}),\n Prediction(uid=368, iid=4064, r_ui=3.0, est=2.8966425294599536, details={'actual_k': 40, 'was_impossible': False}),\n Prediction(uid=1193, iid=8408, r_ui=3.0, est=2.8809346059466865, details={'actual_k': 40, 'was_impossible': False}),\n Prediction(uid=716, iid=17417, r_ui=2.0, est=2.479154616633279, details={'actual_k': 40, 'was_impossible': False}),\n Prediction(uid=488, iid=17696, r_ui=2.0, est=2.378018181250218, details={'actual_k': 40, 'was_impossible': False}),\n Prediction(uid=618, iid=11697, r_ui=3.0, est=3.31971675749715, details={'actual_k': 40, 'was_impossible': False}),\n Prediction(uid=265, iid=12731, r_ui=3.0, est=3.678010044437409, details={'actual_k': 40, 'was_impossible': False}),\n Prediction(uid=517, iid=17164, r_ui=3.0, est=2.7098359986309757, details={'actual_k': 40, 'was_impossible': False}),\n Prediction(uid=1159, iid=13948, r_ui=5.0, est=3.4243024931368766, details={'actual_k': 40, 'was_impossible': False}),\n Prediction(uid=519, iid=5653, r_ui=4.0, est=3.5686678799823595, details={'actual_k': 40, 'was_impossible': False}),\n Prediction(uid=609, iid=14898, r_ui=3.0, est=2.9420610411621197, details={'actual_k': 40, 'was_impossible': False}),\n Prediction(uid=755, iid=12694, r_ui=3.0, est=3.0090527169573167, details={'actual_k': 40, 'was_impossible': False}),\n Prediction(uid=491, iid=7438, r_ui=3.0, est=2.8597045088293314, details={'actual_k': 40, 'was_impossible': False}),\n Prediction(uid=1058, iid=15531, r_ui=4.0, est=3.7515266926632984, details={'actual_k': 40, 'was_impossible': False}),\n Prediction(uid=995, iid=12065, r_ui=4.0, est=3.819779941711819, details={'actual_k': 40, 'was_impossible': False}),\n Prediction(uid=1104, iid=9677, r_ui=1.0, est=2.621871292392435, details={'actual_k': 40, 'was_impossible': False}),\n Prediction(uid=342, iid=15099, r_ui=5.0, est=3.3044092744979805, details={'actual_k': 40, 'was_impossible': False}),\n Prediction(uid=1108, iid=13392, r_ui=3.0, est=3.803059093228279, details={'actual_k': 40, 'was_impossible': False}),\n Prediction(uid=228, iid=1359, r_ui=2.0, est=3.1241434775098047, details={'actual_k': 40, 'was_impossible': False}),\n Prediction(uid=960, iid=17052, r_ui=2.0, est=3.2886058274445715, details={'actual_k': 40, 'was_impossible': False}),\n Prediction(uid=632, iid=7696, r_ui=3.0, est=3.8746303052575355, details={'actual_k': 40, 'was_impossible': False}),\n Prediction(uid=947, iid=11613, r_ui=3.0, est=3.4469226202801835, details={'actual_k': 40, 'was_impossible': False}),\n Prediction(uid=821, iid=13979, r_ui=3.0, est=3.181413443703771, details={'actual_k': 40, 'was_impossible': False}),\n Prediction(uid=1153, iid=4384, r_ui=5.0, est=3.7268971763094862, details={'actual_k': 40, 'was_impossible': False}),\n Prediction(uid=498, iid=4248, r_ui=3.0, est=3.3529431636707137, details={'actual_k': 40, 'was_impossible': False}),\n Prediction(uid=724, iid=4356, r_ui=3.0, est=3.5243484130030684, details={'actual_k': 40, 'was_impossible': False}),\n Prediction(uid=1131, iid=14241, r_ui=4.0, est=3.7818612886385634, details={'actual_k': 40, 'was_impossible': False}),\n Prediction(uid=262, iid=1832, r_ui=3.0, est=3.9540965597512407, details={'actual_k': 40, 'was_impossible': False}),\n Prediction(uid=1127, iid=2739, r_ui=1.0, est=2.378568044327493, details={'actual_k': 40, 'was_impossible': False}),\n Prediction(uid=971, iid=9505, r_ui=4.0, est=4.189268488067397, details={'actual_k': 40, 'was_impossible': False}),\n Prediction(uid=645, iid=17324, r_ui=4.0, est=3.7982463543994447, details={'actual_k': 40, 'was_impossible': False}),\n Prediction(uid=270, iid=16733, r_ui=3.0, est=3.5266969023281947, details={'actual_k': 40, 'was_impossible': False}),\n Prediction(uid=1005, iid=571, r_ui=4.0, est=4.052643039657948, details={'actual_k': 40, 'was_impossible': False}),\n Prediction(uid=1079, iid=83, r_ui=5.0, est=4.029519133215618, details={'actual_k': 40, 'was_impossible': False}),\n Prediction(uid=181, iid=5327, r_ui=3.0, est=3.4288672161482343, details={'actual_k': 40, 'was_impossible': False}),\n Prediction(uid=780, iid=4902, r_ui=4.0, est=3.5507255801472426, details={'actual_k': 40, 'was_impossible': False}),\n Prediction(uid=797, iid=17010, r_ui=5.0, est=4.094233796411978, details={'actual_k': 40, 'was_impossible': False}),\n Prediction(uid=26, iid=1722, r_ui=4.0, est=3.7967620662819765, details={'actual_k': 40, 'was_impossible': False}),\n Prediction(uid=755, iid=8168, r_ui=2.0, est=3.0518146095112746, details={'actual_k': 40, 'was_impossible': False}),\n Prediction(uid=110, iid=2737, r_ui=3.0, est=2.7559342273858065, details={'actual_k': 40, 'was_impossible': False}),\n Prediction(uid=420, iid=15529, r_ui=2.0, est=2.7764972272606183, details={'actual_k': 40, 'was_impossible': False}),\n Prediction(uid=332, iid=14382, r_ui=3.0, est=3.5817259114435696, details={'actual_k': 40, 'was_impossible': False}),\n Prediction(uid=318, iid=3864, r_ui=5.0, est=4.123893209083997, details={'actual_k': 40, 'was_impossible': False}),\n Prediction(uid=560, iid=1408, r_ui=4.0, est=3.5564423303193426, details={'actual_k': 40, 'was_impossible': False}),\n Prediction(uid=76, iid=2493, r_ui=5.0, est=3.0572439457305123, details={'actual_k': 40, 'was_impossible': False}),\n Prediction(uid=333, iid=14311, r_ui=3.0, est=3.118463506541933, details={'actual_k': 40, 'was_impossible': False}),\n Prediction(uid=817, iid=13451, r_ui=2.0, est=2.9691128699051177, details={'actual_k': 40, 'was_impossible': False}),\n Prediction(uid=407, iid=12846, r_ui=1.0, est=2.6703258708054975, details={'actual_k': 40, 'was_impossible': False}),\n Prediction(uid=513, iid=8453, r_ui=4.0, est=3.474346485268366, details={'actual_k': 40, 'was_impossible': False}),\n Prediction(uid=950, iid=14755, r_ui=2.0, est=2.5635551759911333, details={'actual_k': 40, 'was_impossible': False}),\n Prediction(uid=781, iid=8989, r_ui=5.0, est=4.303063550506404, details={'actual_k': 40, 'was_impossible': False}),\n Prediction(uid=478, iid=13840, r_ui=4.0, est=3.2693010510738185, details={'actual_k': 40, 'was_impossible': False}),\n Prediction(uid=1177, iid=6574, r_ui=3.0, est=2.8962891505171466, details={'actual_k': 40, 'was_impossible': False}),\n Prediction(uid=482, iid=10458, r_ui=3.0, est=3.795400329021263, details={'actual_k': 40, 'was_impossible': False}),\n Prediction(uid=39, iid=6337, r_ui=2.0, est=3.366690893079212, details={'actual_k': 40, 'was_impossible': False}),\n Prediction(uid=376, iid=3315, r_ui=4.0, est=3.7207360294034255, details={'actual_k': 40, 'was_impossible': False}),\n Prediction(uid=363, iid=13392, r_ui=5.0, est=3.5518031799522727, details={'actual_k': 40, 'was_impossible': False}),\n Prediction(uid=1069, iid=14870, r_ui=2.0, est=2.4304409248768564, details={'actual_k': 40, 'was_impossible': False}),\n Prediction(uid=592, iid=5391, r_ui=3.0, est=2.8025585410642506, details={'actual_k': 40, 'was_impossible': False}),\n Prediction(uid=131, iid=8174, r_ui=3.0, est=3.0244846591210823, details={'actual_k': 40, 'was_impossible': False}),\n Prediction(uid=479, iid=8914, r_ui=3.0, est=3.2445468979111913, details={'actual_k': 40, 'was_impossible': False}),\n Prediction(uid=487, iid=6158, r_ui=3.0, est=3.323835210477847, details={'actual_k': 40, 'was_impossible': False}),\n Prediction(uid=201, iid=14498, r_ui=2.0, est=2.4691147077627593, details={'actual_k': 40, 'was_impossible': False}),\n Prediction(uid=1062, iid=4127, r_ui=3.0, est=2.922270238453567, details={'actual_k': 40, 'was_impossible': False}),\n Prediction(uid=131, iid=15443, r_ui=3.0, est=3.172294427925883, details={'actual_k': 40, 'was_impossible': False}),\n Prediction(uid=189, iid=2989, r_ui=4.0, est=3.7509768232507454, details={'actual_k': 40, 'was_impossible': False}),\n Prediction(uid=199, iid=13318, r_ui=3.0, est=2.97121401404064, details={'actual_k': 40, 'was_impossible': False}),\n Prediction(uid=320, iid=11062, r_ui=3.0, est=3.374372492037704, details={'actual_k': 40, 'was_impossible': False}),\n Prediction(uid=908, iid=15160, r_ui=4.0, est=3.5508481418766245, details={'actual_k': 40, 'was_impossible': False}),\n Prediction(uid=729, iid=4110, r_ui=3.0, est=2.501197133513405, details={'actual_k': 40, 'was_impossible': False}),\n Prediction(uid=990, iid=4675, r_ui=4.0, est=3.4914385972708817, details={'actual_k': 40, 'was_impossible': False}),\n Prediction(uid=896, iid=12545, r_ui=4.0, est=3.9849317977964853, details={'actual_k': 40, 'was_impossible': False}),\n Prediction(uid=637, iid=17180, r_ui=4.0, est=2.8711140729272837, details={'actual_k': 40, 'was_impossible': False}),\n Prediction(uid=143, iid=14660, r_ui=3.0, est=3.194201362455886, details={'actual_k': 40, 'was_impossible': False}),\n Prediction(uid=123, iid=9521, r_ui=2.0, est=2.623005860565615, details={'actual_k': 40, 'was_impossible': False}),\n Prediction(uid=1213, iid=17589, r_ui=4.0, est=3.4430934196484624, details={'actual_k': 40, 'was_impossible': False}),\n Prediction(uid=1179, iid=7257, r_ui=4.0, est=3.226431160694992, details={'actual_k': 40, 'was_impossible': False}),\n Prediction(uid=906, iid=668, r_ui=4.0, est=3.7991538688643427, details={'actual_k': 40, 'was_impossible': False}),\n Prediction(uid=509, iid=3135, r_ui=3.0, est=3.275212000781909, details={'actual_k': 40, 'was_impossible': False}),\n Prediction(uid=614, iid=10827, r_ui=4.0, est=3.404986247919053, details={'actual_k': 40, 'was_impossible': False}),\n Prediction(uid=39, iid=17628, r_ui=5.0, est=4.285386005314789, details={'actual_k': 40, 'was_impossible': False}),\n Prediction(uid=883, iid=9982, r_ui=5.0, est=3.618016432336842, details={'actual_k': 40, 'was_impossible': False}),\n Prediction(uid=352, iid=3079, r_ui=5.0, est=4.24719568401884, details={'actual_k': 40, 'was_impossible': False}),\n Prediction(uid=1075, iid=13772, r_ui=2.0, est=2.674396895949769, details={'actual_k': 40, 'was_impossible': False}),\n Prediction(uid=522, iid=17559, r_ui=3.0, est=3.096660346899524, details={'actual_k': 40, 'was_impossible': False}),\n Prediction(uid=434, iid=2040, r_ui=5.0, est=4.600026326320157, details={'actual_k': 40, 'was_impossible': False}),\n Prediction(uid=297, iid=12966, r_ui=4.0, est=3.69863346478946, details={'actual_k': 40, 'was_impossible': False}),\n Prediction(uid=796, iid=4012, r_ui=3.0, est=3.250456207558286, details={'actual_k': 40, 'was_impossible': False}),\n Prediction(uid=331, iid=12591, r_ui=4.0, est=4.148315297949299, details={'actual_k': 40, 'was_impossible': False}),\n Prediction(uid=841, iid=8825, r_ui=4.0, est=3.901761566650756, details={'actual_k': 40, 'was_impossible': False}),\n Prediction(uid=189, iid=1513, r_ui=5.0, est=4.167738390031734, details={'actual_k': 40, 'was_impossible': False}),\n Prediction(uid=1024, iid=12285, r_ui=5.0, est=4.119742573450296, details={'actual_k': 40, 'was_impossible': False}),\n Prediction(uid=627, iid=1659, r_ui=4.0, est=3.7558090267608084, details={'actual_k': 40, 'was_impossible': False}),\n Prediction(uid=505, iid=12246, r_ui=2.0, est=2.9726203181846103, details={'actual_k': 40, 'was_impossible': False}),\n Prediction(uid=1029, iid=2903, r_ui=4.0, est=3.1508881425135202, details={'actual_k': 40, 'was_impossible': False}),\n Prediction(uid=435, iid=9645, r_ui=4.0, est=3.4290548545870565, details={'actual_k': 40, 'was_impossible': False}),\n Prediction(uid=684, iid=4686, r_ui=5.0, est=3.350971812160523, details={'actual_k': 40, 'was_impossible': False}),\n Prediction(uid=692, iid=15101, r_ui=2.0, est=3.2229277219088157, details={'actual_k': 40, 'was_impossible': False}),\n Prediction(uid=491, iid=5844, r_ui=3.0, est=2.7081387659799354, details={'actual_k': 40, 'was_impossible': False}),\n Prediction(uid=385, iid=15068, r_ui=3.0, est=3.334546190696405, details={'actual_k': 40, 'was_impossible': False}),\n Prediction(uid=508, iid=4521, r_ui=4.0, est=3.9936738786420043, details={'actual_k': 40, 'was_impossible': False}),\n Prediction(uid=510, iid=9359, r_ui=4.0, est=3.175894792377238, details={'actual_k': 40, 'was_impossible': False}),\n Prediction(uid=134, iid=15888, r_ui=3.0, est=3.043566012430675, details={'actual_k': 40, 'was_impossible': False}),\n Prediction(uid=1124, iid=14538, r_ui=3.0, est=2.947900886609112, details={'actual_k': 40, 'was_impossible': False}),\n Prediction(uid=70, iid=7221, r_ui=2.0, est=3.299019963212924, details={'actual_k': 40, 'was_impossible': False}),\n Prediction(uid=245, iid=6193, r_ui=3.0, est=3.2536058063610316, details={'actual_k': 40, 'was_impossible': False}),\n Prediction(uid=730, iid=14010, r_ui=3.0, est=2.926800036759728, details={'actual_k': 40, 'was_impossible': False}),\n Prediction(uid=1080, iid=1160, r_ui=3.0, est=2.9013647891341168, details={'actual_k': 40, 'was_impossible': False}),\n Prediction(uid=1008, iid=2528, r_ui=5.0, est=3.227636021347472, details={'actual_k': 40, 'was_impossible': False}),\n Prediction(uid=692, iid=3810, r_ui=3.0, est=3.399105075618333, details={'actual_k': 40, 'was_impossible': False}),\n Prediction(uid=725, iid=3107, r_ui=5.0, est=4.309739141906764, details={'actual_k': 40, 'was_impossible': False}),\n Prediction(uid=450, iid=10947, r_ui=5.0, est=4.321499873227736, details={'actual_k': 40, 'was_impossible': False}),\n Prediction(uid=955, iid=171, r_ui=3.0, est=3.552792299881664, details={'actual_k': 40, 'was_impossible': False}),\n Prediction(uid=338, iid=12399, r_ui=3.0, est=3.000843263492997, details={'actual_k': 40, 'was_impossible': False}),\n Prediction(uid=311, iid=17308, r_ui=4.0, est=2.950909448785995, details={'actual_k': 40, 'was_impossible': False}),\n Prediction(uid=947, iid=6358, r_ui=2.0, est=2.4325456607546645, details={'actual_k': 35, 'was_impossible': False}),\n Prediction(uid=349, iid=6353, r_ui=2.0, est=2.825997378342372, details={'actual_k': 26, 'was_impossible': False}),\n Prediction(uid=640, iid=1799, r_ui=1.0, est=3.2006209438375954, details={'actual_k': 40, 'was_impossible': False}),\n Prediction(uid=661, iid=16453, r_ui=3.0, est=3.200648806550801, details={'actual_k': 40, 'was_impossible': False}),\n Prediction(uid=466, iid=12337, r_ui=5.0, est=3.208049426644518, details={'actual_k': 40, 'was_impossible': False}),\n Prediction(uid=41, iid=11292, r_ui=4.0, est=3.3758207100655095, details={'actual_k': 40, 'was_impossible': False}),\n Prediction(uid=310, iid=14476, r_ui=3.0, est=3.0034521978506756, details={'actual_k': 40, 'was_impossible': False}),\n Prediction(uid=187, iid=16283, r_ui=3.0, est=3.206092171507033, details={'actual_k': 40, 'was_impossible': False}),\n Prediction(uid=321, iid=13651, r_ui=4.0, est=3.850227734921994, details={'actual_k': 40, 'was_impossible': False}),\n Prediction(uid=1048, iid=10084, r_ui=3.0, est=3.7976666279546607, details={'actual_k': 40, 'was_impossible': False}),\n Prediction(uid=426, iid=12015, r_ui=4.0, est=4.175412397559479, details={'actual_k': 40, 'was_impossible': False}),\n Prediction(uid=177, iid=11391, r_ui=2.0, est=2.6539413370294427, details={'actual_k': 40, 'was_impossible': False}),\n Prediction(uid=991, iid=5169, r_ui=3.0, est=3.9475438615519525, details={'actual_k': 40, 'was_impossible': False}),\n Prediction(uid=625, iid=232, r_ui=3.0, est=2.9285744085758916, details={'actual_k': 40, 'was_impossible': False}),\n Prediction(uid=522, iid=15764, r_ui=2.0, est=3.0865373336692916, details={'actual_k': 40, 'was_impossible': False}),\n Prediction(uid=741, iid=15968, r_ui=2.0, est=2.8517709700667986, details={'actual_k': 40, 'was_impossible': False}),\n Prediction(uid=576, iid=2167, r_ui=3.0, est=3.872541831440425, details={'actual_k': 40, 'was_impossible': False}),\n Prediction(uid=116, iid=3021, r_ui=1.0, est=2.136976954051999, details={'actual_k': 40, 'was_impossible': False}),\n Prediction(uid=470, iid=1367, r_ui=5.0, est=3.6498576474050535, details={'actual_k': 40, 'was_impossible': False}),\n Prediction(uid=338, iid=17134, r_ui=2.0, est=2.971239119850091, details={'actual_k': 40, 'was_impossible': False}),\n Prediction(uid=1156, iid=17508, r_ui=5.0, est=3.653704499283207, details={'actual_k': 40, 'was_impossible': False}),\n Prediction(uid=661, iid=1278, r_ui=3.0, est=3.2898204078443283, details={'actual_k': 40, 'was_impossible': False}),\n Prediction(uid=237, iid=17176, r_ui=5.0, est=4.4096383710897635, details={'actual_k': 40, 'was_impossible': False}),\n Prediction(uid=432, iid=17002, r_ui=4.0, est=3.5025380985833077, details={'actual_k': 40, 'was_impossible': False}),\n Prediction(uid=909, iid=12758, r_ui=4.0, est=3.8710427500475895, details={'actual_k': 40, 'was_impossible': False}),\n Prediction(uid=517, iid=17513, r_ui=3.0, est=3.377952913223747, details={'actual_k': 40, 'was_impossible': False}),\n Prediction(uid=587, iid=12322, r_ui=5.0, est=2.8782456601921047, details={'actual_k': 40, 'was_impossible': False}),\n Prediction(uid=906, iid=9722, r_ui=3.0, est=3.4159383978408293, details={'actual_k': 40, 'was_impossible': False}),\n Prediction(uid=933, iid=5425, r_ui=4.0, est=3.286519720774562, details={'actual_k': 40, 'was_impossible': False}),\n Prediction(uid=261, iid=11985, r_ui=4.0, est=3.0481319762144614, details={'actual_k': 40, 'was_impossible': False}),\n Prediction(uid=927, iid=12466, r_ui=4.0, est=3.4573564468032103, details={'actual_k': 40, 'was_impossible': False}),\n Prediction(uid=965, iid=14443, r_ui=4.0, est=3.9396345379046798, details={'actual_k': 40, 'was_impossible': False}),\n Prediction(uid=905, iid=2149, r_ui=4.0, est=3.3279446180330754, details={'actual_k': 40, 'was_impossible': False}),\n Prediction(uid=292, iid=14176, r_ui=2.0, est=3.6544708749799217, details={'actual_k': 40, 'was_impossible': False}),\n Prediction(uid=210, iid=7899, r_ui=3.0, est=2.4766506872542706, details={'actual_k': 40, 'was_impossible': False}),\n Prediction(uid=454, iid=16670, r_ui=2.0, est=3.518390046033812, details={'actual_k': 40, 'was_impossible': False}),\n Prediction(uid=301, iid=16908, r_ui=2.0, est=2.593943057275579, details={'actual_k': 40, 'was_impossible': False}),\n Prediction(uid=571, iid=2807, r_ui=3.0, est=2.0254353037720065, details={'actual_k': 29, 'was_impossible': False}),\n Prediction(uid=909, iid=6409, r_ui=3.0, est=2.600633719744185, details={'actual_k': 40, 'was_impossible': False}),\n Prediction(uid=221, iid=9798, r_ui=3.0, est=3.198539405084397, details={'actual_k': 40, 'was_impossible': False}),\n Prediction(uid=324, iid=5571, r_ui=3.0, est=3.81791630305188, details={'actual_k': 40, 'was_impossible': False}),\n Prediction(uid=695, iid=13614, r_ui=2.0, est=3.102385733458593, details={'actual_k': 40, 'was_impossible': False}),\n Prediction(uid=152, iid=8263, r_ui=4.0, est=3.753693827243159, details={'actual_k': 40, 'was_impossible': False}),\n Prediction(uid=119, iid=8815, r_ui=4.0, est=4.019313583383614, details={'actual_k': 40, 'was_impossible': False}),\n Prediction(uid=609, iid=11192, r_ui=3.0, est=3.048515741171832, details={'actual_k': 40, 'was_impossible': False}),\n Prediction(uid=1011, iid=16537, r_ui=3.0, est=2.751889962779882, details={'actual_k': 40, 'was_impossible': False}),\n Prediction(uid=820, iid=6927, r_ui=2.0, est=3.0964922272743443, details={'actual_k': 40, 'was_impossible': False}),\n Prediction(uid=1084, iid=5946, r_ui=5.0, est=4.442559102258685, details={'actual_k': 40, 'was_impossible': False}),\n Prediction(uid=108, iid=5156, r_ui=4.0, est=3.562543040673966, details={'actual_k': 40, 'was_impossible': False}),\n Prediction(uid=228, iid=7773, r_ui=5.0, est=3.8929708932041676, details={'actual_k': 40, 'was_impossible': False}),\n Prediction(uid=304, iid=4661, r_ui=3.0, est=3.072631888810296, details={'actual_k': 40, 'was_impossible': False}),\n Prediction(uid=623, iid=564, r_ui=5.0, est=2.7028264323005797, details={'actual_k': 40, 'was_impossible': False}),\n Prediction(uid=982, iid=6692, r_ui=3.0, est=3.1248594292044105, details={'actual_k': 40, 'was_impossible': False}),\n Prediction(uid=587, iid=4374, r_ui=4.0, est=3.0457174832888727, details={'actual_k': 40, 'was_impossible': False}),\n Prediction(uid=227, iid=16182, r_ui=3.0, est=3.3488359456049523, details={'actual_k': 40, 'was_impossible': False}),\n Prediction(uid=1152, iid=4878, r_ui=5.0, est=4.002457565807862, details={'actual_k': 40, 'was_impossible': False}),\n Prediction(uid=756, iid=7831, r_ui=2.0, est=2.5397568069226377, details={'actual_k': 40, 'was_impossible': False}),\n Prediction(uid=88, iid=2276, r_ui=2.0, est=2.0711328115976704, details={'actual_k': 40, 'was_impossible': False}),\n Prediction(uid=781, iid=8350, r_ui=4.0, est=2.459375952344936, details={'actual_k': 24, 'was_impossible': False}),\n Prediction(uid=761, iid=10979, r_ui=2.0, est=3.0573168750697275, details={'actual_k': 40, 'was_impossible': False}),\n Prediction(uid=954, iid=8545, r_ui=4.0, est=3.5682707843949157, details={'actual_k': 40, 'was_impossible': False}),\n Prediction(uid=805, iid=16630, r_ui=2.0, est=3.6546762440550316, details={'actual_k': 40, 'was_impossible': False}),\n Prediction(uid=1136, iid=7533, r_ui=1.0, est=2.8818032841267622, details={'actual_k': 40, 'was_impossible': False}),\n Prediction(uid=893, iid=9368, r_ui=5.0, est=4.266251976380149, details={'actual_k': 40, 'was_impossible': False}),\n Prediction(uid=499, iid=10378, r_ui=1.0, est=2.8992423037101682, details={'actual_k': 40, 'was_impossible': False}),\n Prediction(uid=1123, iid=9134, r_ui=3.0, est=2.481555500221449, details={'actual_k': 40, 'was_impossible': False}),\n Prediction(uid=152, iid=3082, r_ui=4.0, est=3.525936671684701, details={'actual_k': 40, 'was_impossible': False}),\n Prediction(uid=624, iid=11139, r_ui=2.0, est=3.0496155133701603, details={'actual_k': 40, 'was_impossible': False}),\n Prediction(uid=42, iid=7922, r_ui=3.0, est=3.173624017861298, details={'actual_k': 40, 'was_impossible': False}),\n Prediction(uid=309, iid=6634, r_ui=4.0, est=3.806829492123122, details={'actual_k': 40, 'was_impossible': False}),\n Prediction(uid=586, iid=5622, r_ui=1.0, est=2.0639769045846035, details={'actual_k': 40, 'was_impossible': False}),\n Prediction(uid=772, iid=2565, r_ui=1.0, est=1.9843560621309928, details={'actual_k': 40, 'was_impossible': False}),\n Prediction(uid=345, iid=9359, r_ui=5.0, est=3.835001170915671, details={'actual_k': 40, 'was_impossible': False}),\n Prediction(uid=859, iid=2391, r_ui=3.0, est=2.7686177119522037, details={'actual_k': 40, 'was_impossible': False}),\n Prediction(uid=467, iid=2772, r_ui=3.0, est=2.881417730160158, details={'actual_k': 40, 'was_impossible': False}),\n Prediction(uid=944, iid=17309, r_ui=3.0, est=3.293450137940105, details={'actual_k': 40, 'was_impossible': False}),\n Prediction(uid=1171, iid=13217, r_ui=3.0, est=3.5218465421639435, details={'actual_k': 40, 'was_impossible': False}),\n Prediction(uid=716, iid=5561, r_ui=4.0, est=4.074388376061044, details={'actual_k': 40, 'was_impossible': False}),\n Prediction(uid=35, iid=13273, r_ui=5.0, est=3.772689957981965, details={'actual_k': 40, 'was_impossible': False}),\n Prediction(uid=1000, iid=6931, r_ui=4.0, est=3.050840589464139, details={'actual_k': 40, 'was_impossible': False}),\n Prediction(uid=933, iid=6227, r_ui=4.0, est=2.7682371914593915, details={'actual_k': 40, 'was_impossible': False}),\n Prediction(uid=165, iid=8149, r_ui=1.0, est=2.920000531013005, details={'actual_k': 40, 'was_impossible': False}),\n Prediction(uid=737, iid=2, r_ui=1.0, est=1.4223799632850969, details={'actual_k': 11, 'was_impossible': False}),\n Prediction(uid=1018, iid=12221, r_ui=4.0, est=3.748719161948051, details={'actual_k': 40, 'was_impossible': False}),\n Prediction(uid=1007, iid=2782, r_ui=5.0, est=3.3938133326757542, details={'actual_k': 40, 'was_impossible': False}),\n Prediction(uid=285, iid=6451, r_ui=2.0, est=2.9516613495986546, details={'actual_k': 40, 'was_impossible': False}),\n Prediction(uid=1159, iid=2372, r_ui=2.0, est=3.8521707773282836, details={'actual_k': 40, 'was_impossible': False}),\n Prediction(uid=55, iid=15700, r_ui=3.0, est=3.32155689255636, details={'actual_k': 40, 'was_impossible': False}),\n Prediction(uid=723, iid=12966, r_ui=4.0, est=3.276270030705925, details={'actual_k': 40, 'was_impossible': False}),\n Prediction(uid=950, iid=1451, r_ui=3.0, est=2.528741811149539, details={'actual_k': 40, 'was_impossible': False}),\n Prediction(uid=450, iid=7249, r_ui=1.0, est=2.725443368651538, details={'actual_k': 40, 'was_impossible': False}),\n Prediction(uid=278, iid=4683, r_ui=3.0, est=3.381140186421727, details={'actual_k': 40, 'was_impossible': False}),\n Prediction(uid=475, iid=681, r_ui=5.0, est=3.758293104961103, details={'actual_k': 40, 'was_impossible': False}),\n Prediction(uid=28, iid=13787, r_ui=1.0, est=2.9219462281559077, details={'actual_k': 40, 'was_impossible': False}),\n Prediction(uid=729, iid=17151, r_ui=1.0, est=2.195734993263179, details={'actual_k': 38, 'was_impossible': False}),\n Prediction(uid=878, iid=3071, r_ui=3.0, est=3.577705926037256, details={'actual_k': 40, 'was_impossible': False}),\n Prediction(uid=411, iid=14072, r_ui=3.0, est=3.4779317566350754, details={'actual_k': 40, 'was_impossible': False}),\n Prediction(uid=721, iid=13378, r_ui=4.0, est=3.41610960028543, details={'actual_k': 40, 'was_impossible': False}),\n Prediction(uid=293, iid=14504, r_ui=4.0, est=3.4316266705904663, details={'actual_k': 40, 'was_impossible': False}),\n Prediction(uid=269, iid=15381, r_ui=5.0, est=4.1755239837305, details={'actual_k': 40, 'was_impossible': False}),\n ...]"
     },
     "execution_count": 72,
     "metadata": {},
     "output_type": "execute_result"
    }
   ],
   "source": [
    "algo.test(testing_set)"
   ],
   "metadata": {
    "collapsed": false,
    "ExecuteTime": {
     "end_time": "2023-11-01T13:02:30.372022Z",
     "start_time": "2023-11-01T13:00:06.043203Z"
    }
   },
   "id": "9299f5f6bceea4ef"
  },
  {
   "cell_type": "code",
   "execution_count": 0,
   "outputs": [],
   "source": [
    "algo = SVD()\n",
    "algo.fit(training_set)"
   ],
   "metadata": {
    "collapsed": false
   },
   "id": "74da31489132fd11"
  },
  {
   "cell_type": "code",
   "execution_count": 58,
   "outputs": [
    {
     "name": "stdout",
     "output_type": "stream",
     "text": [
      "Evaluating RMSE, MAE of algorithm SVD on 5 split(s).\n",
      "\n",
      "                  Fold 1  Fold 2  Fold 3  Fold 4  Fold 5  Mean    Std     \n",
      "RMSE (testset)    0.8265  0.8260  0.8249  0.8255  0.8276  0.8261  0.0009  \n",
      "MAE (testset)     0.6337  0.6331  0.6322  0.6333  0.6348  0.6334  0.0008  \n",
      "Fit time          16.01   16.09   16.47   17.04   17.15   16.55   0.47    \n",
      "Test time         4.59    3.92    4.25    4.52    3.95    4.24    0.28    \n"
     ]
    },
    {
     "data": {
      "text/plain": "{'test_rmse': array([0.82651701, 0.82601483, 0.82488032, 0.82552365, 0.82757901]),\n 'test_mae': array([0.63369483, 0.6331331 , 0.6322071 , 0.63331327, 0.63476768]),\n 'fit_time': (16.010166883468628,\n  16.09313678741455,\n  16.471209287643433,\n  17.035928964614868,\n  17.146260023117065),\n 'test_time': (4.590903997421265,\n  3.9168550968170166,\n  4.2499918937683105,\n  4.5183117389678955,\n  3.94820499420166)}"
     },
     "execution_count": 58,
     "metadata": {},
     "output_type": "execute_result"
    }
   ],
   "source": [
    "cross_validate(algo, movie_ratings, measures=['RMSE', 'MAE'], cv=5, verbose=True)"
   ],
   "metadata": {
    "collapsed": false,
    "ExecuteTime": {
     "start_time": "2023-11-01T12:47:56.355087Z"
    }
   },
   "id": "e2fa6d68bcff5fed"
  },
  {
   "cell_type": "code",
   "execution_count": null,
   "outputs": [],
   "source": [
    "algo.predict(164, 91)"
   ],
   "metadata": {
    "collapsed": false
   },
   "id": "54e45857b4944773"
  },
  {
   "cell_type": "code",
   "execution_count": null,
   "outputs": [],
   "source": [
    "algo.test(testing_set)"
   ],
   "metadata": {
    "collapsed": false
   },
   "id": "30a3b650e903c6b0"
  },
  {
   "cell_type": "code",
   "execution_count": 30,
   "outputs": [],
   "source": [
    "def get_cosine_recommendation(user_id: int, movie_id: int, ratings):\n",
    "    similarity_matrix = cosine_similarity(ratings.fillna(0), ratings.fillna(0))\n",
    "    similarity_matrix_df = pd.DataFrame(similarity_matrix, index=ratings.index, columns=ratings.index)\n",
    "    \n",
    "    cosine_scores = similarity_matrix_df[user_id]\n",
    "    ratings_scores = ratings[movie_id]\n",
    "    ratings_scores.dropna().dot(cosine_scores[~ratings_scores.isna()]) / cosine_scores[~ratings_scores.isna()].sum()\n",
    "    return np.dot(ratings_scores.dropna(), cosine_scores[~ratings_scores.isna()]) / cosine_scores[~ratings_scores.isna()].sum()"
   ],
   "metadata": {
    "collapsed": false,
    "ExecuteTime": {
     "end_time": "2023-11-01T12:20:28.630903Z",
     "start_time": "2023-11-01T12:20:28.595034Z"
    }
   },
   "id": "fad69a41a68aa679"
  },
  {
   "cell_type": "code",
   "execution_count": 31,
   "outputs": [
    {
     "data": {
      "text/plain": "2.9026884286071177"
     },
     "execution_count": 31,
     "metadata": {},
     "output_type": "execute_result"
    }
   ],
   "source": [
    "get_cosine_recommendation(164, 91, ratings)"
   ],
   "metadata": {
    "collapsed": false,
    "ExecuteTime": {
     "end_time": "2023-11-01T12:20:43.719709Z",
     "start_time": "2023-11-01T12:20:42.555920Z"
    }
   },
   "id": "3c34ca66a0ab5687"
  }
 ],
 "metadata": {
  "kernelspec": {
   "display_name": "Python 3",
   "language": "python",
   "name": "python3"
  },
  "language_info": {
   "codemirror_mode": {
    "name": "ipython",
    "version": 2
   },
   "file_extension": ".py",
   "mimetype": "text/x-python",
   "name": "python",
   "nbconvert_exporter": "python",
   "pygments_lexer": "ipython2",
   "version": "2.7.6"
  }
 },
 "nbformat": 4,
 "nbformat_minor": 5
}
