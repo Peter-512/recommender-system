{
 "cells": [
  {
   "cell_type": "markdown",
   "source": [
    "# Recommender Systems\n",
    "\n",
    "Based on https://www.datacamp.com/tutorial/recommender-systems-python\n"
   ],
   "metadata": {
    "collapsed": false,
    "pycharm": {
     "name": "#%% md\n"
    }
   }
  },
  {
   "cell_type": "markdown",
   "source": [
    "## Import MovieLens dataset"
   ],
   "metadata": {
    "collapsed": false,
    "pycharm": {
     "name": "#%% md\n"
    }
   }
  },
  {
   "cell_type": "code",
   "execution_count": 1,
   "metadata": {
    "collapsed": true,
    "pycharm": {
     "name": "#%%\n"
    },
    "ExecuteTime": {
     "end_time": "2023-10-05T13:01:23.219942Z",
     "start_time": "2023-10-05T13:01:20.513250Z"
    }
   },
   "outputs": [
    {
     "data": {
      "text/plain": "                  columns\n0                   adult\n1   belongs_to_collection\n2                  budget\n3                  genres\n4                homepage\n5                      id\n6                 imdb_id\n7       original_language\n8          original_title\n9                overview\n10             popularity\n11            poster_path\n12   production_companies\n13   production_countries\n14           release_date\n15                revenue\n16                runtime\n17       spoken_languages\n18                 status\n19                tagline\n20                  title\n21                  video\n22           vote_average\n23             vote_count",
      "text/html": "<div>\n<style scoped>\n    .dataframe tbody tr th:only-of-type {\n        vertical-align: middle;\n    }\n\n    .dataframe tbody tr th {\n        vertical-align: top;\n    }\n\n    .dataframe thead th {\n        text-align: right;\n    }\n</style>\n<table border=\"1\" class=\"dataframe\">\n  <thead>\n    <tr style=\"text-align: right;\">\n      <th></th>\n      <th>columns</th>\n    </tr>\n  </thead>\n  <tbody>\n    <tr>\n      <th>0</th>\n      <td>adult</td>\n    </tr>\n    <tr>\n      <th>1</th>\n      <td>belongs_to_collection</td>\n    </tr>\n    <tr>\n      <th>2</th>\n      <td>budget</td>\n    </tr>\n    <tr>\n      <th>3</th>\n      <td>genres</td>\n    </tr>\n    <tr>\n      <th>4</th>\n      <td>homepage</td>\n    </tr>\n    <tr>\n      <th>5</th>\n      <td>id</td>\n    </tr>\n    <tr>\n      <th>6</th>\n      <td>imdb_id</td>\n    </tr>\n    <tr>\n      <th>7</th>\n      <td>original_language</td>\n    </tr>\n    <tr>\n      <th>8</th>\n      <td>original_title</td>\n    </tr>\n    <tr>\n      <th>9</th>\n      <td>overview</td>\n    </tr>\n    <tr>\n      <th>10</th>\n      <td>popularity</td>\n    </tr>\n    <tr>\n      <th>11</th>\n      <td>poster_path</td>\n    </tr>\n    <tr>\n      <th>12</th>\n      <td>production_companies</td>\n    </tr>\n    <tr>\n      <th>13</th>\n      <td>production_countries</td>\n    </tr>\n    <tr>\n      <th>14</th>\n      <td>release_date</td>\n    </tr>\n    <tr>\n      <th>15</th>\n      <td>revenue</td>\n    </tr>\n    <tr>\n      <th>16</th>\n      <td>runtime</td>\n    </tr>\n    <tr>\n      <th>17</th>\n      <td>spoken_languages</td>\n    </tr>\n    <tr>\n      <th>18</th>\n      <td>status</td>\n    </tr>\n    <tr>\n      <th>19</th>\n      <td>tagline</td>\n    </tr>\n    <tr>\n      <th>20</th>\n      <td>title</td>\n    </tr>\n    <tr>\n      <th>21</th>\n      <td>video</td>\n    </tr>\n    <tr>\n      <th>22</th>\n      <td>vote_average</td>\n    </tr>\n    <tr>\n      <th>23</th>\n      <td>vote_count</td>\n    </tr>\n  </tbody>\n</table>\n</div>"
     },
     "execution_count": 1,
     "metadata": {},
     "output_type": "execute_result"
    }
   ],
   "source": [
    "import pandas as pd\n",
    "\n",
    "metadata = pd.read_csv('resources/movies/movies_metadata.csv', low_memory=False)\n",
    "pd.DataFrame(metadata.columns, columns=['columns'])"
   ]
  },
  {
   "cell_type": "markdown",
   "source": [
    "## Simple Recommendation"
   ],
   "metadata": {
    "collapsed": false,
    "pycharm": {
     "name": "#%% md\n"
    }
   }
  },
  {
   "cell_type": "markdown",
   "source": [
    "$Weighted Rating = \\left({{\\bf v} \\over {\\bf v} + {\\bf m}} \\cdot R\\right) + \\left({{\\bf m} \\over {\\bf v} + {\\bf m}} \\cdot C\\right)$\n",
    "\n",
    "In the above equation,\n",
    "\n",
    "* v is the number of votes for the movie;\n",
    "* m is the minimum votes required to be listed in the chart;\n",
    "* R is the average rating of the movie;\n",
    "* C is the mean vote across the whole report."
   ],
   "metadata": {
    "collapsed": false,
    "pycharm": {
     "name": "#%% md\n"
    }
   }
  },
  {
   "cell_type": "code",
   "execution_count": 2,
   "outputs": [
    {
     "name": "stdout",
     "output_type": "stream",
     "text": [
      "Minimum Votes needed (90% percentile): 160.0 votes minimum \n",
      "Mean Vote: 5.618\n"
     ]
    }
   ],
   "source": [
    "m = metadata.vote_count.quantile(0.9)\n",
    "C = metadata.vote_average.mean()\n",
    "print(f'Minimum Votes needed (90% percentile): {m} votes minimum \\nMean Vote: {C:.3f}')\n"
   ],
   "metadata": {
    "collapsed": false,
    "pycharm": {
     "name": "#%%\n"
    },
    "ExecuteTime": {
     "end_time": "2023-10-05T13:01:27.074851Z",
     "start_time": "2023-10-05T13:01:27.063089Z"
    }
   }
  },
  {
   "cell_type": "code",
   "execution_count": 3,
   "outputs": [],
   "source": [
    "def weighted_rating(x, m=m, C=C):\n",
    "    v = x['vote_count']\n",
    "    R = x['vote_average']\n",
    "    return (v / (v + m) * R) + (m / (v + m) * C)"
   ],
   "metadata": {
    "collapsed": false,
    "pycharm": {
     "name": "#%%\n"
    },
    "ExecuteTime": {
     "end_time": "2023-10-05T13:01:28.384959Z",
     "start_time": "2023-10-05T13:01:28.374682Z"
    }
   }
  },
  {
   "cell_type": "markdown",
   "source": [
    "Filter out all movies that have less than **m** votes"
   ],
   "metadata": {
    "collapsed": false,
    "pycharm": {
     "name": "#%% md\n"
    }
   }
  },
  {
   "cell_type": "code",
   "execution_count": 4,
   "outputs": [
    {
     "data": {
      "text/plain": "(4555, 24)"
     },
     "execution_count": 4,
     "metadata": {},
     "output_type": "execute_result"
    }
   ],
   "source": [
    "q_movies = metadata.copy().loc[metadata.vote_count >= m]\n",
    "q_movies.shape\n"
   ],
   "metadata": {
    "collapsed": false,
    "pycharm": {
     "name": "#%%\n"
    },
    "ExecuteTime": {
     "end_time": "2023-10-05T13:01:30.579882Z",
     "start_time": "2023-10-05T13:01:30.563981Z"
    }
   }
  },
  {
   "cell_type": "code",
   "execution_count": 5,
   "outputs": [],
   "source": [
    "q_movies['score'] = q_movies.apply(weighted_rating, axis=1)\n",
    "# q_movies['score'] = q_movies.vote_count / (q_movies.vote_count + m) * q_movies.vote_average + (m / (q_movies.vote_count + m) * C)\n"
   ],
   "metadata": {
    "collapsed": false,
    "pycharm": {
     "name": "#%%\n"
    },
    "ExecuteTime": {
     "end_time": "2023-10-05T13:01:32.219272Z",
     "start_time": "2023-10-05T13:01:32.177321Z"
    }
   }
  },
  {
   "cell_type": "code",
   "execution_count": 6,
   "outputs": [
    {
     "data": {
      "text/plain": "                             title  vote_count  vote_average     score\n314       The Shawshank Redemption      8358.0           8.5  8.445869\n834                  The Godfather      6024.0           8.5  8.425439\n10309  Dilwale Dulhania Le Jayenge       661.0           9.1  8.421453\n12481              The Dark Knight     12269.0           8.3  8.265477\n2843                    Fight Club      9678.0           8.3  8.256385\n292                   Pulp Fiction      8670.0           8.3  8.251406\n522               Schindler's List      4436.0           8.3  8.206639\n23673                     Whiplash      4376.0           8.3  8.205404\n5481                 Spirited Away      3968.0           8.3  8.196055\n2211             Life Is Beautiful      3643.0           8.3  8.187171",
      "text/html": "<div>\n<style scoped>\n    .dataframe tbody tr th:only-of-type {\n        vertical-align: middle;\n    }\n\n    .dataframe tbody tr th {\n        vertical-align: top;\n    }\n\n    .dataframe thead th {\n        text-align: right;\n    }\n</style>\n<table border=\"1\" class=\"dataframe\">\n  <thead>\n    <tr style=\"text-align: right;\">\n      <th></th>\n      <th>title</th>\n      <th>vote_count</th>\n      <th>vote_average</th>\n      <th>score</th>\n    </tr>\n  </thead>\n  <tbody>\n    <tr>\n      <th>314</th>\n      <td>The Shawshank Redemption</td>\n      <td>8358.0</td>\n      <td>8.5</td>\n      <td>8.445869</td>\n    </tr>\n    <tr>\n      <th>834</th>\n      <td>The Godfather</td>\n      <td>6024.0</td>\n      <td>8.5</td>\n      <td>8.425439</td>\n    </tr>\n    <tr>\n      <th>10309</th>\n      <td>Dilwale Dulhania Le Jayenge</td>\n      <td>661.0</td>\n      <td>9.1</td>\n      <td>8.421453</td>\n    </tr>\n    <tr>\n      <th>12481</th>\n      <td>The Dark Knight</td>\n      <td>12269.0</td>\n      <td>8.3</td>\n      <td>8.265477</td>\n    </tr>\n    <tr>\n      <th>2843</th>\n      <td>Fight Club</td>\n      <td>9678.0</td>\n      <td>8.3</td>\n      <td>8.256385</td>\n    </tr>\n    <tr>\n      <th>292</th>\n      <td>Pulp Fiction</td>\n      <td>8670.0</td>\n      <td>8.3</td>\n      <td>8.251406</td>\n    </tr>\n    <tr>\n      <th>522</th>\n      <td>Schindler's List</td>\n      <td>4436.0</td>\n      <td>8.3</td>\n      <td>8.206639</td>\n    </tr>\n    <tr>\n      <th>23673</th>\n      <td>Whiplash</td>\n      <td>4376.0</td>\n      <td>8.3</td>\n      <td>8.205404</td>\n    </tr>\n    <tr>\n      <th>5481</th>\n      <td>Spirited Away</td>\n      <td>3968.0</td>\n      <td>8.3</td>\n      <td>8.196055</td>\n    </tr>\n    <tr>\n      <th>2211</th>\n      <td>Life Is Beautiful</td>\n      <td>3643.0</td>\n      <td>8.3</td>\n      <td>8.187171</td>\n    </tr>\n  </tbody>\n</table>\n</div>"
     },
     "execution_count": 6,
     "metadata": {},
     "output_type": "execute_result"
    }
   ],
   "source": [
    "q_movies = q_movies.sort_values('score', ascending=False)\n",
    "q_movies[['title', 'vote_count', 'vote_average', 'score']].head(10)\n"
   ],
   "metadata": {
    "collapsed": false,
    "pycharm": {
     "name": "#%%\n"
    },
    "ExecuteTime": {
     "end_time": "2023-10-05T13:01:33.494466Z",
     "start_time": "2023-10-05T13:01:33.462073Z"
    }
   }
  },
  {
   "cell_type": "code",
   "execution_count": null,
   "outputs": [],
   "source": [],
   "metadata": {
    "collapsed": false
   }
  }
 ],
 "metadata": {
  "kernelspec": {
   "display_name": "Python 3",
   "language": "python",
   "name": "python3"
  },
  "language_info": {
   "codemirror_mode": {
    "name": "ipython",
    "version": 2
   },
   "file_extension": ".py",
   "mimetype": "text/x-python",
   "name": "python",
   "nbconvert_exporter": "python",
   "pygments_lexer": "ipython2",
   "version": "2.7.6"
  }
 },
 "nbformat": 4,
 "nbformat_minor": 0
}
